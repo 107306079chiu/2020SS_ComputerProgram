{
  "nbformat": 4,
  "nbformat_minor": 0,
  "metadata": {
    "colab": {
      "name": "HWimdbRNN",
      "provenance": []
    },
    "kernelspec": {
      "name": "python3",
      "display_name": "Python 3"
    },
    "accelerator": "TPU"
  },
  "cells": [
    {
      "cell_type": "markdown",
      "metadata": {
        "id": "nCTweM8RfmAI",
        "colab_type": "text"
      },
      "source": [
        "調整：\n",
        "\n",
        "*   常用字數量降低\n",
        "*   資料長度增加\n",
        "*   dropout提高\n",
        "*   以plot呈現training data & validation accuracy"
      ]
    },
    {
      "cell_type": "code",
      "metadata": {
        "id": "XgzJQZXafYvV",
        "colab_type": "code",
        "colab": {}
      },
      "source": [
        "%matplotlib inline\n",
        "import numpy as np\n",
        "import matplotlib.pyplot as plt\n",
        "import pandas as pd\n",
        "from tensorflow.keras.preprocessing import sequence\n",
        "from tensorflow.keras.models import Sequential\n",
        "from tensorflow.keras.layers import Dense, Embedding\n",
        "from tensorflow.keras.layers import LSTM\n",
        "from tensorflow.keras.datasets import imdb"
      ],
      "execution_count": 0,
      "outputs": []
    },
    {
      "cell_type": "markdown",
      "metadata": {
        "id": "ypnOClhufpom",
        "colab_type": "text"
      },
      "source": [
        "讀入數據&整理"
      ]
    },
    {
      "cell_type": "code",
      "metadata": {
        "id": "QM8XWh0vfrob",
        "colab_type": "code",
        "outputId": "765e7544-935a-4b94-b4ab-29b134536c3a",
        "colab": {
          "base_uri": "https://localhost:8080/",
          "height": 51
        }
      },
      "source": [
        "(x_train, y_train), (x_test, y_test) = imdb.load_data(num_words=8500) #常用字數量\n",
        "x_train = sequence.pad_sequences(x_train, maxlen=150) #資料長度\n",
        "x_test = sequence.pad_sequences(x_test, maxlen=150)"
      ],
      "execution_count": 0,
      "outputs": [
        {
          "output_type": "stream",
          "text": [
            "Downloading data from https://storage.googleapis.com/tensorflow/tf-keras-datasets/imdb.npz\n",
            "17465344/17464789 [==============================] - 0s 0us/step\n"
          ],
          "name": "stdout"
        }
      ]
    },
    {
      "cell_type": "markdown",
      "metadata": {
        "id": "w8uuRdN3ftj1",
        "colab_type": "text"
      },
      "source": [
        "打造一個函數學習機"
      ]
    },
    {
      "cell_type": "code",
      "metadata": {
        "id": "Pn6ulG8PfvQL",
        "colab_type": "code",
        "outputId": "5e64733a-113f-42a2-dc57-85c549f2a462",
        "colab": {
          "base_uri": "https://localhost:8080/",
          "height": 255
        }
      },
      "source": [
        "model = Sequential()\n",
        "model.add(Embedding(10000, 256)) #輸入的時候是10000輸出是256\n",
        "model.add(LSTM(128, dropout=0.4, recurrent_dropout=0.4)) #dropout是避免背答案\n",
        "model.add(Dense(1, activation='sigmoid'))\n",
        "model.compile(loss='binary_crossentropy', optimizer='adam', metrics=['accuracy']) \n",
        "model.summary()"
      ],
      "execution_count": 0,
      "outputs": [
        {
          "output_type": "stream",
          "text": [
            "Model: \"sequential\"\n",
            "_________________________________________________________________\n",
            "Layer (type)                 Output Shape              Param #   \n",
            "=================================================================\n",
            "embedding (Embedding)        (None, None, 256)         2560000   \n",
            "_________________________________________________________________\n",
            "lstm (LSTM)                  (None, 128)               197120    \n",
            "_________________________________________________________________\n",
            "dense (Dense)                (None, 1)                 129       \n",
            "=================================================================\n",
            "Total params: 2,757,249\n",
            "Trainable params: 2,757,249\n",
            "Non-trainable params: 0\n",
            "_________________________________________________________________\n"
          ],
          "name": "stdout"
        }
      ]
    },
    {
      "cell_type": "code",
      "metadata": {
        "id": "wHuz52VKf0Qf",
        "colab_type": "code",
        "outputId": "a5fe4896-4e79-4648-d997-4d201c2f7bc0",
        "colab": {
          "base_uri": "https://localhost:8080/",
          "height": 357
        }
      },
      "source": [
        "history = model.fit(x_train, y_train, batch_size=32, epochs=10, validation_data=(x_test, y_test))"
      ],
      "execution_count": 0,
      "outputs": [
        {
          "output_type": "stream",
          "text": [
            "Epoch 1/10\n",
            "782/782 [==============================] - 480s 614ms/step - loss: 0.4336 - accuracy: 0.8004 - val_loss: 0.3759 - val_accuracy: 0.8353\n",
            "Epoch 2/10\n",
            "782/782 [==============================] - 476s 609ms/step - loss: 0.2834 - accuracy: 0.8879 - val_loss: 0.3483 - val_accuracy: 0.8642\n",
            "Epoch 3/10\n",
            "782/782 [==============================] - 476s 608ms/step - loss: 0.2060 - accuracy: 0.9187 - val_loss: 0.3345 - val_accuracy: 0.8594\n",
            "Epoch 4/10\n",
            "782/782 [==============================] - 481s 615ms/step - loss: 0.1532 - accuracy: 0.9426 - val_loss: 0.3754 - val_accuracy: 0.8552\n",
            "Epoch 5/10\n",
            "782/782 [==============================] - 485s 620ms/step - loss: 0.1654 - accuracy: 0.9340 - val_loss: 0.4353 - val_accuracy: 0.8393\n",
            "Epoch 6/10\n",
            "782/782 [==============================] - 479s 612ms/step - loss: 0.1211 - accuracy: 0.9558 - val_loss: 0.4732 - val_accuracy: 0.8600\n",
            "Epoch 7/10\n",
            "782/782 [==============================] - 476s 609ms/step - loss: 0.0735 - accuracy: 0.9756 - val_loss: 0.5516 - val_accuracy: 0.8517\n",
            "Epoch 8/10\n",
            "782/782 [==============================] - 475s 608ms/step - loss: 0.0498 - accuracy: 0.9837 - val_loss: 0.6125 - val_accuracy: 0.8505\n",
            "Epoch 9/10\n",
            "782/782 [==============================] - 487s 623ms/step - loss: 0.0517 - accuracy: 0.9825 - val_loss: 0.6436 - val_accuracy: 0.8512\n",
            "Epoch 10/10\n",
            "782/782 [==============================] - 510s 652ms/step - loss: 0.0379 - accuracy: 0.9884 - val_loss: 0.6659 - val_accuracy: 0.8532\n"
          ],
          "name": "stdout"
        }
      ]
    },
    {
      "cell_type": "markdown",
      "metadata": {
        "id": "9VOGMTHLf3GA",
        "colab_type": "text"
      },
      "source": [
        "plot the result"
      ]
    },
    {
      "cell_type": "code",
      "metadata": {
        "id": "KetTJFE8f5M1",
        "colab_type": "code",
        "outputId": "10ccf8aa-7c7a-4d43-8d0f-8950d4258534",
        "colab": {
          "base_uri": "https://localhost:8080/",
          "height": 635
        }
      },
      "source": [
        "plt.plot(history.history['accuracy'])\n",
        "plt.plot(history.history['val_accuracy'])\n",
        "plt.title('acuuracy of train and test data')\n",
        "plt.xlabel('epochs')\n",
        "plt.ylabel('percentage')\n",
        "plt.legend('train', 'validation')\n",
        "plt.show()"
      ],
      "execution_count": 0,
      "outputs": [
        {
          "output_type": "stream",
          "text": [
            "/usr/local/lib/python3.6/dist-packages/ipykernel_launcher.py:6: UserWarning: Legend does not support 't' instances.\n",
            "A proxy artist may be used instead.\n",
            "See: http://matplotlib.org/users/legend_guide.html#creating-artists-specifically-for-adding-to-the-legend-aka-proxy-artists\n",
            "  \n",
            "/usr/local/lib/python3.6/dist-packages/ipykernel_launcher.py:6: UserWarning: Legend does not support 'r' instances.\n",
            "A proxy artist may be used instead.\n",
            "See: http://matplotlib.org/users/legend_guide.html#creating-artists-specifically-for-adding-to-the-legend-aka-proxy-artists\n",
            "  \n",
            "/usr/local/lib/python3.6/dist-packages/ipykernel_launcher.py:6: UserWarning: Legend does not support 'a' instances.\n",
            "A proxy artist may be used instead.\n",
            "See: http://matplotlib.org/users/legend_guide.html#creating-artists-specifically-for-adding-to-the-legend-aka-proxy-artists\n",
            "  \n",
            "/usr/local/lib/python3.6/dist-packages/ipykernel_launcher.py:6: UserWarning: Legend does not support 'i' instances.\n",
            "A proxy artist may be used instead.\n",
            "See: http://matplotlib.org/users/legend_guide.html#creating-artists-specifically-for-adding-to-the-legend-aka-proxy-artists\n",
            "  \n",
            "/usr/local/lib/python3.6/dist-packages/ipykernel_launcher.py:6: UserWarning: Legend does not support 'n' instances.\n",
            "A proxy artist may be used instead.\n",
            "See: http://matplotlib.org/users/legend_guide.html#creating-artists-specifically-for-adding-to-the-legend-aka-proxy-artists\n",
            "  \n"
          ],
          "name": "stderr"
        },
        {
          "output_type": "display_data",
          "data": {
            "image/png": "[encoded data removed]",
            "text/plain": [
              "<Figure size 432x288 with 1 Axes>"
            ]
          },
          "metadata": {
            "tags": [],
            "needs_background": "light"
          }
        }
      ]
    }
  ]
}