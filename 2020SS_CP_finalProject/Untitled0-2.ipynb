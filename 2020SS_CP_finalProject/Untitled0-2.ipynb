{
  "nbformat": 4,
  "nbformat_minor": 0,
  "metadata": {
    "colab": {
      "name": "Untitled0.ipynb",
      "provenance": []
    },
    "kernelspec": {
      "name": "python3",
      "display_name": "Python 3"
    },
    "accelerator": "GPU"
  },
  "cells": [
    {
      "cell_type": "code",
      "metadata": {
        "id": "iOQSaBQ_EmpH",
        "colab_type": "code",
        "colab": {}
      },
      "source": [
        "import pandas as pd\n",
        "import numpy as np\n",
        "from sklearn.model_selection import train_test_split\n",
        "%matplotlib inline\n",
        "import matplotlib.pyplot as plt\n",
        "import tensorflow as tf\n",
        "from tensorflow.keras.models import Sequential\n",
        "from tensorflow.keras.optimizers import SGD\n",
        "from tensorflow.keras.preprocessing import sequence\n",
        "from tensorflow.keras.layers import Dense, Embedding\n",
        "from tensorflow.keras.layers import LSTM\n",
        "from sklearn.model_selection import train_test_split\n",
        "from sklearn.linear_model import LinearRegression"
      ],
      "execution_count": 0,
      "outputs": []
    },
    {
      "cell_type": "code",
      "metadata": {
        "id": "iAXCQpIDnKLI",
        "colab_type": "code",
        "colab": {}
      },
      "source": [
        "party = pd.read_csv('party2175.csv')\n",
        "sleep = pd.read_csv('sleep2992.csv')\n",
        "hiphop = pd.read_csv('hiphop2157.csv')\n",
        "workout = pd.read_csv('workout1904.csv')\n",
        "relax = pd.read_csv('relax2369.csv')\n",
        "focus = pd.read_csv('focus2653.csv')"
      ],
      "execution_count": 0,
      "outputs": []
    },
    {
      "cell_type": "code",
      "metadata": {
        "id": "N-TFxNB5p_iW",
        "colab_type": "code",
        "colab": {
          "base_uri": "https://localhost:8080/",
          "height": 204
        },
        "outputId": "66dad37f-8508-40c2-885c-3882dfa067d5"
      },
      "source": [
        "party.head()"
      ],
      "execution_count": 18,
      "outputs": [
        {
          "output_type": "execute_result",
          "data": {
            "text/html": [
              "<div>\n",
              "<style scoped>\n",
              "    .dataframe tbody tr th:only-of-type {\n",
              "        vertical-align: middle;\n",
              "    }\n",
              "\n",
              "    .dataframe tbody tr th {\n",
              "        vertical-align: top;\n",
              "    }\n",
              "\n",
              "    .dataframe thead th {\n",
              "        text-align: right;\n",
              "    }\n",
              "</style>\n",
              "<table border=\"1\" class=\"dataframe\">\n",
              "  <thead>\n",
              "    <tr style=\"text-align: right;\">\n",
              "      <th></th>\n",
              "      <th>tempo</th>\n",
              "      <th>liveness</th>\n",
              "      <th>instrumentalness</th>\n",
              "      <th>acousticness</th>\n",
              "      <th>speechiness</th>\n",
              "      <th>loudness</th>\n",
              "      <th>energy</th>\n",
              "      <th>danceability</th>\n",
              "    </tr>\n",
              "  </thead>\n",
              "  <tbody>\n",
              "    <tr>\n",
              "      <th>0</th>\n",
              "      <td>128.024</td>\n",
              "      <td>0.337</td>\n",
              "      <td>0.000005</td>\n",
              "      <td>0.0134</td>\n",
              "      <td>0.0424</td>\n",
              "      <td>-5.057</td>\n",
              "      <td>0.852</td>\n",
              "      <td>0.732</td>\n",
              "    </tr>\n",
              "    <tr>\n",
              "      <th>1</th>\n",
              "      <td>137.948</td>\n",
              "      <td>0.115</td>\n",
              "      <td>0.000000</td>\n",
              "      <td>0.1820</td>\n",
              "      <td>0.0608</td>\n",
              "      <td>-4.852</td>\n",
              "      <td>0.739</td>\n",
              "      <td>0.766</td>\n",
              "    </tr>\n",
              "    <tr>\n",
              "      <th>2</th>\n",
              "      <td>127.976</td>\n",
              "      <td>0.139</td>\n",
              "      <td>0.000000</td>\n",
              "      <td>0.4810</td>\n",
              "      <td>0.0421</td>\n",
              "      <td>-6.436</td>\n",
              "      <td>0.685</td>\n",
              "      <td>0.762</td>\n",
              "    </tr>\n",
              "    <tr>\n",
              "      <th>3</th>\n",
              "      <td>109.964</td>\n",
              "      <td>0.106</td>\n",
              "      <td>0.000000</td>\n",
              "      <td>0.4050</td>\n",
              "      <td>0.0804</td>\n",
              "      <td>-4.657</td>\n",
              "      <td>0.768</td>\n",
              "      <td>0.815</td>\n",
              "    </tr>\n",
              "    <tr>\n",
              "      <th>4</th>\n",
              "      <td>124.002</td>\n",
              "      <td>0.110</td>\n",
              "      <td>0.000000</td>\n",
              "      <td>0.0722</td>\n",
              "      <td>0.0319</td>\n",
              "      <td>-6.403</td>\n",
              "      <td>0.703</td>\n",
              "      <td>0.646</td>\n",
              "    </tr>\n",
              "  </tbody>\n",
              "</table>\n",
              "</div>"
            ],
            "text/plain": [
              "     tempo  liveness  instrumentalness  ...  loudness  energy  danceability\n",
              "0  128.024     0.337          0.000005  ...    -5.057   0.852         0.732\n",
              "1  137.948     0.115          0.000000  ...    -4.852   0.739         0.766\n",
              "2  127.976     0.139          0.000000  ...    -6.436   0.685         0.762\n",
              "3  109.964     0.106          0.000000  ...    -4.657   0.768         0.815\n",
              "4  124.002     0.110          0.000000  ...    -6.403   0.703         0.646\n",
              "\n",
              "[5 rows x 8 columns]"
            ]
          },
          "metadata": {
            "tags": []
          },
          "execution_count": 18
        }
      ]
    },
    {
      "cell_type": "code",
      "metadata": {
        "id": "P57KGsf4q6Ox",
        "colab_type": "code",
        "colab": {}
      },
      "source": [
        "hiphop_y = np.array([1 for x in range(len(hiphop))])\n",
        "hiphop_y = np.reshape(hiphop_y,(len(hiphop),-1))\n",
        "party_y = np.array([1 for x in range(len(party))])\n",
        "party_y = np.reshape(party_y,(len(party),-1))\n",
        "sleep_y = np.array([0 for x in range(len(sleep))])\n",
        "sleep_y = np.reshape(sleep_y,(len(sleep),-1))\n",
        "workout_y = np.array([1 for x in range(len(workout))])\n",
        "workout_y = np.reshape(workout_y,(len(workout),-1))\n",
        "relax_y = np.array([0 for x in range(len(relax))])\n",
        "relax_y = np.reshape(relax_y,(len(relax),-1))\n",
        "focus_y = np.array([0 for x in range(len(focus))])\n",
        "focus_y = np.reshape(focus_y,(len(focus),-1))"
      ],
      "execution_count": 0,
      "outputs": []
    },
    {
      "cell_type": "code",
      "metadata": {
        "id": "tliEBhKJsk2r",
        "colab_type": "code",
        "colab": {}
      },
      "source": [
        "Y = np.concatenate((party_y, sleep_y), axis=0)\n",
        "Y = np.concatenate((Y, hiphop_y), axis=0)\n",
        "Y = np.concatenate((Y, workout_y), axis=0)\n",
        "Y = np.concatenate((Y, relax_y), axis=0)\n",
        "Y = np.concatenate((Y, focus_y), axis=0)"
      ],
      "execution_count": 0,
      "outputs": []
    },
    {
      "cell_type": "code",
      "metadata": {
        "id": "f4nCJKY_8nS-",
        "colab_type": "code",
        "colab": {}
      },
      "source": [
        "from tensorflow.keras.utils import to_categorical\n",
        "Y = to_categorical(Y, 2)"
      ],
      "execution_count": 0,
      "outputs": []
    },
    {
      "cell_type": "code",
      "metadata": {
        "id": "X2Ab965juRNH",
        "colab_type": "code",
        "colab": {}
      },
      "source": [
        "X = np.concatenate((party, sleep), axis=0)\n",
        "X = np.concatenate((X, hiphop), axis=0)\n",
        "X = np.concatenate((X, workout), axis=0)\n",
        "X = np.concatenate((X, relax), axis=0)\n",
        "X = np.concatenate((X, focus), axis=0)"
      ],
      "execution_count": 0,
      "outputs": []
    },
    {
      "cell_type": "code",
      "metadata": {
        "id": "WNDT8TkZ2RlK",
        "colab_type": "code",
        "colab": {}
      },
      "source": [
        "X[0,] = X[0,]/128.024 # normaliztion\n",
        "X[1,] = X[1,]/137.94799999999998\n",
        "X[2,] = X[2,]/127.976\n",
        "X[3,] = X[3,]/109.964\n",
        "X[4,] = X[4,]/124.00200000000001\n",
        "X[5,] = X[5,]/144.974\n",
        "X[6,] = X[6,]/117.956\n",
        "X[7,] = X[7,]/112.02"
      ],
      "execution_count": 0,
      "outputs": []
    },
    {
      "cell_type": "code",
      "metadata": {
        "id": "0K3saA58zidm",
        "colab_type": "code",
        "colab": {
          "base_uri": "https://localhost:8080/",
          "height": 153
        },
        "outputId": "6b55a15b-84f2-40e1-90d7-90ca0b5cba47"
      },
      "source": [
        "a = 0\n",
        "while a in range(8):\n",
        "  print(np.max(X[a, ]))\n",
        "  a = a+1"
      ],
      "execution_count": 26,
      "outputs": [
        {
          "output_type": "stream",
          "text": [
            "1.0\n",
            "1.0\n",
            "1.0\n",
            "1.0\n",
            "1.0\n",
            "1.0\n",
            "1.0\n",
            "1.0\n"
          ],
          "name": "stdout"
        }
      ]
    },
    {
      "cell_type": "code",
      "metadata": {
        "id": "zYIYtVefuiIU",
        "colab_type": "code",
        "colab": {}
      },
      "source": [
        "x_train, x_test, y_train, y_test = train_test_split(X,Y, test_size = 0.1, random_state = 87)"
      ],
      "execution_count": 0,
      "outputs": []
    },
    {
      "cell_type": "code",
      "metadata": {
        "id": "7VkL7Gtturvd",
        "colab_type": "code",
        "colab": {
          "base_uri": "https://localhost:8080/",
          "height": 255
        },
        "outputId": "579db77b-ce76-429b-c21f-3171aa7b5d0b"
      },
      "source": [
        "model = Sequential()\n",
        "model.add(Dense(30, input_dim = 8, activation = 'relu'))\n",
        "model.add(Dense(30, activation = 'relu'))\n",
        "model.add(Dense(2, activation = 'softmax'))\n",
        "\n",
        "#組裝\n",
        "model.compile(loss = 'mse', optimizer = SGD(lr = 0.09), metrics = ['accuracy'])\n",
        "model.summary()\n"
      ],
      "execution_count": 29,
      "outputs": [
        {
          "output_type": "stream",
          "text": [
            "Model: \"sequential_2\"\n",
            "_________________________________________________________________\n",
            "Layer (type)                 Output Shape              Param #   \n",
            "=================================================================\n",
            "dense_6 (Dense)              (None, 30)                270       \n",
            "_________________________________________________________________\n",
            "dense_7 (Dense)              (None, 30)                930       \n",
            "_________________________________________________________________\n",
            "dense_8 (Dense)              (None, 2)                 62        \n",
            "=================================================================\n",
            "Total params: 1,262\n",
            "Trainable params: 1,262\n",
            "Non-trainable params: 0\n",
            "_________________________________________________________________\n"
          ],
          "name": "stdout"
        }
      ]
    },
    {
      "cell_type": "code",
      "metadata": {
        "id": "DdFrE__mu62p",
        "colab_type": "code",
        "colab": {
          "base_uri": "https://localhost:8080/",
          "height": 717
        },
        "outputId": "f1bce921-1078-42c4-afb1-b7707c1a3a9a"
      },
      "source": [
        "history = model.fit(x_train, y_train, batch_size=10, epochs=20, validation_data=(x_test, y_test))"
      ],
      "execution_count": 30,
      "outputs": [
        {
          "output_type": "stream",
          "text": [
            "Epoch 1/20\n",
            "1283/1283 [==============================] - 3s 2ms/step - loss: 0.5620 - accuracy: 0.4381 - val_loss: 0.5692 - val_accuracy: 0.4309\n",
            "Epoch 2/20\n",
            "1283/1283 [==============================] - 3s 2ms/step - loss: 0.5617 - accuracy: 0.4384 - val_loss: 0.5692 - val_accuracy: 0.4309\n",
            "Epoch 3/20\n",
            "1283/1283 [==============================] - 3s 2ms/step - loss: 0.5617 - accuracy: 0.4384 - val_loss: 0.5692 - val_accuracy: 0.4309\n",
            "Epoch 4/20\n",
            "1283/1283 [==============================] - 3s 2ms/step - loss: 0.5615 - accuracy: 0.4384 - val_loss: 0.5636 - val_accuracy: 0.4365\n",
            "Epoch 5/20\n",
            "1283/1283 [==============================] - 3s 2ms/step - loss: 0.5569 - accuracy: 0.4432 - val_loss: 0.5636 - val_accuracy: 0.4365\n",
            "Epoch 6/20\n",
            "1283/1283 [==============================] - 3s 2ms/step - loss: 0.5569 - accuracy: 0.4432 - val_loss: 0.5636 - val_accuracy: 0.4365\n",
            "Epoch 7/20\n",
            "1283/1283 [==============================] - 3s 2ms/step - loss: 0.5569 - accuracy: 0.4432 - val_loss: 0.5636 - val_accuracy: 0.4365\n",
            "Epoch 8/20\n",
            "1283/1283 [==============================] - 3s 2ms/step - loss: 0.5569 - accuracy: 0.4432 - val_loss: 0.5636 - val_accuracy: 0.4365\n",
            "Epoch 9/20\n",
            "1283/1283 [==============================] - 3s 2ms/step - loss: 0.5569 - accuracy: 0.4432 - val_loss: 0.5636 - val_accuracy: 0.4365\n",
            "Epoch 10/20\n",
            "1283/1283 [==============================] - 3s 2ms/step - loss: 0.5569 - accuracy: 0.4432 - val_loss: 0.5636 - val_accuracy: 0.4365\n",
            "Epoch 11/20\n",
            "1283/1283 [==============================] - 3s 2ms/step - loss: 0.5569 - accuracy: 0.4432 - val_loss: 0.5636 - val_accuracy: 0.4365\n",
            "Epoch 12/20\n",
            "1283/1283 [==============================] - 3s 2ms/step - loss: 0.5569 - accuracy: 0.4432 - val_loss: 0.5636 - val_accuracy: 0.4365\n",
            "Epoch 13/20\n",
            "1283/1283 [==============================] - 3s 2ms/step - loss: 0.5568 - accuracy: 0.4432 - val_loss: 0.5636 - val_accuracy: 0.4365\n",
            "Epoch 14/20\n",
            "1283/1283 [==============================] - 3s 2ms/step - loss: 0.5568 - accuracy: 0.4432 - val_loss: 0.5636 - val_accuracy: 0.4365\n",
            "Epoch 15/20\n",
            "1283/1283 [==============================] - 3s 2ms/step - loss: 0.5568 - accuracy: 0.4432 - val_loss: 0.5636 - val_accuracy: 0.4365\n",
            "Epoch 16/20\n",
            "1283/1283 [==============================] - 3s 2ms/step - loss: 0.5568 - accuracy: 0.4432 - val_loss: 0.5636 - val_accuracy: 0.4365\n",
            "Epoch 17/20\n",
            "1283/1283 [==============================] - 3s 2ms/step - loss: 0.5568 - accuracy: 0.4432 - val_loss: 0.5636 - val_accuracy: 0.4365\n",
            "Epoch 18/20\n",
            "1283/1283 [==============================] - 3s 2ms/step - loss: 0.5568 - accuracy: 0.4432 - val_loss: 0.5635 - val_accuracy: 0.4365\n",
            "Epoch 19/20\n",
            "1283/1283 [==============================] - 3s 2ms/step - loss: 0.5568 - accuracy: 0.4432 - val_loss: 0.5635 - val_accuracy: 0.4365\n",
            "Epoch 20/20\n",
            "1283/1283 [==============================] - 3s 2ms/step - loss: 0.5568 - accuracy: 0.4432 - val_loss: 0.5635 - val_accuracy: 0.4365\n"
          ],
          "name": "stdout"
        }
      ]
    },
    {
      "cell_type": "code",
      "metadata": {
        "id": "lCLtDkkq5UWr",
        "colab_type": "code",
        "colab": {
          "base_uri": "https://localhost:8080/",
          "height": 221
        },
        "outputId": "4707dc64-699b-4f3b-b267-14b8f1d09992"
      },
      "source": [
        "from keras.models import Sequential\n",
        "from keras.layers import Dense\n",
        "model1=Sequential()\n",
        "model1.add(Dense(units=256, input_dim=8, kernel_initializer='normal',  activation='relu'))\n",
        "model1.add(Dense(units=2, kernel_initializer='normal',  activation='softmax'))   \n",
        "model1.summary()   "
      ],
      "execution_count": 33,
      "outputs": [
        {
          "output_type": "stream",
          "text": [
            "Model: \"sequential_2\"\n",
            "_________________________________________________________________\n",
            "Layer (type)                 Output Shape              Param #   \n",
            "=================================================================\n",
            "dense_3 (Dense)              (None, 256)               2304      \n",
            "_________________________________________________________________\n",
            "dense_4 (Dense)              (None, 2)                 514       \n",
            "=================================================================\n",
            "Total params: 2,818\n",
            "Trainable params: 2,818\n",
            "Non-trainable params: 0\n",
            "_________________________________________________________________\n"
          ],
          "name": "stdout"
        }
      ]
    },
    {
      "cell_type": "code",
      "metadata": {
        "id": "rYvaiE8G5y8M",
        "colab_type": "code",
        "colab": {
          "base_uri": "https://localhost:8080/",
          "height": 374
        },
        "outputId": "d4e5f04e-41b8-4968-fec3-a285279586e5"
      },
      "source": [
        "model1.compile(loss='categorical_crossentropy', optimizer='adam',metrics=['accuracy'])  \n",
        "train_history=model1.fit(X,Y,\n",
        "                         validation_split=0.2, epochs=10, \n",
        "                         batch_size=20, verbose=2)  "
      ],
      "execution_count": 35,
      "outputs": [
        {
          "output_type": "stream",
          "text": [
            "Train on 11400 samples, validate on 2850 samples\n",
            "Epoch 1/10\n",
            " - 1s - loss: 0.2040 - accuracy: 0.9244 - val_loss: 0.0896 - val_accuracy: 0.9596\n",
            "Epoch 2/10\n",
            " - 1s - loss: 0.2042 - accuracy: 0.9259 - val_loss: 0.1212 - val_accuracy: 0.9463\n",
            "Epoch 3/10\n",
            " - 1s - loss: 0.2031 - accuracy: 0.9227 - val_loss: 0.1784 - val_accuracy: 0.9168\n",
            "Epoch 4/10\n",
            " - 1s - loss: 0.1976 - accuracy: 0.9268 - val_loss: 0.1545 - val_accuracy: 0.9281\n",
            "Epoch 5/10\n",
            " - 1s - loss: 0.1959 - accuracy: 0.9273 - val_loss: 0.1156 - val_accuracy: 0.9505\n",
            "Epoch 6/10\n",
            " - 1s - loss: 0.1962 - accuracy: 0.9260 - val_loss: 0.1911 - val_accuracy: 0.9175\n",
            "Epoch 7/10\n",
            " - 1s - loss: 0.1950 - accuracy: 0.9265 - val_loss: 0.0734 - val_accuracy: 0.9667\n",
            "Epoch 8/10\n",
            " - 1s - loss: 0.1930 - accuracy: 0.9257 - val_loss: 0.1025 - val_accuracy: 0.9568\n",
            "Epoch 9/10\n",
            " - 1s - loss: 0.1949 - accuracy: 0.9247 - val_loss: 0.1158 - val_accuracy: 0.9509\n",
            "Epoch 10/10\n",
            " - 1s - loss: 0.1903 - accuracy: 0.9282 - val_loss: 0.1177 - val_accuracy: 0.9498\n"
          ],
          "name": "stdout"
        }
      ]
    },
    {
      "cell_type": "code",
      "metadata": {
        "id": "nlbU55I2GCtU",
        "colab_type": "code",
        "colab": {}
      },
      "source": [
        "#show_train_history.py\n",
        "from keras.datasets import mnist\n",
        "from keras.models import Sequential\n",
        "from keras.layers import Dense\n",
        "from keras.utils import np_utils\n",
        "import matplotlib.pyplot as plt\n",
        "import numpy as np"
      ],
      "execution_count": 0,
      "outputs": []
    },
    {
      "cell_type": "code",
      "metadata": {
        "id": "_I4_uniVGNCs",
        "colab_type": "code",
        "colab": {}
      },
      "source": [
        "def show_train_history(train_history):\n",
        "    fig=plt.gcf()\n",
        "    fig.set_size_inches(16, 6)\n",
        "    plt.subplot(121)\n",
        "    plt.plot(train_history.history[\"accuracy\"])\n",
        "    plt.plot(train_history.history[\"val_accuracy\"])\n",
        "    plt.title(\"Train History\")\n",
        "    plt.xlabel(\"Epoch\")\n",
        "    plt.ylabel(\"Accuracy\")\n",
        "    plt.legend([\"train\", \"validation\"], loc=\"upper left\")\n",
        "    plt.subplot(122)\n",
        "    plt.plot(train_history.history[\"loss\"])\n",
        "    plt.plot(train_history.history[\"val_loss\"])\n",
        "    plt.title(\"Train History\")\n",
        "    plt.xlabel(\"Epoch\")\n",
        "    plt.ylabel(\"Loss\")\n",
        "    plt.legend([\"train\", \"validation\"], loc=\"upper left\")\n",
        "    plt.show()"
      ],
      "execution_count": 0,
      "outputs": []
    },
    {
      "cell_type": "code",
      "metadata": {
        "id": "S1Yj4b8uHkfp",
        "colab_type": "code",
        "colab": {
          "base_uri": "https://localhost:8080/",
          "height": 379
        },
        "outputId": "4a5d134c-6288-49c0-9cfc-871bd8e8a398"
      },
      "source": [
        "show_train_history(train_history)"
      ],
      "execution_count": 41,
      "outputs": [
        {
          "output_type": "display_data",
          "data": {
            "image/png": "[encoded data removed]",
            "text/plain": [
              "<Figure size 1152x432 with 2 Axes>"
            ]
          },
          "metadata": {
            "tags": [],
            "needs_background": "light"
          }
        }
      ]
    }
  ]
}