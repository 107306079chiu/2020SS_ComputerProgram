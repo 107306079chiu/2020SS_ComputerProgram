{
  "nbformat": 4,
  "nbformat_minor": 0,
  "metadata": {
    "colab": {
      "name": "計算機程式期末_音樂分析.ipynb",
      "provenance": [],
      "collapsed_sections": [],
      "toc_visible": true
    },
    "kernelspec": {
      "name": "python3",
      "display_name": "Python 3"
    },
    "accelerator": "GPU"
  },
  "cells": [
    {
      "cell_type": "markdown",
      "metadata": {
        "id": "oL4gUVuW8Rje",
        "colab_type": "text"
      },
      "source": [
        "\n",
        "請解釋專案中的 MLP 為何？通常CNN用來處理圖片，請詳細解釋在這邊想要使用CNN的原因。\n",
        "\n",
        "MLP，Multi-layer Perceptron，是全連結神經網路，一般在CNN後面會接上MLP作為分類器。在專案中的原始輸入資料為8項獨立的數值，並沒有空間上的關聯性或特徵，故最原始的想法為使用MLP即可進行快速簡單的分類。後來想將專案內容與上課所學做連結，發想將資料特徵轉為圖片的形式，再以CNN進行訓練與學習，但是過程中有技術上的失誤，導致專案最終的進行僅為兩種不同權重的MLP在進行訓練，造成此誤會以及專案的不完整，致上萬分歉意。\n"
      ]
    },
    {
      "cell_type": "markdown",
      "metadata": {
        "id": "aK4Ek_qI6r_Q",
        "colab_type": "text"
      },
      "source": [
        "###**計算機程式期末-音樂分析**\n",
        "---\n",
        "一、介紹：\n",
        "*   組員與分工介紹\n",
        "*   題目動機與內容\n",
        "*   進行的流程介紹\n",
        "\n",
        "二、實際進行：\n",
        "1.   資料來源\n",
        "2.   讀入相關套件\n",
        "1.   讀入資料集&整理成訓練和測試資料\n",
        "2.   建立模型並訓練\n",
        "1.   資料視覺化\n",
        "2.   結語\n",
        "---\n"
      ]
    },
    {
      "cell_type": "markdown",
      "metadata": {
        "id": "g0ICPAZFHkZQ",
        "colab_type": "text"
      },
      "source": [
        "####一、\n",
        "#### 組員/分工：\n",
        "1.   統計二 107304018 林盈盈 / 資料處理、簡報設計\n",
        "2.   統計二 107304025 王嬿筑 / 視覺處理\n",
        "3.   資管二 107306033 楊如瀅 / 資料處理、建立模型\n",
        "4.   資管二 107306079 邱聖雅 / 資料處理、建立模型\n",
        "\n",
        "#### 題目發想：\n",
        "\n",
        "平常上學或是上班時，讓人最痛苦也最重要的莫過於努力把自己從睡夢中叫醒。然而常常很多人睡太好，處在一個很深眠的狀況，導致忽視或沒有聽到自己的鬧鐘的慘劇層出不窮。因此我們想到，若可以依照在要醒來的前一刻身體的睡眠週期來判斷叫醒一個人需要的鈴聲強度，應該可以有效率的解決很多人睡過頭的問題。\n",
        "\n",
        "例如在睡眠週期第一階段的人可以提供較緩和的鈴聲，因為這樣能叫醒該使用者又不會對耳朵造成太大的負擔。而在睡眠週期第三階段，睡得比較沉穩的人，則可以使用讓人較不放鬆的鈴聲，成功達到鈴聲的功用。\n",
        "\n",
        "整個主題可以分為兩個部分，首先是得知使用者的睡眠現況，例如他現在是屬於睡眠的哪個階段（包括第一、二、三階段與快速眼動睡眠期，而以每個晚上以一個睡8小時的成年人來說，會經歷4﹣6次的階段循環），再來是根據睡眠的階段推薦最有效率喚醒睡眠者的鬧鐘聲音，我們在專題內將進行辨識鬧鐘聲音的訓練。\n",
        "\n",
        "所以輸入一首歌，訓練好的模型會輸出該首歌曲是否為助眠音樂，達到反指標的效應，深眠的人需要的就是最不助眠的音樂。\n",
        "\n",
        "#### 流程介紹：\n",
        "1資料搜集→2資料整理→3模型訓練→4結果\n",
        "\n",
        "\n",
        "1.   spotify上有數量龐大、依照音樂特性分類的playlist，其中分類包含助眠、派對等等，而spotify也開放開發者從官方的web api抓取所需的音樂相關資料，例如一個創作者所有的歌曲、一個歌曲的某些特徵數值等等。故資料搜集為透過spotify web api抓取主題相關歌曲數值。\n",
        "2.   抓取的主題相關歌曲包含助眠、放鬆、派對、運動等，並且逐一加上label，共有15,000筆。\n",
        "1.   輸入的資料型態為多項特徵值與對應標籤，我們以CNN和MLP兩種不同學習模式進行訓練。\n",
        "2.   結果\n",
        "\n",
        "---"
      ]
    },
    {
      "cell_type": "markdown",
      "metadata": {
        "id": "dyfkKr8x3g3_",
        "colab_type": "text"
      },
      "source": [
        "#### 二、\n",
        "#### 1. 資料來源\n",
        "*   https://developer.spotify.com/documentation/web-api/ 是spotify官方提供給開發者取用資料的平台，而我們透過python library 中的spotipy(https://spotipy.readthedocs.io/en/2.12.0/ )抓取資料並存取為csv檔作為後續使用。\n",
        "*   每一首歌會有20個attributes，我們去除id, artist, url等和音樂性質較不相關的特性，擷取其中的tempo\t, liveness,\tinstrumentalness,\tacousticness,\tspeechiness,\tloudness,\tenergy,\tdanceability，共8項作為分析一首歌的主要項目。首先透過特定主題playlist獲得其中每首歌的id，後透過id獲得該首歌曲的attributes。\n",
        "\n",
        "*   我們抓取眾多已由spotify分類好的playlist為訓練和測試資料，分為助眠和不助眠的音樂，資料數為15,000筆左右。\n",
        "*   將以下抓取資料用code註解起來的原因是colab上無法使用spotipy中spotify帳號授權過程的彈出視窗，故以sublime和terminal執行。\n",
        "\n",
        "\n",
        "\n"
      ]
    },
    {
      "cell_type": "code",
      "metadata": {
        "id": "UWc12ZLTHYpS",
        "colab_type": "code",
        "outputId": "bfd4d174-37d9-45cc-9bf4-453e20b42566",
        "colab": {
          "base_uri": "https://localhost:8080/",
          "height": 54
        }
      },
      "source": [
        "'''\n",
        "#取得spotify上歌曲資料的相關套件\n",
        "import pandas as pd\n",
        "import numpy as np\n",
        "import spotipy\n",
        "import spotipy.util as util\n",
        "import sys\n",
        "from spotipy.oauth2 import SpotifyClientCredentials\n",
        "\n",
        "# account information\n",
        "user_id = 'q5wi1zj0t7tuwnx1j52u7sat5' #Spotify上帳號的ID\n",
        "#Spotify  for Development的ID\n",
        "client_id = 'c391b08e6b2e4ddf9bb1b6deca0ee2dc' \n",
        "client_secret = 'd6e1596ce9ec4ce1bcc02db48639a24e'\n",
        "# authorization\n",
        "\n",
        "\n",
        "token = util.prompt_for_user_token(user_id,\n",
        "                                   'playlist-read-collaborative',\n",
        "                                   client_id=client_id,\n",
        "                                   client_secret=client_secret,\n",
        "                                   redirect_uri='http://127.0.0.1:1222'\n",
        "\n",
        "                                   )\n",
        "sp = spotipy.Spotify(auth=token)\n",
        "\n",
        "\n",
        "# getting tracks in a playlist\n",
        "playlist = sp.user_playlist(user_id, '37i9dQZF1DWTIcwQEMKk2L') # 要爬曲歌單的playlist ID\n",
        "# 將playlist中每一首歌的資料(id,artist,name)解析出來\n",
        "tracks_df = pd.DataFrame([(track['track']['id'],\n",
        "                           track['track']['artists'][0]['name'],\n",
        "                           track['track']['name'],                   \n",
        "                          )\n",
        "                          for track in playlist['tracks']['items']],\n",
        "                             columns=['id', 'artist', 'name'] )\n",
        "# 將playlist中所有歌曲的features分析出來\n",
        "features = []\n",
        "for n, chunk_series in tracks_df.groupby(np.arange(len(tracks_df)) // 50).id:\n",
        "    features += sp.audio_features([*map(str, chunk_series)])\n",
        "features_df = pd.DataFrame.from_dict(filter(None, features))\n",
        "tracks_with_features_df = tracks_df.merge(features_df, on=['id'], how='inner')\n",
        "'''\n",
        "# try getting many playlists at once \n",
        "'''\n",
        "# sleep playlist 2992\n",
        "a = 0\n",
        "xx1 = np.array([]) \n",
        "xx2 = np.array([]) \n",
        "sleepPlaylist = ['37i9dQZF1DWTIcwQEMKk2L', '37i9dQZF1DWTlKxC5XMcbx', '37i9dQZF1DWZd79rJ6a7lp', \n",
        "'37i9dQZF1DX4sWSpwq3LiO', '37i9dQZF1DX0DxcHtn4Hwo', '37i9dQZF1DWVsXD88oyxvI', '37i9dQZF1DWX5zQ3IhNyvj',\n",
        "'37i9dQZF1DX03b46zi3S82', '37i9dQZF1DX42o4SsMqqwn', '37i9dQZF1DX6mXxqnWLIPb', '37i9dQZF1DXcCnTAt8CfNe',\n",
        "'37i9dQZF1DXbADqT0j1Cxt', '37i9dQZF1DXa1rZf8gLhyz', '37i9dQZF1DX8Sz1gsYZdwj', '37i9dQZF1DWV5BKo4w4oDg',\n",
        "'37i9dQZF1DXbcPC6Vvqudd', '37i9dQZF1DXdJ5OFSzWeCS', '37i9dQZF1DWT0G9IZIf2WF', '37i9dQZF1DX8skPjZYk8mL', \n",
        "'37i9dQZF1DWUAeTOoyNaqm', '37i9dQZF1DX9if5QDLdzCa', '37i9dQZF1DXdbkmlag2h7b', '37i9dQZF1DWUKPeBypcpcP', \n",
        "'37i9dQZF1DX1n9whBbBKoL', '37i9dQZF1DWSiZVO2J6WeI', '37i9dQZF1DWXVDbSwjxsVN', '37i9dQZF1DXabJG3i5q2yk', \n",
        "'37i9dQZF1DX8gJ2FqE753V', '37i9dQZF1DWXzR2GKEiHgT', '37i9dQZF1DWXIrropGBmnR', '37i9dQZF1DWXjlftzHjTQ5', \n",
        "'37i9dQZF1DWVEt8B7a1H1M', '37i9dQZF1DX2mFmJUZg4Mp', '37i9dQZF1DX2y5WZJJL4SF', '37i9dQZF1DX4aYNO8X5RpR', \n",
        "'37i9dQZF1DWZhzMp90Opmn', '37i9dQZF1DWWtqHeytOZ8f', '37i9dQZF1DXbZmKskFbVct', '37i9dQZF1DX9QSrZ8cQbyd', \n",
        "'37i9dQZF1DX3WdioUzkg8I', '37i9dQZF1DWWSads6V2oIk', '37i9dQZF1DX8h3zQNo57xG', '37i9dQZF1DX0gdPaTnsXKL', \n",
        "'37i9dQZF1DX9NmDLwNQnXE', '37i9dQZF1DXb6LkIGouseT', '37i9dQZF1DX0ES2mnOVvai', '37i9dQZF1DWTSIF6WEosDG']\n",
        "\n",
        "\n",
        "while a < len(sleepPlaylist):\n",
        "\n",
        "\tplaylist = sp.user_playlist(user_id, sleepPlaylist[a])\n",
        "\ttracks_df = pd.DataFrame([(track['track']['id'],\n",
        "                           track['track']['artists'][0]['name'],\n",
        "                           track['track']['name'],                   \n",
        "                          )\n",
        "                          for track in playlist['tracks']['items']],\n",
        "                             columns=['id', 'artist', 'name'] )\n",
        "\tfeatures = []\n",
        "\tfor n, chunk_series in tracks_df.groupby(np.arange(len(tracks_df)) // 50).id:\n",
        "\t\tfeatures += sp.audio_features([*map(str, chunk_series)])\n",
        "\tfeatures_df = pd.DataFrame.from_dict(filter(None, features))\n",
        "\ttracks_with_features_df = tracks_df.merge(features_df, on=['id'], how='inner')\n",
        "\tart = tracks_with_features_df.artist.values\n",
        "\tener = tracks_with_features_df.energy.values\n",
        "\tart.shape = (len(tracks_with_features_df), 1)\n",
        "\tener.shape = (len(tracks_with_features_df), 1)\n",
        "\n",
        "\ttem = tracks_with_features_df.tempo.values\n",
        "\ttem.shape = (len(tracks_with_features_df), 1)\n",
        "\tliv = tracks_with_features_df.liveness.values\n",
        "\tliv.shape = (len(tracks_with_features_df), 1)\n",
        "\tinst = tracks_with_features_df.instrumentalness.values\n",
        "\tinst.shape = (len(tracks_with_features_df), 1)\t\n",
        "\tacou = tracks_with_features_df.acousticness.values\n",
        "\tacou.shape = (len(tracks_with_features_df), 1)\n",
        "\tspe = tracks_with_features_df.speechiness.values\n",
        "\tspe.shape = (len(tracks_with_features_df), 1)\n",
        "\tloud = tracks_with_features_df.loudness.values\n",
        "\tloud.shape = (len(tracks_with_features_df), 1)\n",
        "\tener = tracks_with_features_df.energy.values\n",
        "\tener.shape = (len(tracks_with_features_df), 1)\n",
        "\tdan = tracks_with_features_df.danceability.values\n",
        "\tdan.shape = (len(tracks_with_features_df), 1)\n",
        "\n",
        "\tif a == 0:\n",
        "\t\txx1 = np.append(tem, liv, axis = 1)\n",
        "\t\txx1 = np.append(xx1, inst, axis = 1)\n",
        "\t\txx1 = np.append(xx1, acou, axis = 1)\n",
        "\t\txx1 = np.append(xx1, spe, axis = 1)\n",
        "\t\txx1 = np.append(xx1, loud, axis = 1)\n",
        "\t\txx1 = np.append(xx1, ener, axis = 1)\n",
        "\t\txx1 = np.append(xx1, dan, axis = 1)\n",
        "\telse:\n",
        "\t\txx2 = np.append(tem, liv, axis = 1)\n",
        "\t\txx2 = np.append(xx2, inst, axis = 1)\n",
        "\t\txx2 = np.append(xx2, acou, axis = 1)\n",
        "\t\txx2 = np.append(xx2, spe, axis = 1)\n",
        "\t\txx2 = np.append(xx2, loud, axis = 1)\n",
        "\t\txx2 = np.append(xx2, ener, axis = 1)\n",
        "\t\txx2 = np.append(xx2, dan, axis = 1)\n",
        "\n",
        "\t\txx1 = np.concatenate((xx1, xx2), axis=0)\n",
        "\ta+=1\n",
        "print(len(xx1))\n",
        "print(xx1)\n",
        "\n",
        "import csv\n",
        "\n",
        "with open('./sleep2992.csv', 'w', newline='') as csvfile:\n",
        "\twriter  = csv.writer(csvfile)\n",
        "\twriter.writerow(['tempo','liveness','instrumentalness','acousticness','speechiness',\n",
        "\t\t'loudness','energy','danceability'])\n",
        "\tfor row in xx1:\n",
        "\t\twriter.writerow(row)\n",
        "\n",
        "'''\n",
        "\n",
        "# party playlist 2175\n",
        "'''\n",
        "a = 0\n",
        "xx1 = np.array([]) \n",
        "xx2 = np.array([]) \n",
        "sleepㄏ\n",
        "\n",
        "\n",
        "while a < len(sleepPlaylist):\n",
        "\n",
        "\tplaylist = sp.user_playlist(user_id, sleepPlaylist[a])\n",
        "\ttracks_df = pd.DataFrame([(track['track']['id'],\n",
        "                           track['track']['artists'][0]['name'],\n",
        "                           track['track']['name'],                   \n",
        "                          )\n",
        "                          for track in playlist['tracks']['items']],\n",
        "                             columns=['id', 'artist', 'name'] )\n",
        "\tfeatures = []\n",
        "\tfor n, chunk_series in tracks_df.groupby(np.arange(len(tracks_df)) // 50).id:\n",
        "\t\tfeatures += sp.audio_features([*map(str, chunk_series)])\n",
        "\tfeatures_df = pd.DataFrame.from_dict(filter(None, features))\n",
        "\ttracks_with_features_df = tracks_df.merge(features_df, on=['id'], how='inner')\n",
        "\tart = tracks_with_features_df.artist.values\n",
        "\tener = tracks_with_features_df.energy.values\n",
        "\tart.shape = (len(tracks_with_features_df), 1)\n",
        "\tener.shape = (len(tracks_with_features_df), 1)\n",
        "\n",
        "\ttem = tracks_with_features_df.tempo.values\n",
        "\ttem.shape = (len(tracks_with_features_df), 1)\n",
        "\tliv = tracks_with_features_df.liveness.values\n",
        "\tliv.shape = (len(tracks_with_features_df), 1)\n",
        "\tinst = tracks_with_features_df.instrumentalness.values\n",
        "\tinst.shape = (len(tracks_with_features_df), 1)\t\n",
        "\tacou = tracks_with_features_df.acousticness.values\n",
        "\tacou.shape = (len(tracks_with_features_df), 1)\n",
        "\tspe = tracks_with_features_df.speechiness.values\n",
        "\tspe.shape = (len(tracks_with_features_df), 1)\n",
        "\tloud = tracks_with_features_df.loudness.values\n",
        "\tloud.shape = (len(tracks_with_features_df), 1)\n",
        "\tener = tracks_with_features_df.energy.values\n",
        "\tener.shape = (len(tracks_with_features_df), 1)\n",
        "\tdan = tracks_with_features_df.danceability.values\n",
        "\tdan.shape = (len(tracks_with_features_df), 1)\n",
        "\n",
        "\tif a == 0:\n",
        "\t\txx1 = np.append(tem, liv, axis = 1)\n",
        "\t\txx1 = np.append(xx1, inst, axis = 1)\n",
        "\t\txx1 = np.append(xx1, acou, axis = 1)\n",
        "\t\txx1 = np.append(xx1, spe, axis = 1)\n",
        "\t\txx1 = np.append(xx1, loud, axis = 1)\n",
        "\t\txx1 = np.append(xx1, ener, axis = 1)\n",
        "\t\txx1 = np.append(xx1, dan, axis = 1)\n",
        "\telse:\n",
        "\t\txx2 = np.append(tem, liv, axis = 1)\n",
        "\t\txx2 = np.append(xx2, inst, axis = 1)\n",
        "\t\txx2 = np.append(xx2, acou, axis = 1)\n",
        "\t\txx2 = np.append(xx2, spe, axis = 1)\n",
        "\t\txx2 = np.append(xx2, loud, axis = 1)\n",
        "\t\txx2 = np.append(xx2, ener, axis = 1)\n",
        "\t\txx2 = np.append(xx2, dan, axis = 1)\n",
        "\n",
        "\t\txx1 = np.concatenate((xx1, xx2), axis=0)\n",
        "\ta+=1\n",
        "print(len(xx1))\n",
        "print(xx1)\n",
        "\n",
        "import csv\n",
        "\n",
        "with open('./party2175.csv', 'w', newline='') as csvfile:\n",
        "\twriter  = csv.writer(csvfile)\n",
        "\twriter.writerow(['tempo','liveness','instrumentalness','acousticness','speechiness',\n",
        "\t\t'loudness','energy','danceability'])\n",
        "\tfor row in xx1:\n",
        "\t\twriter.writerow(row)\n",
        "'''\n",
        "\n",
        "# workout playlist 2175\n",
        "'''\n",
        "a = 0\n",
        "xx1 = np.array([]) \n",
        "xx2 = np.array([]) \n",
        "sleepPlaylist = ['37i9dQZF1DX3ZeFHRhhi7Y', '37i9dQZF1DX70RN3TfWWJh', '37i9dQZF1DXdxcBWuJkbcy', \n",
        "'37i9dQZF1DX76Wlfdnj7AP', '37i9dQZF1DXadOVCgGhS7j', '37i9dQZF1DWSJHnPb1f0X3', '37i9dQZF1DX9BXb6GsGCLl',\n",
        "'37i9dQZF1DX32NsLKyzScr', '37i9dQZF1DX4eRPd9frC1m', '37i9dQZF1DWVhQ5d3I6DeF', '37i9dQZF1DWUVpAXiEPK8P',\n",
        "'37i9dQZF1DWWPcvnOpPG3x', '37i9dQZF1DXe6bgV3TmZOL', '37i9dQZF1DWTl4y3vgJOXW', '37i9dQZF1DX0HRj9P7NxeE',\n",
        "'37i9dQZF1DX7cmFV9rWM0u', '37i9dQZF1DX35oM5SPECmN', '37i9dQZF1DWSTc9FdySHtz', '37i9dQZF1DX0hWmn8d5pRe', \n",
        "'37i9dQZF1DWXmQEAjlxGhi', '37i9dQZF1DWZUTt0fNaCPB', '37i9dQZF1DWY3PJWG3ogmJ', '37i9dQZF1DXcCEH5EfTtzp', \n",
        "'37i9dQZF1DXbFRZSqP41al', '37i9dQZF1DWXx3Txis2L4x', '37i9dQZF1DWZYWNM3NfvzJ', '37i9dQZF1DXcYHCSWjSx6A', \n",
        "'37i9dQZF1DX5vVIxolcMKs']\n",
        "\n",
        "\n",
        "while a < len(sleepPlaylist):\n",
        "\n",
        "\tplaylist = sp.user_playlist(user_id, sleepPlaylist[a])\n",
        "\ttracks_df = pd.DataFrame([(track['track']['id'],\n",
        "                           track['track']['artists'][0]['name'],\n",
        "                           track['track']['name'],                   \n",
        "                          )\n",
        "                          for track in playlist['tracks']['items']],\n",
        "                             columns=['id', 'artist', 'name'] )\n",
        "\tfeatures = []\n",
        "\tfor n, chunk_series in tracks_df.groupby(np.arange(len(tracks_df)) // 50).id:\n",
        "\t\tfeatures += sp.audio_features([*map(str, chunk_series)])\n",
        "\tfeatures_df = pd.DataFrame.from_dict(filter(None, features))\n",
        "\ttracks_with_features_df = tracks_df.merge(features_df, on=['id'], how='inner')\n",
        "\tart = tracks_with_features_df.artist.values\n",
        "\tener = tracks_with_features_df.energy.values\n",
        "\tart.shape = (len(tracks_with_features_df), 1)\n",
        "\tener.shape = (len(tracks_with_features_df), 1)\n",
        "\n",
        "\ttem = tracks_with_features_df.tempo.values\n",
        "\ttem.shape = (len(tracks_with_features_df), 1)\n",
        "\tliv = tracks_with_features_df.liveness.values\n",
        "\tliv.shape = (len(tracks_with_features_df), 1)\n",
        "\tinst = tracks_with_features_df.instrumentalness.values\n",
        "\tinst.shape = (len(tracks_with_features_df), 1)\t\n",
        "\tacou = tracks_with_features_df.acousticness.values\n",
        "\tacou.shape = (len(tracks_with_features_df), 1)\n",
        "\tspe = tracks_with_features_df.speechiness.values\n",
        "\tspe.shape = (len(tracks_with_features_df), 1)\n",
        "\tloud = tracks_with_features_df.loudness.values\n",
        "\tloud.shape = (len(tracks_with_features_df), 1)\n",
        "\tener = tracks_with_features_df.energy.values\n",
        "\tener.shape = (len(tracks_with_features_df), 1)\n",
        "\tdan = tracks_with_features_df.danceability.values\n",
        "\tdan.shape = (len(tracks_with_features_df), 1)\n",
        "\n",
        "\tif a == 0:\n",
        "\t\txx1 = np.append(tem, liv, axis = 1)\n",
        "\t\txx1 = np.append(xx1, inst, axis = 1)\n",
        "\t\txx1 = np.append(xx1, acou, axis = 1)\n",
        "\t\txx1 = np.append(xx1, spe, axis = 1)\n",
        "\t\txx1 = np.append(xx1, loud, axis = 1)\n",
        "\t\txx1 = np.append(xx1, ener, axis = 1)\n",
        "\t\txx1 = np.append(xx1, dan, axis = 1)\n",
        "\telse:\n",
        "\t\txx2 = np.append(tem, liv, axis = 1)\n",
        "\t\txx2 = np.append(xx2, inst, axis = 1)\n",
        "\t\txx2 = np.append(xx2, acou, axis = 1)\n",
        "\t\txx2 = np.append(xx2, spe, axis = 1)\n",
        "\t\txx2 = np.append(xx2, loud, axis = 1)\n",
        "\t\txx2 = np.append(xx2, ener, axis = 1)\n",
        "\t\txx2 = np.append(xx2, dan, axis = 1)\n",
        "\n",
        "\t\txx1 = np.concatenate((xx1, xx2), axis=0)\n",
        "\ta+=1\n",
        "print(len(xx1))\n",
        "print(xx1)\n",
        "\n",
        "import csv\n",
        "\n",
        "with open('./workout1904.csv', 'w', newline='') as csvfile:\n",
        "\twriter  = csv.writer(csvfile)\n",
        "\twriter.writerow(['tempo','liveness','instrumentalness','acousticness','speechiness',\n",
        "\t\t'loudness','energy','danceability'])\n",
        "\tfor row in xx1:\n",
        "\t\twriter.writerow(row)\n",
        "'''\n",
        "\n",
        "# hiphop playlist \n",
        "'''\n",
        "a = 0\n",
        "xx1 = np.array([]) \n",
        "xx2 = np.array([]) \n",
        "sleepPlaylist = ['37i9dQZF1DWZpPFNaZ4EUh', '37i9dQZF1DX0XUsuxWHRQd', '37i9dQZF1DXcA6dRp8rwj6', \n",
        "'37i9dQZF1DWW46Vfs1oltB', '37i9dQZF1DX7Mq3mO5SSDc', '37i9dQZF1DX36Xw4IJIVKA', '37i9dQZF1DX8Kgdykz6OKj',\n",
        "'37i9dQZF1DX6GwdWRQMQpq', '37i9dQZF1DX186v583rmzp', '37i9dQZF1DX2A29LI7xHn1', '37i9dQZF1DWX3387IZmjNa',\n",
        "'37i9dQZF1DX45xYefy6tIi', '37i9dQZF1DX2RxBh64BHjQ', '37i9dQZF1DXbrQzAhQxGi4', '37i9dQZF1DWVA1Gq4XHa6U',\n",
        "'37i9dQZF1DX0HRj9P7NxeE', '37i9dQZF1DWUFmyho2wkQU', '37i9dQZF1DWT6MhXz0jw61', '37i9dQZF1DWSvKsRPPnv5o', \n",
        "'37i9dQZF1DX0Tkc6ltcBfU', '37i9dQZF1DXaitacWUJMPH', '37i9dQZF1DWTggY0yqBxES', '37i9dQZF1DX5hR0J49CmXC', \n",
        "'37i9dQZF1DXaxIqwkEGFEh', '37i9dQZF1DX2XmsXL2WBQd', '37i9dQZF1DWW4igXXl2Qkp', '37i9dQZF1DX5l9rcXWdrth', \n",
        "'37i9dQZF1DWSTeI2WWFaia', '37i9dQZF1DX58UlVHNJFai', '37i9dQZF1DX6PKX5dyBKeq', '37i9dQZF1DWSOkubnsDCSS']\n",
        "\n",
        "\n",
        "while a < len(sleepPlaylist):\n",
        "\n",
        "\tplaylist = sp.user_playlist(user_id, sleepPlaylist[a])\n",
        "\ttracks_df = pd.DataFrame([(track['track']['id'],\n",
        "                           track['track']['artists'][0]['name'],\n",
        "                           track['track']['name'],                   \n",
        "                          )\n",
        "                          for track in playlist['tracks']['items']],\n",
        "                             columns=['id', 'artist', 'name'] )\n",
        "\tfeatures = []\n",
        "\tfor n, chunk_series in tracks_df.groupby(np.arange(len(tracks_df)) // 50).id:\n",
        "\t\tfeatures += sp.audio_features([*map(str, chunk_series)])\n",
        "\tfeatures_df = pd.DataFrame.from_dict(filter(None, features))\n",
        "\ttracks_with_features_df = tracks_df.merge(features_df, on=['id'], how='inner')\n",
        "\tart = tracks_with_features_df.artist.values\n",
        "\tener = tracks_with_features_df.energy.values\n",
        "\tart.shape = (len(tracks_with_features_df), 1)\n",
        "\tener.shape = (len(tracks_with_features_df), 1)\n",
        "\n",
        "\ttem = tracks_with_features_df.tempo.values\n",
        "\ttem.shape = (len(tracks_with_features_df), 1)\n",
        "\tliv = tracks_with_features_df.liveness.values\n",
        "\tliv.shape = (len(tracks_with_features_df), 1)\n",
        "\tinst = tracks_with_features_df.instrumentalness.values\n",
        "\tinst.shape = (len(tracks_with_features_df), 1)\t\n",
        "\tacou = tracks_with_features_df.acousticness.values\n",
        "\tacou.shape = (len(tracks_with_features_df), 1)\n",
        "\tspe = tracks_with_features_df.speechiness.values\n",
        "\tspe.shape = (len(tracks_with_features_df), 1)\n",
        "\tloud = tracks_with_features_df.loudness.values\n",
        "\tloud.shape = (len(tracks_with_features_df), 1)\n",
        "\tener = tracks_with_features_df.energy.values\n",
        "\tener.shape = (len(tracks_with_features_df), 1)\n",
        "\tdan = tracks_with_features_df.danceability.values\n",
        "\tdan.shape = (len(tracks_with_features_df), 1)\n",
        "\n",
        "\tif a == 0:\n",
        "\t\txx1 = np.append(tem, liv, axis = 1)\n",
        "\t\txx1 = np.append(xx1, inst, axis = 1)\n",
        "\t\txx1 = np.append(xx1, acou, axis = 1)\n",
        "\t\txx1 = np.append(xx1, spe, axis = 1)\n",
        "\t\txx1 = np.append(xx1, loud, axis = 1)\n",
        "\t\txx1 = np.append(xx1, ener, axis = 1)\n",
        "\t\txx1 = np.append(xx1, dan, axis = 1)\n",
        "\telse:\n",
        "\t\txx2 = np.append(tem, liv, axis = 1)\n",
        "\t\txx2 = np.append(xx2, inst, axis = 1)\n",
        "\t\txx2 = np.append(xx2, acou, axis = 1)\n",
        "\t\txx2 = np.append(xx2, spe, axis = 1)\n",
        "\t\txx2 = np.append(xx2, loud, axis = 1)\n",
        "\t\txx2 = np.append(xx2, ener, axis = 1)\n",
        "\t\txx2 = np.append(xx2, dan, axis = 1)\n",
        "\n",
        "\t\txx1 = np.concatenate((xx1, xx2), axis=0)\n",
        "\ta+=1\n",
        "print(len(xx1))\n",
        "print(xx1)\n",
        "\n",
        "import csv\n",
        "\n",
        "with open('./hiphop2157.csv', 'w', newline='') as csvfile:\n",
        "\twriter  = csv.writer(csvfile)\n",
        "\twriter.writerow(['tempo','liveness','instrumentalness','acousticness','speechiness',\n",
        "\t\t'loudness','energy','danceability'])\n",
        "\tfor row in xx1:\n",
        "\t\twriter.writerow(row)\n",
        "'''\n",
        "\n",
        "# relax playlist \n",
        "'''\n",
        "a = 0\n",
        "xx1 = np.array([]) \n",
        "xx2 = np.array([]) \n",
        "sleepPlaylist = ['37i9dQZF1DXdL58DnQ4ZqM', '37i9dQZF1DX5KBgZM4MWjH', '37i9dQZF1DWSNmwgf7Nv11', \n",
        "'37i9dQZF1DWWzVPEmatsUB', '37i9dQZF1DWWtqHeytOZ8f', '37i9dQZF1DWTC99MCpbjP8', '37i9dQZF1DXdQP3bGyOAvs',\n",
        "'37i9dQZF1DXbHKTQ2s1l8q', '37i9dQZF1DX3fXJqxGjuEP', '37i9dQZF1DWWWSl6BMaKWo', '37i9dQZF1DWSAqa5cw6DxQ',\n",
        "'37i9dQZF1DX571ttkrxAeN', '37i9dQZF1DXboGlPhJFIp9', '37i9dQZF1DX2ViysbCzMHO', '37i9dQZF1DWTVIaV4KJYuq',\n",
        "'37i9dQZF1DX3AQIJcCkXwU', '37i9dQZF1DWVFJtzvDHN4L', '37i9dQZF1DXbKpCeB6bby3', '37i9dQZF1DX6tTW0xDxScH', \n",
        "'37i9dQZF1DX6ALfRKlHn1t', '37i9dQZF1DX9WxEZbyU6MA', '37i9dQZF1DWZZA4G4jVRXy', '37i9dQZF1DWXnscMH24yOc', \n",
        "'37i9dQZF1DXa9xHlDa5fc6', '37i9dQZF1DWUGsgkESc7qP', '37i9dQZF1DWVF0pvJ1YrL7', '37i9dQZF1DX62qCiGEp1YH', \n",
        "'37i9dQZF1DWVXbA4kjkg6G', '37i9dQZF1DX9XdJRfSK6a0', '37i9dQZF1DX8OUvJF6ATAB', '37i9dQZF1DX4UE2DqdZFBH']\n",
        "\n",
        "\n",
        "while a < len(sleepPlaylist):\n",
        "\n",
        "\tplaylist = sp.user_playlist(user_id, sleepPlaylist[a])\n",
        "\ttracks_df = pd.DataFrame([(track['track']['id'],\n",
        "                           track['track']['artists'][0]['name'],\n",
        "                           track['track']['name'],                   \n",
        "                          )\n",
        "                          for track in playlist['tracks']['items']],\n",
        "                             columns=['id', 'artist', 'name'] )\n",
        "\tfeatures = []\n",
        "\tfor n, chunk_series in tracks_df.groupby(np.arange(len(tracks_df)) // 50).id:\n",
        "\t\tfeatures += sp.audio_features([*map(str, chunk_series)])\n",
        "\tfeatures_df = pd.DataFrame.from_dict(filter(None, features))\n",
        "\ttracks_with_features_df = tracks_df.merge(features_df, on=['id'], how='inner')\n",
        "\tart = tracks_with_features_df.artist.values\n",
        "\tener = tracks_with_features_df.energy.values\n",
        "\tart.shape = (len(tracks_with_features_df), 1)\n",
        "\tener.shape = (len(tracks_with_features_df), 1)\n",
        "\n",
        "\ttem = tracks_with_features_df.tempo.values\n",
        "\ttem.shape = (len(tracks_with_features_df), 1)\n",
        "\tliv = tracks_with_features_df.liveness.values\n",
        "\tliv.shape = (len(tracks_with_features_df), 1)\n",
        "\tinst = tracks_with_features_df.instrumentalness.values\n",
        "\tinst.shape = (len(tracks_with_features_df), 1)\t\n",
        "\tacou = tracks_with_features_df.acousticness.values\n",
        "\tacou.shape = (len(tracks_with_features_df), 1)\n",
        "\tspe = tracks_with_features_df.speechiness.values\n",
        "\tspe.shape = (len(tracks_with_features_df), 1)\n",
        "\tloud = tracks_with_features_df.loudness.values\n",
        "\tloud.shape = (len(tracks_with_features_df), 1)\n",
        "\tener = tracks_with_features_df.energy.values\n",
        "\tener.shape = (len(tracks_with_features_df), 1)\n",
        "\tdan = tracks_with_features_df.danceability.values\n",
        "\tdan.shape = (len(tracks_with_features_df), 1)\n",
        "\n",
        "\tif a == 0:\n",
        "\t\txx1 = np.append(tem, liv, axis = 1)\n",
        "\t\txx1 = np.append(xx1, inst, axis = 1)\n",
        "\t\txx1 = np.append(xx1, acou, axis = 1)\n",
        "\t\txx1 = np.append(xx1, spe, axis = 1)\n",
        "\t\txx1 = np.append(xx1, loud, axis = 1)\n",
        "\t\txx1 = np.append(xx1, ener, axis = 1)\n",
        "\t\txx1 = np.append(xx1, dan, axis = 1)\n",
        "\telse:\n",
        "\t\txx2 = np.append(tem, liv, axis = 1)\n",
        "\t\txx2 = np.append(xx2, inst, axis = 1)\n",
        "\t\txx2 = np.append(xx2, acou, axis = 1)\n",
        "\t\txx2 = np.append(xx2, spe, axis = 1)\n",
        "\t\txx2 = np.append(xx2, loud, axis = 1)\n",
        "\t\txx2 = np.append(xx2, ener, axis = 1)\n",
        "\t\txx2 = np.append(xx2, dan, axis = 1)\n",
        "\n",
        "\t\txx1 = np.concatenate((xx1, xx2), axis=0)\n",
        "\ta+=1\n",
        "print(len(xx1))\n",
        "print(xx1)\n",
        "\n",
        "import csv\n",
        "\n",
        "with open('./relax2369.csv', 'w', newline='') as csvfile:\n",
        "\twriter  = csv.writer(csvfile)\n",
        "\twriter.writerow(['tempo','liveness','instrumentalness','acousticness','speechiness',\n",
        "\t\t'loudness','energy','danceability'])\n",
        "\tfor row in xx1:\n",
        "\t\twriter.writerow(row)\n",
        "'''\n",
        "\n",
        "# focus playlist\n",
        "'''\n",
        "a = 0\n",
        "xx1 = np.array([]) \n",
        "xx2 = np.array([]) \n",
        "sleepPlaylist = ['37i9dQZF1DX2hAeSuWnj4k', '37i9dQZF1DX4sWSpwq3LiO', '37i9dQZF1DWWQRwui0ExPn', \n",
        "'37i9dQZF1DX0jgyAiPl8Af', '37i9dQZF1DX7K31D69s4M1', '37i9dQZF1DWZeKCadgRdKQ', '37i9dQZF1DX8NTLI2TtZa6',\n",
        "'37i9dQZF1DX3SiCzCxMDOH', '37i9dQZF1DXd5zUwdn6lPb', '37i9dQZF1DX9sIqqvKsjG8', '37i9dQZF1DWZwtERXCS82H',\n",
        "'37i9dQZF1DWXLeA8Omikj7', '37i9dQZF1DXaImRpG7HXqp', '37i9dQZF1DX1A26CeJ7uh8', '37i9dQZF1DX4PP3DA4J0N8',\n",
        "'37i9dQZF1DXcY4tn4nPCV1', '37i9dQZF1DWXrDQedVqw6q', '37i9dQZF1DWYtDSKIiDhua', '37i9dQZF1DWZIOAPKUdaKS', \n",
        "'37i9dQZF1DWSBRKlyNxSuy', '37i9dQZF1DX3PFzdbtx1Us', '37i9dQZF1DX7KrTMVQnM02', '37i9dQZF1DX51qI8MDEx8N', \n",
        "'37i9dQZF1DX8wtrGDH81Oa', '37i9dQZF1DWSluGMsH1R9r', '37i9dQZF1DWT5lkChsPmpy', '37i9dQZF1DX6T5dWVv97mp', \n",
        "'37i9dQZF1DX692WcMwL2yW', '37i9dQZF1DXc6Umi4GHdr1', '37i9dQZF1DWYmSg58uBxin', '37i9dQZF1DWVTkoPB1rnwz']\n",
        "\n",
        "\n",
        "while a < len(sleepPlaylist):\n",
        "\n",
        "\tplaylist = sp.user_playlist(user_id, sleepPlaylist[a])\n",
        "\ttracks_df = pd.DataFrame([(track['track']['id'],\n",
        "                           track['track']['artists'][0]['name'],\n",
        "                           track['track']['name'],                   \n",
        "                          )\n",
        "                          for track in playlist['tracks']['items']],\n",
        "                             columns=['id', 'artist', 'name'] )\n",
        "\tfeatures = []\n",
        "\tfor n, chunk_series in tracks_df.groupby(np.arange(len(tracks_df)) // 50).id:\n",
        "\t\tfeatures += sp.audio_features([*map(str, chunk_series)])\n",
        "\tfeatures_df = pd.DataFrame.from_dict(filter(None, features))\n",
        "\ttracks_with_features_df = tracks_df.merge(features_df, on=['id'], how='inner')\n",
        "\tart = tracks_with_features_df.artist.values\n",
        "\tener = tracks_with_features_df.energy.values\n",
        "\tart.shape = (len(tracks_with_features_df), 1)\n",
        "\tener.shape = (len(tracks_with_features_df), 1)\n",
        "\n",
        "\ttem = tracks_with_features_df.tempo.values\n",
        "\ttem.shape = (len(tracks_with_features_df), 1)\n",
        "\tliv = tracks_with_features_df.liveness.values\n",
        "\tliv.shape = (len(tracks_with_features_df), 1)\n",
        "\tinst = tracks_with_features_df.instrumentalness.values\n",
        "\tinst.shape = (len(tracks_with_features_df), 1)\t\n",
        "\tacou = tracks_with_features_df.acousticness.values\n",
        "\tacou.shape = (len(tracks_with_features_df), 1)\n",
        "\tspe = tracks_with_features_df.speechiness.values\n",
        "\tspe.shape = (len(tracks_with_features_df), 1)\n",
        "\tloud = tracks_with_features_df.loudness.values\n",
        "\tloud.shape = (len(tracks_with_features_df), 1)\n",
        "\tener = tracks_with_features_df.energy.values\n",
        "\tener.shape = (len(tracks_with_features_df), 1)\n",
        "\tdan = tracks_with_features_df.danceability.values\n",
        "\tdan.shape = (len(tracks_with_features_df), 1)\n",
        "\n",
        "\tif a == 0:\n",
        "\t\txx1 = np.append(tem, liv, axis = 1)\n",
        "\t\txx1 = np.append(xx1, inst, axis = 1)\n",
        "\t\txx1 = np.append(xx1, acou, axis = 1)\n",
        "\t\txx1 = np.append(xx1, spe, axis = 1)\n",
        "\t\txx1 = np.append(xx1, loud, axis = 1)\n",
        "\t\txx1 = np.append(xx1, ener, axis = 1)\n",
        "\t\txx1 = np.append(xx1, dan, axis = 1)\n",
        "\telse:\n",
        "\t\txx2 = np.append(tem, liv, axis = 1)\n",
        "\t\txx2 = np.append(xx2, inst, axis = 1)\n",
        "\t\txx2 = np.append(xx2, acou, axis = 1)\n",
        "\t\txx2 = np.append(xx2, spe, axis = 1)\n",
        "\t\txx2 = np.append(xx2, loud, axis = 1)\n",
        "\t\txx2 = np.append(xx2, ener, axis = 1)\n",
        "\t\txx2 = np.append(xx2, dan, axis = 1)\n",
        "\n",
        "\t\txx1 = np.concatenate((xx1, xx2), axis=0)\n",
        "\ta+=1\n",
        "print(len(xx1))\n",
        "print(xx1)\n",
        "\n",
        "import csv\n",
        "\n",
        "with open('./focus2653.csv', 'w', newline='') as csvfile:\n",
        "\twriter  = csv.writer(csvfile)\n",
        "\twriter.writerow(['tempo','liveness','instrumentalness','acousticness','speechiness',\n",
        "\t\t'loudness','energy','danceability'])\n",
        "\tfor row in xx1:\n",
        "\t\twriter.writerow(row)\n",
        "'''"
      ],
      "execution_count": 0,
      "outputs": [
        {
          "output_type": "execute_result",
          "data": {
            "text/plain": [
              "\"\\na = 0\\nxx1 = np.array([]) \\nxx2 = np.array([]) \\nsleepPlaylist = ['37i9dQZF1DX2hAeSuWnj4k', '37i9dQZF1DX4sWSpwq3LiO', '37i9dQZF1DWWQRwui0ExPn', \\n'37i9dQZF1DX0jgyAiPl8Af', '37i9dQZF1DX7K31D69s4M1', '37i9dQZF1DWZeKCadgRdKQ', '37i9dQZF1DX8NTLI2TtZa6',\\n'37i9dQZF1DX3SiCzCxMDOH', '37i9dQZF1DXd5zUwdn6lPb', '37i9dQZF1DX9sIqqvKsjG8', '37i9dQZF1DWZwtERXCS82H',\\n'37i9dQZF1DWXLeA8Omikj7', '37i9dQZF1DXaImRpG7HXqp', '37i9dQZF1DX1A26CeJ7uh8', '37i9dQZF1DX4PP3DA4J0N8',\\n'37i9dQZF1DXcY4tn4nPCV1', '37i9dQZF1DWXrDQedVqw6q', '37i9dQZF1DWYtDSKIiDhua', '37i9dQZF1DWZIOAPKUdaKS', \\n'37i9dQZF1DWSBRKlyNxSuy', '37i9dQZF1DX3PFzdbtx1Us', '37i9dQZF1DX7KrTMVQnM02', '37i9dQZF1DX51qI8MDEx8N', \\n'37i9dQZF1DX8wtrGDH81Oa', '37i9dQZF1DWSluGMsH1R9r', '37i9dQZF1DWT5lkChsPmpy', '37i9dQZF1DX6T5dWVv97mp', \\n'37i9dQZF1DX692WcMwL2yW', '37i9dQZF1DXc6Umi4GHdr1', '37i9dQZF1DWYmSg58uBxin', '37i9dQZF1DWVTkoPB1rnwz']\\n\\n\\nwhile a < len(sleepPlaylist):\\n\\n\\tplaylist = sp.user_playlist(user_id, sleepPlaylist[a])\\n\\ttracks_df = pd.DataFrame([(track['track']['id'],\\n                           track['track']['artists'][0]['name'],\\n                           track['track']['name'],                   \\n                          )\\n                          for track in playlist['tracks']['items']],\\n                             columns=['id', 'artist', 'name'] )\\n\\tfeatures = []\\n\\tfor n, chunk_series in tracks_df.groupby(np.arange(len(tracks_df)) // 50).id:\\n\\t\\tfeatures += sp.audio_features([*map(str, chunk_series)])\\n\\tfeatures_df = pd.DataFrame.from_dict(filter(None, features))\\n\\ttracks_with_features_df = tracks_df.merge(features_df, on=['id'], how='inner')\\n\\tart = tracks_with_features_df.artist.values\\n\\tener = tracks_with_features_df.energy.values\\n\\tart.shape = (len(tracks_with_features_df), 1)\\n\\tener.shape = (len(tracks_with_features_df), 1)\\n\\n\\ttem = tracks_with_features_df.tempo.values\\n\\ttem.shape = (len(tracks_with_features_df), 1)\\n\\tliv = tracks_with_features_df.liveness.values\\n\\tliv.shape = (len(tracks_with_features_df), 1)\\n\\tinst = tracks_with_features_df.instrumentalness.values\\n\\tinst.shape = (len(tracks_with_features_df), 1)\\t\\n\\tacou = tracks_with_features_df.acousticness.values\\n\\tacou.shape = (len(tracks_with_features_df), 1)\\n\\tspe = tracks_with_features_df.speechiness.values\\n\\tspe.shape = (len(tracks_with_features_df), 1)\\n\\tloud = tracks_with_features_df.loudness.values\\n\\tloud.shape = (len(tracks_with_features_df), 1)\\n\\tener = tracks_with_features_df.energy.values\\n\\tener.shape = (len(tracks_with_features_df), 1)\\n\\tdan = tracks_with_features_df.danceability.values\\n\\tdan.shape = (len(tracks_with_features_df), 1)\\n\\n\\tif a == 0:\\n\\t\\txx1 = np.append(tem, liv, axis = 1)\\n\\t\\txx1 = np.append(xx1, inst, axis = 1)\\n\\t\\txx1 = np.append(xx1, acou, axis = 1)\\n\\t\\txx1 = np.append(xx1, spe, axis = 1)\\n\\t\\txx1 = np.append(xx1, loud, axis = 1)\\n\\t\\txx1 = np.append(xx1, ener, axis = 1)\\n\\t\\txx1 = np.append(xx1, dan, axis = 1)\\n\\telse:\\n\\t\\txx2 = np.append(tem, liv, axis = 1)\\n\\t\\txx2 = np.append(xx2, inst, axis = 1)\\n\\t\\txx2 = np.append(xx2, acou, axis = 1)\\n\\t\\txx2 = np.append(xx2, spe, axis = 1)\\n\\t\\txx2 = np.append(xx2, loud, axis = 1)\\n\\t\\txx2 = np.append(xx2, ener, axis = 1)\\n\\t\\txx2 = np.append(xx2, dan, axis = 1)\\n\\n\\t\\txx1 = np.concatenate((xx1, xx2), axis=0)\\n\\ta+=1\\nprint(len(xx1))\\nprint(xx1)\\n\\nimport csv\\n\\nwith open('./focus2653.csv', 'w', newline='') as csvfile:\\n\\twriter  = csv.writer(csvfile)\\n\\twriter.writerow(['tempo','liveness','instrumentalness','acousticness','speechiness',\\n\\t\\t'loudness','energy','danceability'])\\n\\tfor row in xx1:\\n\\t\\twriter.writerow(row)\\n\""
            ]
          },
          "metadata": {
            "tags": []
          },
          "execution_count": 1
        }
      ]
    },
    {
      "cell_type": "markdown",
      "metadata": {
        "id": "DdbIDQ0y5Irk",
        "colab_type": "text"
      },
      "source": [
        "#### 2. 讀入相關套件"
      ]
    },
    {
      "cell_type": "code",
      "metadata": {
        "id": "IBMPEKyS4MtD",
        "colab_type": "code",
        "outputId": "2c7e049a-6172-4a7e-ee74-b423ec53649c",
        "colab": {
          "base_uri": "https://localhost:8080/",
          "height": 34
        }
      },
      "source": [
        "import pandas as pd\n",
        "import numpy as np\n",
        "from sklearn.model_selection import train_test_split\n",
        "%matplotlib inline\n",
        "import matplotlib.pyplot as plt\n",
        "import tensorflow as tf\n",
        "from tensorflow.keras.models import Sequential\n",
        "from tensorflow.keras.optimizers import SGD\n",
        "from tensorflow.keras.preprocessing import sequence\n",
        "from tensorflow.keras.layers import Dense, Embedding\n",
        "from tensorflow.keras.layers import LSTM\n",
        "from sklearn.linear_model import LinearRegression\n",
        "from keras.utils import np_utils\n",
        "from tensorflow.keras.utils import to_categorical"
      ],
      "execution_count": 0,
      "outputs": [
        {
          "output_type": "stream",
          "text": [
            "Using TensorFlow backend.\n"
          ],
          "name": "stderr"
        }
      ]
    },
    {
      "cell_type": "markdown",
      "metadata": {
        "id": "j7o3p9Rf5Sga",
        "colab_type": "text"
      },
      "source": [
        "#### 3. 讀入資料集&整理成訓練和測試資料"
      ]
    },
    {
      "cell_type": "code",
      "metadata": {
        "id": "4qIWtkym4e3E",
        "colab_type": "code",
        "outputId": "a2f049b3-cb2d-48b9-a65d-02b829fd670e",
        "colab": {
          "base_uri": "https://localhost:8080/",
          "height": 204
        }
      },
      "source": [
        "party = pd.read_csv('party2175.csv')\n",
        "sleep = pd.read_csv('sleep2992.csv')\n",
        "hiphop = pd.read_csv('hiphop2157.csv')\n",
        "workout = pd.read_csv('workout1904.csv')\n",
        "relax = pd.read_csv('relax2369.csv')\n",
        "focus = pd.read_csv('focus2653.csv')\n",
        "\n",
        "party.head()"
      ],
      "execution_count": 0,
      "outputs": [
        {
          "output_type": "execute_result",
          "data": {
            "text/html": [
              "<div>\n",
              "<style scoped>\n",
              "    .dataframe tbody tr th:only-of-type {\n",
              "        vertical-align: middle;\n",
              "    }\n",
              "\n",
              "    .dataframe tbody tr th {\n",
              "        vertical-align: top;\n",
              "    }\n",
              "\n",
              "    .dataframe thead th {\n",
              "        text-align: right;\n",
              "    }\n",
              "</style>\n",
              "<table border=\"1\" class=\"dataframe\">\n",
              "  <thead>\n",
              "    <tr style=\"text-align: right;\">\n",
              "      <th></th>\n",
              "      <th>tempo</th>\n",
              "      <th>liveness</th>\n",
              "      <th>instrumentalness</th>\n",
              "      <th>acousticness</th>\n",
              "      <th>speechiness</th>\n",
              "      <th>loudness</th>\n",
              "      <th>energy</th>\n",
              "      <th>danceability</th>\n",
              "    </tr>\n",
              "  </thead>\n",
              "  <tbody>\n",
              "    <tr>\n",
              "      <th>0</th>\n",
              "      <td>128.024</td>\n",
              "      <td>0.337</td>\n",
              "      <td>0.000005</td>\n",
              "      <td>0.0134</td>\n",
              "      <td>0.0424</td>\n",
              "      <td>-5.057</td>\n",
              "      <td>0.852</td>\n",
              "      <td>0.732</td>\n",
              "    </tr>\n",
              "    <tr>\n",
              "      <th>1</th>\n",
              "      <td>137.948</td>\n",
              "      <td>0.115</td>\n",
              "      <td>0.000000</td>\n",
              "      <td>0.1820</td>\n",
              "      <td>0.0608</td>\n",
              "      <td>-4.852</td>\n",
              "      <td>0.739</td>\n",
              "      <td>0.766</td>\n",
              "    </tr>\n",
              "    <tr>\n",
              "      <th>2</th>\n",
              "      <td>127.976</td>\n",
              "      <td>0.139</td>\n",
              "      <td>0.000000</td>\n",
              "      <td>0.4810</td>\n",
              "      <td>0.0421</td>\n",
              "      <td>-6.436</td>\n",
              "      <td>0.685</td>\n",
              "      <td>0.762</td>\n",
              "    </tr>\n",
              "    <tr>\n",
              "      <th>3</th>\n",
              "      <td>109.964</td>\n",
              "      <td>0.106</td>\n",
              "      <td>0.000000</td>\n",
              "      <td>0.4050</td>\n",
              "      <td>0.0804</td>\n",
              "      <td>-4.657</td>\n",
              "      <td>0.768</td>\n",
              "      <td>0.815</td>\n",
              "    </tr>\n",
              "    <tr>\n",
              "      <th>4</th>\n",
              "      <td>124.002</td>\n",
              "      <td>0.110</td>\n",
              "      <td>0.000000</td>\n",
              "      <td>0.0722</td>\n",
              "      <td>0.0319</td>\n",
              "      <td>-6.403</td>\n",
              "      <td>0.703</td>\n",
              "      <td>0.646</td>\n",
              "    </tr>\n",
              "  </tbody>\n",
              "</table>\n",
              "</div>"
            ],
            "text/plain": [
              "     tempo  liveness  instrumentalness  ...  loudness  energy  danceability\n",
              "0  128.024     0.337          0.000005  ...    -5.057   0.852         0.732\n",
              "1  137.948     0.115          0.000000  ...    -4.852   0.739         0.766\n",
              "2  127.976     0.139          0.000000  ...    -6.436   0.685         0.762\n",
              "3  109.964     0.106          0.000000  ...    -4.657   0.768         0.815\n",
              "4  124.002     0.110          0.000000  ...    -6.403   0.703         0.646\n",
              "\n",
              "[5 rows x 8 columns]"
            ]
          },
          "metadata": {
            "tags": []
          },
          "execution_count": 3
        }
      ]
    },
    {
      "cell_type": "code",
      "metadata": {
        "id": "RaZkgXrC4y5a",
        "colab_type": "code",
        "colab": {}
      },
      "source": [
        "#將原本分開的資料彙集成一個array\n",
        "X = np.concatenate((party, sleep), axis=0)\n",
        "X = np.concatenate((X, hiphop), axis=0)\n",
        "X = np.concatenate((X, workout), axis=0)\n",
        "X = np.concatenate((X, relax), axis=0)\n",
        "X = np.concatenate((X, focus), axis=0)"
      ],
      "execution_count": 0,
      "outputs": []
    },
    {
      "cell_type": "code",
      "metadata": {
        "id": "EBvemj1B4i_n",
        "colab_type": "code",
        "outputId": "1ed46997-460b-410f-bf3c-68dad3d00d67",
        "colab": {
          "base_uri": "https://localhost:8080/",
          "height": 153
        }
      },
      "source": [
        "#查看各個attribute的最大值並進行one-hot\n",
        "a = 0\n",
        "while a in range(8):\n",
        "  print(np.max(X[a, ]))\n",
        "  a = a+1"
      ],
      "execution_count": 0,
      "outputs": [
        {
          "output_type": "stream",
          "text": [
            "128.024\n",
            "137.94799999999998\n",
            "127.976\n",
            "109.964\n",
            "124.00200000000001\n",
            "144.974\n",
            "117.956\n",
            "112.02\n"
          ],
          "name": "stdout"
        }
      ]
    },
    {
      "cell_type": "code",
      "metadata": {
        "id": "v36ffNe34sbN",
        "colab_type": "code",
        "colab": {}
      },
      "source": [
        "#normaliztion\n",
        "X[0,] = X[0,]/128.024 \n",
        "X[1,] = X[1,]/137.94799999999998\n",
        "X[2,] = X[2,]/127.976\n",
        "X[3,] = X[3,]/109.964\n",
        "X[4,] = X[4,]/124.00200000000001\n",
        "X[5,] = X[5,]/144.974\n",
        "X[6,] = X[6,]/117.956\n",
        "X[7,] = X[7,]/112.02"
      ],
      "execution_count": 0,
      "outputs": []
    },
    {
      "cell_type": "code",
      "metadata": {
        "id": "zb19PwZL4vOL",
        "colab_type": "code",
        "outputId": "da0cf4dc-0f7e-4b7a-819d-47b2bcbdf681",
        "colab": {
          "base_uri": "https://localhost:8080/",
          "height": 153
        }
      },
      "source": [
        "a = 0\n",
        "while a in range(8):\n",
        "  print(np.max(X[a, ]))\n",
        "  a = a+1"
      ],
      "execution_count": 0,
      "outputs": [
        {
          "output_type": "stream",
          "text": [
            "1.0\n",
            "1.0\n",
            "1.0\n",
            "1.0\n",
            "1.0\n",
            "1.0\n",
            "1.0\n",
            "1.0\n"
          ],
          "name": "stdout"
        }
      ]
    },
    {
      "cell_type": "code",
      "metadata": {
        "id": "ebF_JZj-44Yu",
        "colab_type": "code",
        "colab": {}
      },
      "source": [
        "#label資料\n",
        "hiphop_y = np.array([1 for x in range(len(hiphop))])\n",
        "hiphop_y = np.reshape(hiphop_y,(len(hiphop),-1))\n",
        "party_y = np.array([1 for x in range(len(party))])\n",
        "party_y = np.reshape(party_y,(len(party),-1))\n",
        "sleep_y = np.array([0 for x in range(len(sleep))])\n",
        "sleep_y = np.reshape(sleep_y,(len(sleep),-1))\n",
        "workout_y = np.array([1 for x in range(len(workout))])\n",
        "workout_y = np.reshape(workout_y,(len(workout),-1))\n",
        "relax_y = np.array([0 for x in range(len(relax))])\n",
        "relax_y = np.reshape(relax_y,(len(relax),-1))\n",
        "focus_y = np.array([0 for x in range(len(focus))])\n",
        "focus_y = np.reshape(focus_y,(len(focus),-1))\n",
        "\n",
        "Y = np.concatenate((party_y, sleep_y), axis=0)\n",
        "Y = np.concatenate((Y, hiphop_y), axis=0)\n",
        "Y = np.concatenate((Y, workout_y), axis=0)\n",
        "Y = np.concatenate((Y, relax_y), axis=0)\n",
        "Y = np.concatenate((Y, focus_y), axis=0)\n",
        "\n",
        "Y = to_categorical(Y, 2)"
      ],
      "execution_count": 0,
      "outputs": []
    },
    {
      "cell_type": "code",
      "metadata": {
        "id": "3xZZBk3a5F_W",
        "colab_type": "code",
        "colab": {}
      },
      "source": [
        "#將資料分為訓練和測試兩組\n",
        "x_train, x_test, y_train, y_test = train_test_split(X,Y, test_size = 0.1, random_state = 87)"
      ],
      "execution_count": 0,
      "outputs": []
    },
    {
      "cell_type": "markdown",
      "metadata": {
        "id": "8VHVNlwd5sPu",
        "colab_type": "text"
      },
      "source": [
        "#### 4. 建立模型並訓練\n",
        "以CNN和MLP兩種不同學習模式進行訓練，因為我們輸入的資料型態為多項特徵值與對應標籤，我們設想這樣的型態對於CNN不一定有優勢，故同時以MLP進行預測。"
      ]
    },
    {
      "cell_type": "markdown",
      "metadata": {
        "id": "BMQMFDoLk4db",
        "colab_type": "text"
      },
      "source": [
        "#### CNN"
      ]
    },
    {
      "cell_type": "code",
      "metadata": {
        "id": "hQC8YHRl5mAg",
        "colab_type": "code",
        "outputId": "44eec89a-82d3-4f63-c9b9-c556e5296d0c",
        "colab": {
          "base_uri": "https://localhost:8080/",
          "height": 255
        }
      },
      "source": [
        "model = Sequential()\n",
        "model.add(Dense(30, input_dim = 8, activation = 'relu'))\n",
        "model.add(Dense(30, activation = 'relu'))\n",
        "model.add(Dense(2, activation = 'softmax'))\n",
        "#組裝\n",
        "model.compile(loss = 'mse', optimizer = SGD(lr = 0.09), metrics = ['accuracy'])\n",
        "model.summary()"
      ],
      "execution_count": 0,
      "outputs": [
        {
          "output_type": "stream",
          "text": [
            "Model: \"sequential\"\n",
            "_________________________________________________________________\n",
            "Layer (type)                 Output Shape              Param #   \n",
            "=================================================================\n",
            "dense (Dense)                (None, 30)                270       \n",
            "_________________________________________________________________\n",
            "dense_1 (Dense)              (None, 30)                930       \n",
            "_________________________________________________________________\n",
            "dense_2 (Dense)              (None, 2)                 62        \n",
            "=================================================================\n",
            "Total params: 1,262\n",
            "Trainable params: 1,262\n",
            "Non-trainable params: 0\n",
            "_________________________________________________________________\n"
          ],
          "name": "stdout"
        }
      ]
    },
    {
      "cell_type": "code",
      "metadata": {
        "id": "y1fFmUTS5rtI",
        "colab_type": "code",
        "outputId": "bc1086c7-c1c7-4fc4-f5d0-907a5eb87250",
        "colab": {
          "base_uri": "https://localhost:8080/",
          "height": 867
        }
      },
      "source": [
        "historyCNN = model.fit(x_train, y_train, batch_size=20, epochs=25, validation_data=(x_test, y_test))"
      ],
      "execution_count": 0,
      "outputs": [
        {
          "output_type": "stream",
          "text": [
            "Epoch 1/25\n",
            "642/642 [==============================] - 2s 2ms/step - loss: 0.4715 - accuracy: 0.5279 - val_loss: 0.4305 - val_accuracy: 0.5691\n",
            "Epoch 2/25\n",
            "642/642 [==============================] - 1s 2ms/step - loss: 0.4381 - accuracy: 0.5616 - val_loss: 0.4305 - val_accuracy: 0.5691\n",
            "Epoch 3/25\n",
            "642/642 [==============================] - 1s 2ms/step - loss: 0.4380 - accuracy: 0.5616 - val_loss: 0.4305 - val_accuracy: 0.5691\n",
            "Epoch 4/25\n",
            "642/642 [==============================] - 1s 2ms/step - loss: 0.4380 - accuracy: 0.5616 - val_loss: 0.4304 - val_accuracy: 0.5691\n",
            "Epoch 5/25\n",
            "642/642 [==============================] - 1s 2ms/step - loss: 0.4380 - accuracy: 0.5616 - val_loss: 0.4304 - val_accuracy: 0.5691\n",
            "Epoch 6/25\n",
            "642/642 [==============================] - 1s 2ms/step - loss: 0.4380 - accuracy: 0.5616 - val_loss: 0.4304 - val_accuracy: 0.5691\n",
            "Epoch 7/25\n",
            "642/642 [==============================] - 1s 2ms/step - loss: 0.4380 - accuracy: 0.5616 - val_loss: 0.4304 - val_accuracy: 0.5691\n",
            "Epoch 8/25\n",
            "642/642 [==============================] - 1s 2ms/step - loss: 0.4380 - accuracy: 0.5616 - val_loss: 0.4304 - val_accuracy: 0.5691\n",
            "Epoch 9/25\n",
            "642/642 [==============================] - 1s 2ms/step - loss: 0.4380 - accuracy: 0.5616 - val_loss: 0.4304 - val_accuracy: 0.5691\n",
            "Epoch 10/25\n",
            "642/642 [==============================] - 1s 2ms/step - loss: 0.4380 - accuracy: 0.5616 - val_loss: 0.4304 - val_accuracy: 0.5698\n",
            "Epoch 11/25\n",
            "642/642 [==============================] - 1s 2ms/step - loss: 0.4379 - accuracy: 0.5622 - val_loss: 0.4303 - val_accuracy: 0.5698\n",
            "Epoch 12/25\n",
            "642/642 [==============================] - 1s 2ms/step - loss: 0.4379 - accuracy: 0.5622 - val_loss: 0.4303 - val_accuracy: 0.5698\n",
            "Epoch 13/25\n",
            "642/642 [==============================] - 1s 2ms/step - loss: 0.4379 - accuracy: 0.5622 - val_loss: 0.4303 - val_accuracy: 0.5698\n",
            "Epoch 14/25\n",
            "642/642 [==============================] - 1s 2ms/step - loss: 0.4379 - accuracy: 0.5622 - val_loss: 0.4303 - val_accuracy: 0.5698\n",
            "Epoch 15/25\n",
            "642/642 [==============================] - 2s 2ms/step - loss: 0.4379 - accuracy: 0.5622 - val_loss: 0.4303 - val_accuracy: 0.5698\n",
            "Epoch 16/25\n",
            "642/642 [==============================] - 2s 2ms/step - loss: 0.4379 - accuracy: 0.5622 - val_loss: 0.4303 - val_accuracy: 0.5698\n",
            "Epoch 17/25\n",
            "642/642 [==============================] - 2s 2ms/step - loss: 0.4379 - accuracy: 0.5622 - val_loss: 0.4303 - val_accuracy: 0.5698\n",
            "Epoch 18/25\n",
            "642/642 [==============================] - 2s 2ms/step - loss: 0.4379 - accuracy: 0.5622 - val_loss: 0.4303 - val_accuracy: 0.5698\n",
            "Epoch 19/25\n",
            "642/642 [==============================] - 2s 2ms/step - loss: 0.4379 - accuracy: 0.5622 - val_loss: 0.4303 - val_accuracy: 0.5698\n",
            "Epoch 20/25\n",
            "642/642 [==============================] - 2s 2ms/step - loss: 0.4379 - accuracy: 0.5622 - val_loss: 0.4303 - val_accuracy: 0.5698\n",
            "Epoch 21/25\n",
            "642/642 [==============================] - 2s 2ms/step - loss: 0.4379 - accuracy: 0.5622 - val_loss: 0.4303 - val_accuracy: 0.5698\n",
            "Epoch 22/25\n",
            "642/642 [==============================] - 1s 2ms/step - loss: 0.4379 - accuracy: 0.5622 - val_loss: 0.4303 - val_accuracy: 0.5698\n",
            "Epoch 23/25\n",
            "642/642 [==============================] - 1s 2ms/step - loss: 0.4379 - accuracy: 0.5622 - val_loss: 0.4303 - val_accuracy: 0.5698\n",
            "Epoch 24/25\n",
            "642/642 [==============================] - 1s 2ms/step - loss: 0.4379 - accuracy: 0.5622 - val_loss: 0.4303 - val_accuracy: 0.5698\n",
            "Epoch 25/25\n",
            "642/642 [==============================] - 1s 2ms/step - loss: 0.5299 - accuracy: 0.4699 - val_loss: 0.5635 - val_accuracy: 0.4365\n"
          ],
          "name": "stdout"
        }
      ]
    },
    {
      "cell_type": "markdown",
      "metadata": {
        "id": "l93WvaDEk7WT",
        "colab_type": "text"
      },
      "source": [
        "#### MLP"
      ]
    },
    {
      "cell_type": "code",
      "metadata": {
        "id": "Mq_bOo3b53IJ",
        "colab_type": "code",
        "outputId": "a37b6b66-ab00-4cec-c07c-d8d35b955bac",
        "colab": {
          "base_uri": "https://localhost:8080/",
          "height": 221
        }
      },
      "source": [
        "model1=Sequential()\n",
        "model1.add(Dense(units=256, input_dim=8, kernel_initializer='normal',  activation='relu'))\n",
        "model1.add(Dense(units=2, kernel_initializer='normal',  activation='softmax'))   \n",
        "model1.summary()"
      ],
      "execution_count": 0,
      "outputs": [
        {
          "output_type": "stream",
          "text": [
            "Model: \"sequential_1\"\n",
            "_________________________________________________________________\n",
            "Layer (type)                 Output Shape              Param #   \n",
            "=================================================================\n",
            "dense_3 (Dense)              (None, 256)               2304      \n",
            "_________________________________________________________________\n",
            "dense_4 (Dense)              (None, 2)                 514       \n",
            "=================================================================\n",
            "Total params: 2,818\n",
            "Trainable params: 2,818\n",
            "Non-trainable params: 0\n",
            "_________________________________________________________________\n"
          ],
          "name": "stdout"
        }
      ]
    },
    {
      "cell_type": "code",
      "metadata": {
        "id": "9Ngz1LIi58Tv",
        "colab_type": "code",
        "outputId": "80381ece-9cb4-4f3b-cedb-db3feace324a",
        "colab": {
          "base_uri": "https://localhost:8080/",
          "height": 527
        }
      },
      "source": [
        "model1.compile(loss='categorical_crossentropy', optimizer='adam', metrics=['accuracy'])  \n",
        "historyMLP = model1.fit(X, Y, validation_split=0.2, epochs=15, batch_size=20, verbose=2)"
      ],
      "execution_count": 0,
      "outputs": [
        {
          "output_type": "stream",
          "text": [
            "Epoch 1/15\n",
            "570/570 - 1s - loss: 0.2939 - accuracy: 0.8841 - val_loss: 0.2482 - val_accuracy: 0.8870\n",
            "Epoch 2/15\n",
            "570/570 - 1s - loss: 0.2196 - accuracy: 0.9171 - val_loss: 0.0953 - val_accuracy: 0.9551\n",
            "Epoch 3/15\n",
            "570/570 - 1s - loss: 0.2190 - accuracy: 0.9183 - val_loss: 0.0422 - val_accuracy: 0.9835\n",
            "Epoch 4/15\n",
            "570/570 - 1s - loss: 0.2123 - accuracy: 0.9219 - val_loss: 0.1617 - val_accuracy: 0.9218\n",
            "Epoch 5/15\n",
            "570/570 - 1s - loss: 0.2102 - accuracy: 0.9225 - val_loss: 0.0751 - val_accuracy: 0.9677\n",
            "Epoch 6/15\n",
            "570/570 - 1s - loss: 0.2060 - accuracy: 0.9227 - val_loss: 0.0474 - val_accuracy: 0.9821\n",
            "Epoch 7/15\n",
            "570/570 - 1s - loss: 0.2042 - accuracy: 0.9248 - val_loss: 0.0840 - val_accuracy: 0.9628\n",
            "Epoch 8/15\n",
            "570/570 - 1s - loss: 0.2063 - accuracy: 0.9211 - val_loss: 0.1168 - val_accuracy: 0.9474\n",
            "Epoch 9/15\n",
            "570/570 - 1s - loss: 0.1984 - accuracy: 0.9256 - val_loss: 0.1071 - val_accuracy: 0.9530\n",
            "Epoch 10/15\n",
            "570/570 - 1s - loss: 0.1974 - accuracy: 0.9260 - val_loss: 0.1029 - val_accuracy: 0.9495\n",
            "Epoch 11/15\n",
            "570/570 - 1s - loss: 0.1957 - accuracy: 0.9264 - val_loss: 0.0572 - val_accuracy: 0.9842\n",
            "Epoch 12/15\n",
            "570/570 - 1s - loss: 0.1987 - accuracy: 0.9249 - val_loss: 0.0724 - val_accuracy: 0.9754\n",
            "Epoch 13/15\n",
            "570/570 - 1s - loss: 0.1976 - accuracy: 0.9277 - val_loss: 0.1070 - val_accuracy: 0.9537\n",
            "Epoch 14/15\n",
            "570/570 - 1s - loss: 0.1940 - accuracy: 0.9275 - val_loss: 0.1449 - val_accuracy: 0.9347\n",
            "Epoch 15/15\n",
            "570/570 - 1s - loss: 0.1925 - accuracy: 0.9287 - val_loss: 0.1173 - val_accuracy: 0.9516\n"
          ],
          "name": "stdout"
        }
      ]
    },
    {
      "cell_type": "markdown",
      "metadata": {
        "id": "OmgN85Nl6If4",
        "colab_type": "text"
      },
      "source": [
        "#### 5. 資料視覺化"
      ]
    },
    {
      "cell_type": "code",
      "metadata": {
        "id": "dAyi7-U76PzH",
        "colab_type": "code",
        "colab": {}
      },
      "source": [
        "def show_train_history(train_history):\n",
        "    fig=plt.gcf()\n",
        "    fig.set_size_inches(16, 6)\n",
        "    plt.subplot(121)\n",
        "    plt.plot(train_history.history[\"accuracy\"])\n",
        "    plt.plot(train_history.history[\"val_accuracy\"])\n",
        "    plt.title(\"Train History - accuracy\")\n",
        "    plt.xlabel(\"Epoch\")\n",
        "    plt.ylabel(\"Accuracy\")\n",
        "    plt.legend([\"train\", \"validation\"], loc=\"upper left\")\n",
        "    plt.subplot(122)\n",
        "    plt.plot(train_history.history[\"loss\"])\n",
        "    plt.plot(train_history.history[\"val_loss\"])\n",
        "    plt.title(\"Train History - loss\")\n",
        "    plt.xlabel(\"Epoch\")\n",
        "    plt.ylabel(\"Loss\")\n",
        "    plt.legend([\"train\", \"validation\"], loc=\"upper left\")\n",
        "    plt.show()"
      ],
      "execution_count": 0,
      "outputs": []
    },
    {
      "cell_type": "code",
      "metadata": {
        "id": "JzEfackqk2nC",
        "colab_type": "code",
        "outputId": "68122bf4-6343-47fd-fadf-6b561c445e0b",
        "colab": {
          "base_uri": "https://localhost:8080/",
          "height": 404
        }
      },
      "source": [
        "show_train_history(historyCNN)"
      ],
      "execution_count": 0,
      "outputs": [
        {
          "output_type": "display_data",
          "data": {
            "image/png": "[encoded data removed]",
            "text/plain": [
              "<Figure size 1152x432 with 2 Axes>"
            ]
          },
          "metadata": {
            "tags": [],
            "needs_background": "light"
          }
        }
      ]
    },
    {
      "cell_type": "code",
      "metadata": {
        "id": "Qys1WgZn6S6t",
        "colab_type": "code",
        "outputId": "efffe68c-cc5b-402d-feee-ed2c65896fdb",
        "colab": {
          "base_uri": "https://localhost:8080/",
          "height": 404
        }
      },
      "source": [
        "show_train_history(historyMLP)"
      ],
      "execution_count": 0,
      "outputs": [
        {
          "output_type": "display_data",
          "data": {
            "image/png": "[encoded data removed]",
            "text/plain": [
              "<Figure size 1152x432 with 2 Axes>"
            ]
          },
          "metadata": {
            "tags": [],
            "needs_background": "light"
          }
        }
      ]
    },
    {
      "cell_type": "markdown",
      "metadata": {
        "id": "vOSTeDyQ6hOG",
        "colab_type": "text"
      },
      "source": [
        "#### 6. 結語\n",
        "\n",
        "由於我們所收集的資料分佈較極端，加上資料類型的不適合，導致我們使用CNN訓練時的準確度較低，只有五成左右。因此，在經過多次不同機器學習方法的嘗試，MLP為最適合的訓練方法，和我們的資料類型最匹配，進而能達到九成的準確度。因此我們了解到，若要對音樂特徵進行分析訓練，MLP是一個很好的方式。\n",
        "\n",
        "在建立模型的過程中，我們發現許多需要改進的地方：\n",
        "\n",
        "1. 由於我們在抓取資料時，有資料量不足的問題，可以再進一步做資料來源的評估。\n",
        "\n",
        "2. 分析之後發現，我們的資料量太過極端，導致輸出值指有0跟1，我們可以藉由對音樂本身多加分析，將輸出值分成更多等級，使結果更精準也更實用。\n",
        "\n",
        "3. 目前完成的部分只有原先我們構想題目的一半，希望能進一步加上身體指數的偵測和應用\n",
        "\n",
        " \n",
        "\n",
        "\n",
        "\n"
      ]
    }
  ]
}