{
  "nbformat": 4,
  "nbformat_minor": 0,
  "metadata": {
    "colab": {
      "name": "functionalAPIhw.ipynb",
      "provenance": [],
      "collapsed_sections": []
    },
    "kernelspec": {
      "name": "python3",
      "display_name": "Python 3"
    },
    "accelerator": "GPU"
  },
  "cells": [
    {
      "cell_type": "markdown",
      "metadata": {
        "id": "lo3cASqZ_o-k",
        "colab_type": "text"
      },
      "source": [
        "###以MNIST手寫數字資料集作為訓練，練習functional API，模型為單一輸入、多重輸出"
      ]
    },
    {
      "cell_type": "markdown",
      "metadata": {
        "id": "zMW3JP-dzfn9",
        "colab_type": "text"
      },
      "source": [
        "1確認tensorflow版本並讀入相關套件"
      ]
    },
    {
      "cell_type": "code",
      "metadata": {
        "id": "47XrSPEyuNNF",
        "colab_type": "code",
        "colab": {}
      },
      "source": [
        "%tensorflow_version 2.x"
      ],
      "execution_count": 0,
      "outputs": []
    },
    {
      "cell_type": "code",
      "metadata": {
        "id": "C7mHIUx5zO2p",
        "colab_type": "code",
        "colab": {}
      },
      "source": [
        "import matplotlib.pyplot as plt\n",
        "import matplotlib.image as mpimg\n",
        "import numpy as np\n",
        "from tensorflow.keras.layers import concatenate, add\n",
        "from tensorflow.keras.models import Model\n",
        "from tensorflow.keras.layers import Input\n",
        "#for FNN\n",
        "from tensorflow.keras.models import Sequential\n",
        "from tensorflow.keras.layers import Dense\n",
        "from tensorflow.keras.layers import Flatten\n",
        "#for CNN\n",
        "from tensorflow.keras.layers import Conv2D, MaxPool2D, GlobalAveragePooling2D\n",
        "from tensorflow.keras.optimizers import SGD, Adam\n",
        "#data preprocessing\n",
        "from tensorflow.keras import datasets\n",
        "from tensorflow.keras.utils import to_categorical"
      ],
      "execution_count": 0,
      "outputs": []
    },
    {
      "cell_type": "markdown",
      "metadata": {
        "id": "hlcuBQ-o_HRR",
        "colab_type": "text"
      },
      "source": [
        "2讀入MNIST手寫數字資料集並整理"
      ]
    },
    {
      "cell_type": "code",
      "metadata": {
        "id": "rHJ4RTKqzmDU",
        "colab_type": "code",
        "colab": {
          "base_uri": "https://localhost:8080/",
          "height": 282
        },
        "outputId": "0de719c7-4f0b-47dc-c476-281e533e2702"
      },
      "source": [
        "(x_train, y_train), (x_test, y_test) = datasets.mnist.load_data()\n",
        "n = 250\n",
        "plt.imshow(x_train[n],cmap=\"Greys\")"
      ],
      "execution_count": 11,
      "outputs": [
        {
          "output_type": "execute_result",
          "data": {
            "text/plain": [
              "<matplotlib.image.AxesImage at 0x7f8d59810b38>"
            ]
          },
          "metadata": {
            "tags": []
          },
          "execution_count": 11
        },
        {
          "output_type": "display_data",
          "data": {
            "image/png": "[encoded data removed]",
            "text/plain": [
              "<Figure size 432x288 with 1 Axes>"
            ]
          },
          "metadata": {
            "tags": [],
            "needs_background": "light"
          }
        }
      ]
    },
    {
      "cell_type": "code",
      "metadata": {
        "id": "TvPZk5T90y2S",
        "colab_type": "code",
        "colab": {}
      },
      "source": [
        "#reshape data and do one-hot encoding\n",
        "x_train = x_train.reshape(60000, 784)/255\n",
        "x_test = x_test.reshape(10000, 784)/255\n",
        "y_train = to_categorical(y_train, 10)\n",
        "y_test = to_categorical(y_test, 10)"
      ],
      "execution_count": 0,
      "outputs": []
    },
    {
      "cell_type": "markdown",
      "metadata": {
        "id": "c4mXvf-tANFy",
        "colab_type": "text"
      },
      "source": [
        "3建立模型與訓練\n",
        "\n",
        "下圖為模型的結構，在第二層後有分歧，其後二者接在一起並做最後的運算與輸出"
      ]
    },
    {
      "cell_type": "code",
      "metadata": {
        "id": "RRt_gcmc9uvX",
        "colab_type": "code",
        "colab": {
          "base_uri": "https://localhost:8080/",
          "height": 170
        },
        "outputId": "0604fd47-fde1-4225-8444-e902fb64da45"
      },
      "source": [
        "image = mpimg.imread('fAPI.png')\n",
        "plt.imshow(image) \n",
        "plt.axis('off') \n",
        "plt.show()"
      ],
      "execution_count": 13,
      "outputs": [
        {
          "output_type": "display_data",
          "data": {
            "image/png": "[encoded data removed]",
            "text/plain": [
              "<Figure size 432x288 with 1 Axes>"
            ]
          },
          "metadata": {
            "tags": [],
            "needs_background": "light"
          }
        }
      ]
    },
    {
      "cell_type": "code",
      "metadata": {
        "id": "2eo82Mn_1DcT",
        "colab_type": "code",
        "colab": {}
      },
      "source": [
        "f1 = Dense(512, activation='sigmoid')\n",
        "f2 = Dense(128, activation='sigmoid')\n",
        "f3 = Dense(128, activation='sigmoid')\n",
        "f4 = Dense(128, activation='relu')\n",
        "f5 = Dense(10, activation='softmax')"
      ],
      "execution_count": 0,
      "outputs": []
    },
    {
      "cell_type": "code",
      "metadata": {
        "id": "DqP95XOO79Qk",
        "colab_type": "code",
        "colab": {
          "base_uri": "https://localhost:8080/",
          "height": 34
        },
        "outputId": "c47a4d2d-180e-4040-b9fd-e1df98cb230c"
      },
      "source": [
        "#第一個變數必定以 Input 函數來定義\n",
        "x = Input(shape=(784,))\n",
        "print(x)"
      ],
      "execution_count": 15,
      "outputs": [
        {
          "output_type": "stream",
          "text": [
            "Tensor(\"input_1:0\", shape=(None, 784), dtype=float32)\n"
          ],
          "name": "stdout"
        }
      ]
    },
    {
      "cell_type": "code",
      "metadata": {
        "id": "MtVZ5pKL8MCG",
        "colab_type": "code",
        "colab": {}
      },
      "source": [
        "h1 = f1(x)\n",
        "h2 = f2(h1)\n",
        "h3 = f3(h2)\n",
        "h4 = f4(h2)\n",
        "z = concatenate([h3, h4])\n",
        "y = f5(z)"
      ],
      "execution_count": 0,
      "outputs": []
    },
    {
      "cell_type": "code",
      "metadata": {
        "id": "88pK51nD87CH",
        "colab_type": "code",
        "colab": {
          "base_uri": "https://localhost:8080/",
          "height": 408
        },
        "outputId": "f439f28e-7c87-408a-c386-f71cd7790587"
      },
      "source": [
        "model = Model(x, y)\n",
        "model.summary()"
      ],
      "execution_count": 18,
      "outputs": [
        {
          "output_type": "stream",
          "text": [
            "Model: \"model\"\n",
            "__________________________________________________________________________________________________\n",
            "Layer (type)                    Output Shape         Param #     Connected to                     \n",
            "==================================================================================================\n",
            "input_1 (InputLayer)            [(None, 784)]        0                                            \n",
            "__________________________________________________________________________________________________\n",
            "dense_5 (Dense)                 (None, 512)          401920      input_1[0][0]                    \n",
            "__________________________________________________________________________________________________\n",
            "dense_6 (Dense)                 (None, 128)          65664       dense_5[1][0]                    \n",
            "__________________________________________________________________________________________________\n",
            "dense_7 (Dense)                 (None, 128)          16512       dense_6[1][0]                    \n",
            "__________________________________________________________________________________________________\n",
            "dense_8 (Dense)                 (None, 128)          16512       dense_6[1][0]                    \n",
            "__________________________________________________________________________________________________\n",
            "concatenate_1 (Concatenate)     (None, 256)          0           dense_7[1][0]                    \n",
            "                                                                 dense_8[1][0]                    \n",
            "__________________________________________________________________________________________________\n",
            "dense_9 (Dense)                 (None, 10)           2570        concatenate_1[0][0]              \n",
            "==================================================================================================\n",
            "Total params: 503,178\n",
            "Trainable params: 503,178\n",
            "Non-trainable params: 0\n",
            "__________________________________________________________________________________________________\n"
          ],
          "name": "stdout"
        }
      ]
    },
    {
      "cell_type": "code",
      "metadata": {
        "id": "167ZEnxF9Foh",
        "colab_type": "code",
        "colab": {}
      },
      "source": [
        "model.compile(loss='mse', optimizer=Adam(), metrics=['accuracy'])"
      ],
      "execution_count": 0,
      "outputs": []
    },
    {
      "cell_type": "code",
      "metadata": {
        "id": "TMiOKCc99KqS",
        "colab_type": "code",
        "colab": {
          "base_uri": "https://localhost:8080/",
          "height": 357
        },
        "outputId": "536fecea-ff99-45e0-eea7-69a6728b404f"
      },
      "source": [
        "history = model.fit(x_train, y_train, batch_size=256, epochs=10)"
      ],
      "execution_count": 20,
      "outputs": [
        {
          "output_type": "stream",
          "text": [
            "Epoch 1/10\n",
            "235/235 [==============================] - 1s 3ms/step - loss: 0.0323 - accuracy: 0.7636\n",
            "Epoch 2/10\n",
            "235/235 [==============================] - 1s 3ms/step - loss: 0.0113 - accuracy: 0.9259\n",
            "Epoch 3/10\n",
            "235/235 [==============================] - 1s 3ms/step - loss: 0.0090 - accuracy: 0.9418\n",
            "Epoch 4/10\n",
            "235/235 [==============================] - 1s 3ms/step - loss: 0.0073 - accuracy: 0.9528\n",
            "Epoch 5/10\n",
            "235/235 [==============================] - 1s 3ms/step - loss: 0.0063 - accuracy: 0.9600\n",
            "Epoch 6/10\n",
            "235/235 [==============================] - 1s 3ms/step - loss: 0.0055 - accuracy: 0.9650\n",
            "Epoch 7/10\n",
            "235/235 [==============================] - 1s 3ms/step - loss: 0.0047 - accuracy: 0.9707\n",
            "Epoch 8/10\n",
            "235/235 [==============================] - 1s 3ms/step - loss: 0.0041 - accuracy: 0.9751\n",
            "Epoch 9/10\n",
            "235/235 [==============================] - 1s 3ms/step - loss: 0.0037 - accuracy: 0.9771\n",
            "Epoch 10/10\n",
            "235/235 [==============================] - 1s 3ms/step - loss: 0.0034 - accuracy: 0.9792\n"
          ],
          "name": "stdout"
        }
      ]
    }
  ]
}