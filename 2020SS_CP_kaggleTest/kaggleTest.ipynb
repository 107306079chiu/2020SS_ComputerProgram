{
  "nbformat": 4,
  "nbformat_minor": 0,
  "metadata": {
    "colab": {
      "name": "kaggleTest.ipynb",
      "provenance": []
    },
    "kernelspec": {
      "name": "python3",
      "display_name": "Python 3"
    }
  },
  "cells": [
    {
      "cell_type": "markdown",
      "metadata": {
        "id": "UzSPjggS0sSw",
        "colab_type": "text"
      },
      "source": [
        "讀入套件"
      ]
    },
    {
      "cell_type": "code",
      "metadata": {
        "id": "1jQwNOmMHNz6",
        "colab_type": "code",
        "colab": {}
      },
      "source": [
        "import pandas as pd\n",
        "import numpy as np\n",
        "from sklearn.model_selection import train_test_split\n",
        "%matplotlib inline\n",
        "import matplotlib.pyplot as plt\n",
        "import tensorflow as tf\n",
        "from tensorflow.keras.models import Sequential\n",
        "from tensorflow.keras.optimizers import SGD\n",
        "from tensorflow.keras.preprocessing import sequence\n",
        "from tensorflow.keras.layers import Dense, Embedding\n",
        "from tensorflow.keras.layers import LSTM"
      ],
      "execution_count": 0,
      "outputs": []
    },
    {
      "cell_type": "markdown",
      "metadata": {
        "id": "gq31fcF90v2E",
        "colab_type": "text"
      },
      "source": [
        "下載kaggle資料集"
      ]
    },
    {
      "cell_type": "code",
      "metadata": {
        "id": "Sk4ZR3k7GZe1",
        "colab_type": "code",
        "outputId": "7a7f7915-385a-4532-8462-981f996e1552",
        "colab": {
          "resources": {
            "http://localhost:8080/nbextensions/google.colab/files.js": {
              "data": "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",
              "ok": true,
              "headers": [
                [
                  "content-type",
                  "application/javascript"
                ]
              ],
              "status": 200,
              "status_text": ""
            }
          },
          "base_uri": "https://localhost:8080/",
          "height": 88
        }
      },
      "source": [
        "# Download kaggle data in Google Colab\n",
        "! pip install -q kaggle\n",
        "from google.colab import files\n",
        "files.upload()"
      ],
      "execution_count": 0,
      "outputs": [
        {
          "output_type": "display_data",
          "data": {
            "text/html": [
              "\n",
              "     <input type=\"file\" id=\"files-c5100c58-cd71-410e-b4d7-0b6b8b51a571\" name=\"files[]\" multiple disabled />\n",
              "     <output id=\"result-c5100c58-cd71-410e-b4d7-0b6b8b51a571\">\n",
              "      Upload widget is only available when the cell has been executed in the\n",
              "      current browser session. Please rerun this cell to enable.\n",
              "      </output>\n",
              "      <script src=\"/nbextensions/google.colab/files.js\"></script> "
            ],
            "text/plain": [
              "<IPython.core.display.HTML object>"
            ]
          },
          "metadata": {
            "tags": []
          }
        },
        {
          "output_type": "stream",
          "text": [
            "Saving kaggle.json to kaggle (1).json\n"
          ],
          "name": "stdout"
        },
        {
          "output_type": "execute_result",
          "data": {
            "text/plain": [
              "{'kaggle.json': b'{\"username\":\"sasaya\",\"key\":\"57111f0886ee2f5e66a7a2ef624a36a0\"}'}"
            ]
          },
          "metadata": {
            "tags": []
          },
          "execution_count": 24
        }
      ]
    },
    {
      "cell_type": "code",
      "metadata": {
        "id": "9mKz4lqLGi4E",
        "colab_type": "code",
        "colab": {}
      },
      "source": [
        "! cp kaggle.json ~/.kaggle/"
      ],
      "execution_count": 0,
      "outputs": []
    },
    {
      "cell_type": "code",
      "metadata": {
        "id": "GdzD5GhOGpDW",
        "colab_type": "code",
        "colab": {}
      },
      "source": [
        "! chmod 600 ~/.kaggle/kaggle.json"
      ],
      "execution_count": 0,
      "outputs": []
    },
    {
      "cell_type": "code",
      "metadata": {
        "id": "UQqw5_wYHDgf",
        "colab_type": "code",
        "outputId": "f4304a6d-aa1d-4d86-a05c-329170ce23f2",
        "colab": {
          "base_uri": "https://localhost:8080/",
          "height": 34
        }
      },
      "source": [
        "! kaggle datasets download -d 'aniruddhaachar/audio-features'"
      ],
      "execution_count": 0,
      "outputs": [
        {
          "output_type": "stream",
          "text": [
            "audio-features.zip: Skipping, found more recently modified local copy (use --force to force download)\n"
          ],
          "name": "stdout"
        }
      ]
    },
    {
      "cell_type": "code",
      "metadata": {
        "id": "dUAZxZ0tHFhS",
        "colab_type": "code",
        "outputId": "5bda6cf0-d84b-462b-aa3e-8c969eab379c",
        "colab": {
          "base_uri": "https://localhost:8080/",
          "height": 204
        }
      },
      "source": [
        "! unzip audio-features.zip"
      ],
      "execution_count": 0,
      "outputs": [
        {
          "output_type": "stream",
          "text": [
            "Archive:  audio-features.zip\n",
            "replace database.sqlite? [y]es, [n]o, [A]ll, [N]one, [r]ename: A\n",
            "  inflating: database.sqlite         \n",
            "  inflating: dinner_audio.csv        \n",
            "  inflating: dinner_track.csv        \n",
            "  inflating: party_audio.csv         \n",
            "  inflating: party_track.csv         \n",
            "  inflating: sleep_audio.csv         \n",
            "  inflating: sleep_track.csv         \n",
            "  inflating: workout_audio.csv       \n",
            "  inflating: workout_track.csv       \n"
          ],
          "name": "stdout"
        }
      ]
    },
    {
      "cell_type": "code",
      "metadata": {
        "id": "OgygVw_UHI2I",
        "colab_type": "code",
        "colab": {}
      },
      "source": [
        "dinner = pd.read_csv('dinner_track.csv')\n",
        "party = pd.read_csv('party_track.csv')\n",
        "sleep = pd.read_csv('sleep_track.csv')\n",
        "workout = pd.read_csv('workout_track.csv')"
      ],
      "execution_count": 0,
      "outputs": []
    },
    {
      "cell_type": "code",
      "metadata": {
        "id": "twDS5NYYH6qO",
        "colab_type": "code",
        "outputId": "4d4b697c-2a7a-4ab6-d399-fb046fe61917",
        "colab": {
          "base_uri": "https://localhost:8080/",
          "height": 762
        }
      },
      "source": [
        "dinner"
      ],
      "execution_count": 0,
      "outputs": [
        {
          "output_type": "execute_result",
          "data": {
            "text/html": [
              "<div>\n",
              "<style scoped>\n",
              "    .dataframe tbody tr th:only-of-type {\n",
              "        vertical-align: middle;\n",
              "    }\n",
              "\n",
              "    .dataframe tbody tr th {\n",
              "        vertical-align: top;\n",
              "    }\n",
              "\n",
              "    .dataframe thead th {\n",
              "        text-align: right;\n",
              "    }\n",
              "</style>\n",
              "<table border=\"1\" class=\"dataframe\">\n",
              "  <thead>\n",
              "    <tr style=\"text-align: right;\">\n",
              "      <th></th>\n",
              "      <th>id</th>\n",
              "      <th>name</th>\n",
              "      <th>uri</th>\n",
              "      <th>artist</th>\n",
              "      <th>acousticness</th>\n",
              "      <th>danceability</th>\n",
              "      <th>duration_ms</th>\n",
              "      <th>energy</th>\n",
              "      <th>instrumentalness</th>\n",
              "      <th>key</th>\n",
              "      <th>liveness</th>\n",
              "      <th>loudness</th>\n",
              "      <th>mode</th>\n",
              "      <th>speechiness</th>\n",
              "      <th>tempo</th>\n",
              "      <th>time_signature</th>\n",
              "      <th>valence</th>\n",
              "    </tr>\n",
              "  </thead>\n",
              "  <tbody>\n",
              "    <tr>\n",
              "      <th>0</th>\n",
              "      <td>4dn6rw5Ze1uWrLm1uOk1gu</td>\n",
              "      <td>Stockholm Sweetnin'</td>\n",
              "      <td>spotify:track:4dn6rw5Ze1uWrLm1uOk1gu</td>\n",
              "      <td>Scott Hamilton, Jesper Lundgaard, Jan Lundgren...</td>\n",
              "      <td>0.838</td>\n",
              "      <td>0.602</td>\n",
              "      <td>475680</td>\n",
              "      <td>0.302</td>\n",
              "      <td>0.907000</td>\n",
              "      <td>8</td>\n",
              "      <td>0.1130</td>\n",
              "      <td>-11.627</td>\n",
              "      <td>1</td>\n",
              "      <td>0.0427</td>\n",
              "      <td>119.758</td>\n",
              "      <td>4</td>\n",
              "      <td>0.300</td>\n",
              "    </tr>\n",
              "    <tr>\n",
              "      <th>1</th>\n",
              "      <td>6CDQBADsdzJwc3qZ3OPDHH</td>\n",
              "      <td>Almost Like Being in Love</td>\n",
              "      <td>spotify:track:6CDQBADsdzJwc3qZ3OPDHH</td>\n",
              "      <td>Red Garland, Paul Chambers, Art Taylor,</td>\n",
              "      <td>0.873</td>\n",
              "      <td>0.571</td>\n",
              "      <td>290293</td>\n",
              "      <td>0.346</td>\n",
              "      <td>0.519000</td>\n",
              "      <td>0</td>\n",
              "      <td>0.0980</td>\n",
              "      <td>-12.569</td>\n",
              "      <td>0</td>\n",
              "      <td>0.0409</td>\n",
              "      <td>93.885</td>\n",
              "      <td>4</td>\n",
              "      <td>0.687</td>\n",
              "    </tr>\n",
              "    <tr>\n",
              "      <th>2</th>\n",
              "      <td>00CIFNT8kOm61dupysBFp8</td>\n",
              "      <td>Garden of Delight</td>\n",
              "      <td>spotify:track:00CIFNT8kOm61dupysBFp8</td>\n",
              "      <td>Jan Lundgren Trio,</td>\n",
              "      <td>0.876</td>\n",
              "      <td>0.427</td>\n",
              "      <td>291862</td>\n",
              "      <td>0.287</td>\n",
              "      <td>0.874000</td>\n",
              "      <td>11</td>\n",
              "      <td>0.1330</td>\n",
              "      <td>-19.834</td>\n",
              "      <td>1</td>\n",
              "      <td>0.0346</td>\n",
              "      <td>104.407</td>\n",
              "      <td>4</td>\n",
              "      <td>0.467</td>\n",
              "    </tr>\n",
              "    <tr>\n",
              "      <th>3</th>\n",
              "      <td>2z6D5bIA9Wprdqi1B8nnVh</td>\n",
              "      <td>New Orleans</td>\n",
              "      <td>spotify:track:2z6D5bIA9Wprdqi1B8nnVh</td>\n",
              "      <td>Wynton Marsalis,</td>\n",
              "      <td>0.714</td>\n",
              "      <td>0.644</td>\n",
              "      <td>340693</td>\n",
              "      <td>0.205</td>\n",
              "      <td>0.048200</td>\n",
              "      <td>10</td>\n",
              "      <td>0.0510</td>\n",
              "      <td>-16.005</td>\n",
              "      <td>1</td>\n",
              "      <td>0.0397</td>\n",
              "      <td>118.314</td>\n",
              "      <td>4</td>\n",
              "      <td>0.411</td>\n",
              "    </tr>\n",
              "    <tr>\n",
              "      <th>4</th>\n",
              "      <td>1ykNjOQbYJgZE3pflVB9MN</td>\n",
              "      <td>The Sequel</td>\n",
              "      <td>spotify:track:1ykNjOQbYJgZE3pflVB9MN</td>\n",
              "      <td>Wingspan,</td>\n",
              "      <td>0.703</td>\n",
              "      <td>0.532</td>\n",
              "      <td>482360</td>\n",
              "      <td>0.364</td>\n",
              "      <td>0.618000</td>\n",
              "      <td>9</td>\n",
              "      <td>0.0602</td>\n",
              "      <td>-13.068</td>\n",
              "      <td>0</td>\n",
              "      <td>0.0297</td>\n",
              "      <td>127.166</td>\n",
              "      <td>4</td>\n",
              "      <td>0.271</td>\n",
              "    </tr>\n",
              "    <tr>\n",
              "      <th>...</th>\n",
              "      <td>...</td>\n",
              "      <td>...</td>\n",
              "      <td>...</td>\n",
              "      <td>...</td>\n",
              "      <td>...</td>\n",
              "      <td>...</td>\n",
              "      <td>...</td>\n",
              "      <td>...</td>\n",
              "      <td>...</td>\n",
              "      <td>...</td>\n",
              "      <td>...</td>\n",
              "      <td>...</td>\n",
              "      <td>...</td>\n",
              "      <td>...</td>\n",
              "      <td>...</td>\n",
              "      <td>...</td>\n",
              "      <td>...</td>\n",
              "    </tr>\n",
              "    <tr>\n",
              "      <th>466</th>\n",
              "      <td>7vWSEWnBtWb48R7gJ6qngk</td>\n",
              "      <td>Fighter Girl</td>\n",
              "      <td>spotify:track:7vWSEWnBtWb48R7gJ6qngk</td>\n",
              "      <td>Mason Jennings,</td>\n",
              "      <td>0.465</td>\n",
              "      <td>0.557</td>\n",
              "      <td>200187</td>\n",
              "      <td>0.647</td>\n",
              "      <td>0.000002</td>\n",
              "      <td>1</td>\n",
              "      <td>0.1230</td>\n",
              "      <td>-6.365</td>\n",
              "      <td>1</td>\n",
              "      <td>0.0295</td>\n",
              "      <td>77.057</td>\n",
              "      <td>4</td>\n",
              "      <td>0.548</td>\n",
              "    </tr>\n",
              "    <tr>\n",
              "      <th>467</th>\n",
              "      <td>0FrCdLSwmmmu3iUxfj2VbZ</td>\n",
              "      <td>Tuck the Darkness In</td>\n",
              "      <td>spotify:track:0FrCdLSwmmmu3iUxfj2VbZ</td>\n",
              "      <td>Bowerbirds,</td>\n",
              "      <td>0.689</td>\n",
              "      <td>0.617</td>\n",
              "      <td>290147</td>\n",
              "      <td>0.433</td>\n",
              "      <td>0.254000</td>\n",
              "      <td>7</td>\n",
              "      <td>0.1170</td>\n",
              "      <td>-9.452</td>\n",
              "      <td>1</td>\n",
              "      <td>0.0288</td>\n",
              "      <td>109.979</td>\n",
              "      <td>4</td>\n",
              "      <td>0.301</td>\n",
              "    </tr>\n",
              "    <tr>\n",
              "      <th>468</th>\n",
              "      <td>37cKyb3sDEt5hRSpBdsrns</td>\n",
              "      <td>Swing Lo Magellan</td>\n",
              "      <td>spotify:track:37cKyb3sDEt5hRSpBdsrns</td>\n",
              "      <td>Dirty Projectors,</td>\n",
              "      <td>0.825</td>\n",
              "      <td>0.738</td>\n",
              "      <td>157800</td>\n",
              "      <td>0.366</td>\n",
              "      <td>0.000027</td>\n",
              "      <td>5</td>\n",
              "      <td>0.1180</td>\n",
              "      <td>-10.231</td>\n",
              "      <td>0</td>\n",
              "      <td>0.0324</td>\n",
              "      <td>101.031</td>\n",
              "      <td>4</td>\n",
              "      <td>0.504</td>\n",
              "    </tr>\n",
              "    <tr>\n",
              "      <th>469</th>\n",
              "      <td>19n9s9SfnLtwPEODqk8KCT</td>\n",
              "      <td>Live And Die</td>\n",
              "      <td>spotify:track:19n9s9SfnLtwPEODqk8KCT</td>\n",
              "      <td>The Avett Brothers,</td>\n",
              "      <td>0.113</td>\n",
              "      <td>0.591</td>\n",
              "      <td>271187</td>\n",
              "      <td>0.746</td>\n",
              "      <td>0.000000</td>\n",
              "      <td>11</td>\n",
              "      <td>0.1510</td>\n",
              "      <td>-5.054</td>\n",
              "      <td>1</td>\n",
              "      <td>0.0285</td>\n",
              "      <td>117.807</td>\n",
              "      <td>4</td>\n",
              "      <td>0.611</td>\n",
              "    </tr>\n",
              "    <tr>\n",
              "      <th>470</th>\n",
              "      <td>15uTxjdvNnV6U5u5L4vpnM</td>\n",
              "      <td>Mightiest of Guns</td>\n",
              "      <td>spotify:track:15uTxjdvNnV6U5u5L4vpnM</td>\n",
              "      <td>A.A. Bondy,</td>\n",
              "      <td>0.879</td>\n",
              "      <td>0.236</td>\n",
              "      <td>227280</td>\n",
              "      <td>0.160</td>\n",
              "      <td>0.026500</td>\n",
              "      <td>0</td>\n",
              "      <td>0.1940</td>\n",
              "      <td>-16.868</td>\n",
              "      <td>1</td>\n",
              "      <td>0.0350</td>\n",
              "      <td>169.025</td>\n",
              "      <td>4</td>\n",
              "      <td>0.122</td>\n",
              "    </tr>\n",
              "  </tbody>\n",
              "</table>\n",
              "<p>471 rows × 17 columns</p>\n",
              "</div>"
            ],
            "text/plain": [
              "                         id                       name  ... time_signature valence\n",
              "0    4dn6rw5Ze1uWrLm1uOk1gu        Stockholm Sweetnin'  ...              4   0.300\n",
              "1    6CDQBADsdzJwc3qZ3OPDHH  Almost Like Being in Love  ...              4   0.687\n",
              "2    00CIFNT8kOm61dupysBFp8          Garden of Delight  ...              4   0.467\n",
              "3    2z6D5bIA9Wprdqi1B8nnVh                New Orleans  ...              4   0.411\n",
              "4    1ykNjOQbYJgZE3pflVB9MN                 The Sequel  ...              4   0.271\n",
              "..                      ...                        ...  ...            ...     ...\n",
              "466  7vWSEWnBtWb48R7gJ6qngk               Fighter Girl  ...              4   0.548\n",
              "467  0FrCdLSwmmmu3iUxfj2VbZ       Tuck the Darkness In  ...              4   0.301\n",
              "468  37cKyb3sDEt5hRSpBdsrns          Swing Lo Magellan  ...              4   0.504\n",
              "469  19n9s9SfnLtwPEODqk8KCT               Live And Die  ...              4   0.611\n",
              "470  15uTxjdvNnV6U5u5L4vpnM          Mightiest of Guns  ...              4   0.122\n",
              "\n",
              "[471 rows x 17 columns]"
            ]
          },
          "metadata": {
            "tags": []
          },
          "execution_count": 30
        }
      ]
    },
    {
      "cell_type": "markdown",
      "metadata": {
        "id": "xFB6hNYh03N7",
        "colab_type": "text"
      },
      "source": [
        "整理資料"
      ]
    },
    {
      "cell_type": "code",
      "metadata": {
        "id": "hx__bShYH8_C",
        "colab_type": "code",
        "outputId": "3a5301d3-0cc9-422e-bad9-74c55f961fac",
        "colab": {
          "base_uri": "https://localhost:8080/",
          "height": 85
        }
      },
      "source": [
        "print('dinner length', len(dinner))\n",
        "print('party length', len(party))\n",
        "print('sleep length', len(sleep))\n",
        "print('workout length', len(workout))"
      ],
      "execution_count": 0,
      "outputs": [
        {
          "output_type": "stream",
          "text": [
            "dinner length 471\n",
            "party length 280\n",
            "sleep length 363\n",
            "workout length 363\n"
          ],
          "name": "stdout"
        }
      ]
    },
    {
      "cell_type": "code",
      "metadata": {
        "id": "A3frv_ekIhRs",
        "colab_type": "code",
        "colab": {}
      },
      "source": [
        "dinner_y = np.array([0.5 for x in range(len(dinner))])\n",
        "dinner_y = np.reshape(dinner_y,(len(dinner),-1))\n",
        "party_y = np.array([1 for x in range(len(party))])\n",
        "party_y = np.reshape(party_y,(len(party),-1))\n",
        "sleep_y = np.array([0 for x in range(len(sleep))])\n",
        "sleep_y = np.reshape(sleep_y,(len(sleep),-1))\n",
        "workout_y = np.array([1 for x in range(len(workout))])\n",
        "workout_y = np.reshape(workout_y,(len(workout),-1))"
      ],
      "execution_count": 0,
      "outputs": []
    },
    {
      "cell_type": "code",
      "metadata": {
        "id": "RcMrXZTUMu6n",
        "colab_type": "code",
        "colab": {}
      },
      "source": [
        "d_dance = dinner.danceability.values\n",
        "d_energy = dinner.energy.values\n",
        "d_tempo = dinner.tempo.values\n",
        "d_dance.shape = (len(dinner), 1)\n",
        "d_energy.shape = (len(dinner), 1) \n",
        "d_tempo.shape = (len(dinner), 1)  \n",
        "dinner_x = np.append(d_dance, d_energy, axis = 1)\n",
        "dinner_x = np.append(dinner_x, d_tempo, axis = 1)\n",
        "p_dance = party.danceability.values\n",
        "p_energy = party.energy.values\n",
        "p_tempo = party.tempo.values\n",
        "p_dance.shape = (len(party), 1)\n",
        "p_energy.shape = (len(party), 1) \n",
        "p_tempo.shape = (len(party), 1)  \n",
        "party_x = np.append(p_dance, p_energy, axis = 1)\n",
        "party_x = np.append(party_x, p_tempo, axis = 1)\n",
        "s_dance = sleep.danceability.values\n",
        "s_energy = sleep.energy.values\n",
        "s_tempo = sleep.tempo.values\n",
        "s_dance.shape = (len(sleep), 1)\n",
        "s_energy.shape = (len(sleep), 1) \n",
        "s_tempo.shape = (len(sleep), 1)  \n",
        "sleep_x = np.append(s_dance, s_energy, axis = 1)\n",
        "sleep_x = np.append(sleep_x, s_tempo, axis = 1)\n",
        "w_dance = workout.danceability.values\n",
        "w_energy = workout.energy.values\n",
        "w_tempo = workout.tempo.values\n",
        "w_dance.shape = (len(workout), 1)\n",
        "w_energy.shape = (len(workout), 1) \n",
        "w_tempo.shape = (len(workout), 1)  \n",
        "workout_x = np.append(w_dance, w_energy, axis = 1)\n",
        "workout_x = np.append(workout_x, w_tempo, axis = 1)"
      ],
      "execution_count": 0,
      "outputs": []
    },
    {
      "cell_type": "markdown",
      "metadata": {
        "id": "4Vq3svDr06j8",
        "colab_type": "text"
      },
      "source": [
        "組裝＆訓練"
      ]
    },
    {
      "cell_type": "code",
      "metadata": {
        "id": "8UcGto44kPqt",
        "colab_type": "code",
        "outputId": "4f1c9d74-afe5-4ca4-f4ac-bcd633102390",
        "colab": {
          "base_uri": "https://localhost:8080/",
          "height": 255
        }
      },
      "source": [
        "model = Sequential()\n",
        "model.add(Dense(30, input_dim = 3, activation = 'relu'))\n",
        "model.add(Dense(30, activation = 'relu'))\n",
        "model.add(Dense(10, activation = 'softmax'))\n",
        "\n",
        "#組裝\n",
        "model.compile(loss = 'mse', optimizer = SGD(lr = 0.09), metrics = ['accuracy'])\n",
        "model.summary()"
      ],
      "execution_count": 0,
      "outputs": [
        {
          "output_type": "stream",
          "text": [
            "Model: \"sequential_2\"\n",
            "_________________________________________________________________\n",
            "Layer (type)                 Output Shape              Param #   \n",
            "=================================================================\n",
            "dense_6 (Dense)              (None, 30)                120       \n",
            "_________________________________________________________________\n",
            "dense_7 (Dense)              (None, 30)                930       \n",
            "_________________________________________________________________\n",
            "dense_8 (Dense)              (None, 10)                310       \n",
            "=================================================================\n",
            "Total params: 1,360\n",
            "Trainable params: 1,360\n",
            "Non-trainable params: 0\n",
            "_________________________________________________________________\n"
          ],
          "name": "stdout"
        }
      ]
    },
    {
      "cell_type": "code",
      "metadata": {
        "id": "8CrsPCN1nJaz",
        "colab_type": "code",
        "outputId": "b4bd4e63-7a28-4808-bd52-d2ab6883f271",
        "colab": {
          "base_uri": "https://localhost:8080/",
          "height": 1000
        }
      },
      "source": [
        "model.fit(dinner_x, dinner_y, batch_size=30, epochs=10)\n",
        "model.fit(party_x, party_y, batch_size=30, epochs=10)\n",
        "model.fit(sleep_x, sleep_y, batch_size=30, epochs=10)\n",
        "model.fit(workout_x, workout_y, batch_size=30, epochs=10)"
      ],
      "execution_count": 0,
      "outputs": [
        {
          "output_type": "stream",
          "text": [
            "Epoch 1/10\n",
            "16/16 [==============================] - 0s 1ms/step - loss: nan - accuracy: 0.0000e+00\n",
            "Epoch 2/10\n",
            "16/16 [==============================] - 0s 1ms/step - loss: nan - accuracy: 0.0000e+00\n",
            "Epoch 3/10\n",
            "16/16 [==============================] - 0s 1ms/step - loss: nan - accuracy: 0.0000e+00\n",
            "Epoch 4/10\n",
            "16/16 [==============================] - 0s 1ms/step - loss: nan - accuracy: 0.0000e+00\n",
            "Epoch 5/10\n",
            "16/16 [==============================] - 0s 2ms/step - loss: nan - accuracy: 0.0000e+00\n",
            "Epoch 6/10\n",
            "16/16 [==============================] - 0s 1ms/step - loss: nan - accuracy: 0.0000e+00\n",
            "Epoch 7/10\n",
            "16/16 [==============================] - 0s 1ms/step - loss: nan - accuracy: 0.0000e+00\n",
            "Epoch 8/10\n",
            "16/16 [==============================] - 0s 1ms/step - loss: nan - accuracy: 0.0000e+00\n",
            "Epoch 9/10\n",
            "16/16 [==============================] - 0s 2ms/step - loss: nan - accuracy: 0.0000e+00\n",
            "Epoch 10/10\n",
            "16/16 [==============================] - 0s 1ms/step - loss: nan - accuracy: 0.0000e+00\n",
            "Epoch 1/10\n",
            "10/10 [==============================] - 0s 2ms/step - loss: nan - accuracy: 0.0000e+00\n",
            "Epoch 2/10\n",
            "10/10 [==============================] - 0s 1ms/step - loss: nan - accuracy: 0.0000e+00\n",
            "Epoch 3/10\n",
            "10/10 [==============================] - 0s 1ms/step - loss: nan - accuracy: 0.0000e+00\n",
            "Epoch 4/10\n",
            "10/10 [==============================] - 0s 2ms/step - loss: nan - accuracy: 0.0000e+00\n",
            "Epoch 5/10\n",
            "10/10 [==============================] - 0s 2ms/step - loss: nan - accuracy: 0.0000e+00\n",
            "Epoch 6/10\n",
            "10/10 [==============================] - 0s 2ms/step - loss: nan - accuracy: 0.0000e+00\n",
            "Epoch 7/10\n",
            "10/10 [==============================] - 0s 1ms/step - loss: nan - accuracy: 0.0000e+00\n",
            "Epoch 8/10\n",
            "10/10 [==============================] - 0s 1ms/step - loss: nan - accuracy: 0.0000e+00\n",
            "Epoch 9/10\n",
            "10/10 [==============================] - 0s 1ms/step - loss: nan - accuracy: 0.0000e+00\n",
            "Epoch 10/10\n",
            "10/10 [==============================] - 0s 1ms/step - loss: nan - accuracy: 0.0000e+00\n",
            "Epoch 1/10\n",
            "13/13 [==============================] - 0s 2ms/step - loss: nan - accuracy: 1.0000\n",
            "Epoch 2/10\n",
            "13/13 [==============================] - 0s 2ms/step - loss: nan - accuracy: 1.0000\n",
            "Epoch 3/10\n",
            "13/13 [==============================] - 0s 2ms/step - loss: nan - accuracy: 1.0000\n",
            "Epoch 4/10\n",
            "13/13 [==============================] - 0s 1ms/step - loss: nan - accuracy: 1.0000\n",
            "Epoch 5/10\n",
            "13/13 [==============================] - 0s 1ms/step - loss: nan - accuracy: 1.0000\n",
            "Epoch 6/10\n",
            "13/13 [==============================] - 0s 1ms/step - loss: nan - accuracy: 1.0000\n",
            "Epoch 7/10\n",
            "13/13 [==============================] - 0s 1ms/step - loss: nan - accuracy: 1.0000\n",
            "Epoch 8/10\n",
            "13/13 [==============================] - 0s 1ms/step - loss: nan - accuracy: 1.0000\n",
            "Epoch 9/10\n",
            "13/13 [==============================] - 0s 1ms/step - loss: nan - accuracy: 1.0000\n",
            "Epoch 10/10\n",
            "13/13 [==============================] - 0s 2ms/step - loss: nan - accuracy: 1.0000\n",
            "Epoch 1/10\n",
            "13/13 [==============================] - 0s 1ms/step - loss: nan - accuracy: 0.0000e+00\n",
            "Epoch 2/10\n",
            "13/13 [==============================] - 0s 1ms/step - loss: nan - accuracy: 0.0000e+00\n",
            "Epoch 3/10\n",
            "13/13 [==============================] - 0s 1ms/step - loss: nan - accuracy: 0.0000e+00\n",
            "Epoch 4/10\n",
            "13/13 [==============================] - 0s 2ms/step - loss: nan - accuracy: 0.0000e+00\n",
            "Epoch 5/10\n",
            "13/13 [==============================] - 0s 2ms/step - loss: nan - accuracy: 0.0000e+00\n",
            "Epoch 6/10\n",
            "13/13 [==============================] - 0s 1ms/step - loss: nan - accuracy: 0.0000e+00\n",
            "Epoch 7/10\n",
            "13/13 [==============================] - 0s 2ms/step - loss: nan - accuracy: 0.0000e+00\n",
            "Epoch 8/10\n",
            "13/13 [==============================] - 0s 2ms/step - loss: nan - accuracy: 0.0000e+00\n",
            "Epoch 9/10\n",
            "13/13 [==============================] - 0s 1ms/step - loss: nan - accuracy: 0.0000e+00\n",
            "Epoch 10/10\n",
            "13/13 [==============================] - 0s 1ms/step - loss: nan - accuracy: 0.0000e+00\n"
          ],
          "name": "stdout"
        },
        {
          "output_type": "execute_result",
          "data": {
            "text/plain": [
              "<tensorflow.python.keras.callbacks.History at 0x7f10ce467160>"
            ]
          },
          "metadata": {
            "tags": []
          },
          "execution_count": 83
        }
      ]
    }
  ]
}