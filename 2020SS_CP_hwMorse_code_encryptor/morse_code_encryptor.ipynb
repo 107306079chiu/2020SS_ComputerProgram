{
 "cells": [
  {
   "cell_type": "code",
   "execution_count": 23,
   "metadata": {},
   "outputs": [
    {
     "name": "stdout",
     "output_type": "stream",
     "text": [
      "hello250\n",
      ".... . .-.. .-.. --- ..--- ..... ----- \n"
     ]
    }
   ],
   "source": [
    "morseDict = {'A':'.-', 'B':'-...', 'C':'-.-.', 'D':'-..', 'E':'.',  'F':'..-.', 'G':'--.', 'H':'....', \n",
    "            'I':'..', 'J':'.---', 'K':'-.-', 'L':'.-..', 'M':'--', 'N':'-.', 'O':'---', 'P':'.--.', 'Q':'--.-', \n",
    "            'R':'.-.', 'S':'...', 'T':'-', 'U':'..-', 'V':'...-', 'W':'.--', 'X':'-..-', 'Y':'-.--', 'Z':'--..', \n",
    "            '1':'.----', '2':'..---', '3':'...--', '4':'....-', '5':'.....', '6':'-....', '7':'--...', \n",
    "            '8':'---..', '9':'----.', '0':'-----', ', ':'--..--', '.':'.-.-.-', '?':'..--..', '/':'-..-.', \n",
    "             '-':'-....-', '(':'-.--.', ')':'-.--.-'}\n",
    "message = input()\n",
    "message = message.upper()\n",
    "def encrypt(a):\n",
    "    code = ''\n",
    "    for letter in a:\n",
    "        if a != ' ':\n",
    "            code += morseDict[letter] + ' '\n",
    "        else:\n",
    "            code += ' '\n",
    "    print(code)\n",
    "encrypt(message)"
   ]
  },
  {
   "cell_type": "code",
   "execution_count": null,
   "metadata": {},
   "outputs": [],
   "source": []
  },
  {
   "cell_type": "code",
   "execution_count": null,
   "metadata": {},
   "outputs": [],
   "source": []
  }
 ],
 "metadata": {
  "kernelspec": {
   "display_name": "Python 3",
   "language": "python",
   "name": "python3"
  },
  "language_info": {
   "codemirror_mode": {
    "name": "ipython",
    "version": 3
   },
   "file_extension": ".py",
   "mimetype": "text/x-python",
   "name": "python",
   "nbconvert_exporter": "python",
   "pygments_lexer": "ipython3",
   "version": "3.7.4"
  }
 },
 "nbformat": 4,
 "nbformat_minor": 2
}
