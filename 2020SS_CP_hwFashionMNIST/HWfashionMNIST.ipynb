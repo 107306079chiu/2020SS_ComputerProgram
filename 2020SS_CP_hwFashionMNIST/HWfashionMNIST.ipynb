{
  "nbformat": 4,
  "nbformat_minor": 0,
  "metadata": {
    "colab": {
      "name": "HWfashionMNIST.ipynb",
      "provenance": []
    },
    "kernelspec": {
      "name": "python3",
      "display_name": "Python 3"
    },
    "accelerator": "TPU"
  },
  "cells": [
    {
      "cell_type": "code",
      "metadata": {
        "id": "QIMIKwIYELCs",
        "colab_type": "code",
        "colab": {
          "base_uri": "https://localhost:8080/",
          "height": 85
        },
        "outputId": "a0aff1d7-c754-4f94-bbed-de7860b44046"
      },
      "source": [
        "%tensorflow_version"
      ],
      "execution_count": 1,
      "outputs": [
        {
          "output_type": "stream",
          "text": [
            "Currently selected TF version: 1.x\n",
            "Available versions:\n",
            "* 1.x\n",
            "* 2.x\n"
          ],
          "name": "stdout"
        }
      ]
    },
    {
      "cell_type": "code",
      "metadata": {
        "id": "fqPJflj0EnZh",
        "colab_type": "code",
        "colab": {
          "base_uri": "https://localhost:8080/",
          "height": 34
        },
        "outputId": "4ccc3fdb-dd9d-446a-9f58-95290cd821f1"
      },
      "source": [
        "%tensorflow_version 2.x"
      ],
      "execution_count": 2,
      "outputs": [
        {
          "output_type": "stream",
          "text": [
            "TensorFlow 2.x selected.\n"
          ],
          "name": "stdout"
        }
      ]
    },
    {
      "cell_type": "code",
      "metadata": {
        "id": "KW4-S6p0EsMx",
        "colab_type": "code",
        "colab": {}
      },
      "source": [
        "%matplotlib inline\n",
        "import numpy as np\n",
        "import matplotlib.pyplot as plt\n",
        "import tensorflow as tf"
      ],
      "execution_count": 0,
      "outputs": []
    },
    {
      "cell_type": "code",
      "metadata": {
        "id": "4NSTJtRAFeQX",
        "colab_type": "code",
        "colab": {}
      },
      "source": [
        "from tensorflow.keras.datasets import fashion_mnist"
      ],
      "execution_count": 0,
      "outputs": []
    },
    {
      "cell_type": "code",
      "metadata": {
        "id": "ZGVOTxOqFcjb",
        "colab_type": "code",
        "colab": {
          "base_uri": "https://localhost:8080/",
          "height": 153
        },
        "outputId": "30ed4f31-72b9-4adc-f0fb-67bce78cae26"
      },
      "source": [
        "(x_train, y_train), (x_test, y_test) = fashion_mnist.load_data()"
      ],
      "execution_count": 6,
      "outputs": [
        {
          "output_type": "stream",
          "text": [
            "Downloading data from https://storage.googleapis.com/tensorflow/tf-keras-datasets/train-labels-idx1-ubyte.gz\n",
            "32768/29515 [=================================] - 0s 0us/step\n",
            "Downloading data from https://storage.googleapis.com/tensorflow/tf-keras-datasets/train-images-idx3-ubyte.gz\n",
            "26427392/26421880 [==============================] - 0s 0us/step\n",
            "Downloading data from https://storage.googleapis.com/tensorflow/tf-keras-datasets/t10k-labels-idx1-ubyte.gz\n",
            "8192/5148 [===============================================] - 0s 0us/step\n",
            "Downloading data from https://storage.googleapis.com/tensorflow/tf-keras-datasets/t10k-images-idx3-ubyte.gz\n",
            "4423680/4422102 [==============================] - 0s 0us/step\n"
          ],
          "name": "stdout"
        }
      ]
    },
    {
      "cell_type": "code",
      "metadata": {
        "id": "hi1sdeB5F2Vi",
        "colab_type": "code",
        "colab": {
          "base_uri": "https://localhost:8080/",
          "height": 34
        },
        "outputId": "0bb5520b-f18e-4292-f406-00260b8a9643"
      },
      "source": [
        "len(x_train)"
      ],
      "execution_count": 7,
      "outputs": [
        {
          "output_type": "execute_result",
          "data": {
            "text/plain": [
              "60000"
            ]
          },
          "metadata": {
            "tags": []
          },
          "execution_count": 7
        }
      ]
    },
    {
      "cell_type": "code",
      "metadata": {
        "id": "YFWm5rvrF7b1",
        "colab_type": "code",
        "colab": {
          "base_uri": "https://localhost:8080/",
          "height": 34
        },
        "outputId": "a623652f-7e06-49fd-dad5-19f77158016d"
      },
      "source": [
        "len(y_test)"
      ],
      "execution_count": 8,
      "outputs": [
        {
          "output_type": "execute_result",
          "data": {
            "text/plain": [
              "10000"
            ]
          },
          "metadata": {
            "tags": []
          },
          "execution_count": 8
        }
      ]
    },
    {
      "cell_type": "code",
      "metadata": {
        "id": "-lIcA2twF-OX",
        "colab_type": "code",
        "colab": {
          "base_uri": "https://localhost:8080/",
          "height": 34
        },
        "outputId": "6e1e9849-0626-41de-e46b-8bda5b66b894"
      },
      "source": [
        "y_train[543]"
      ],
      "execution_count": 9,
      "outputs": [
        {
          "output_type": "execute_result",
          "data": {
            "text/plain": [
              "6"
            ]
          },
          "metadata": {
            "tags": []
          },
          "execution_count": 9
        }
      ]
    },
    {
      "cell_type": "code",
      "metadata": {
        "id": "pXINTE94GCLT",
        "colab_type": "code",
        "colab": {
          "base_uri": "https://localhost:8080/",
          "height": 1000
        },
        "outputId": "26318f75-af6b-409e-c05c-a4119f232597"
      },
      "source": [
        "x_train[543]"
      ],
      "execution_count": 10,
      "outputs": [
        {
          "output_type": "execute_result",
          "data": {
            "text/plain": [
              "array([[  0,   0,   1,   0,   0,   0,   3,   0,   0,   0,  31, 145, 133,\n",
              "         70,  34,  47,  69, 108,  49,   0,   0,   0,   0,   1,   0,   0,\n",
              "          0,   0],\n",
              "       [  0,   0,   1,   0,   1,   2,   0,   7,  84, 129, 135, 181, 213,\n",
              "        225, 149, 255, 207, 197, 154, 123,  85,  28,   0,   1,   2,   0,\n",
              "          0,   0],\n",
              "       [  0,   0,   1,   0,   1,   0,   0, 135, 138, 121, 116,  90,  88,\n",
              "        104,  64,  92,  89,  93, 113, 126, 133, 133,  39,   0,   2,   0,\n",
              "          0,   0],\n",
              "       [  0,   0,   1,   1,   2,   0,  73, 139, 121, 120, 119, 113, 184,\n",
              "        192, 172, 176, 180, 118, 119, 116, 119, 126, 118,   2,   1,   2,\n",
              "          0,   0],\n",
              "       [  0,   0,   1,   1,   1,   0, 140, 133, 125, 124, 119, 109, 125,\n",
              "        185, 170, 192, 143, 104, 121, 123, 121, 125, 139,  57,   0,   2,\n",
              "          0,   0],\n",
              "       [  0,   0,   0,   2,   0,  34, 143, 131, 128, 118, 118, 114, 104,\n",
              "        148, 199, 161, 106, 110, 118, 115, 129, 134, 135, 111,   0,   2,\n",
              "          0,   0],\n",
              "       [  0,   0,   0,   3,   0,  78, 143, 140, 143, 110, 120, 115, 115,\n",
              "        106, 126, 105, 110, 115, 119, 113, 130, 143, 134, 150,   0,   0,\n",
              "          1,   0],\n",
              "       [  0,   0,   0,   1,   0, 124, 139, 150, 175, 114, 124, 128, 129,\n",
              "        128, 119, 128, 130, 128, 128, 120, 144, 153, 141, 138,  38,   0,\n",
              "          2,   0],\n",
              "       [  0,   0,   0,   0,   0, 155, 135, 159, 181, 119, 133, 135, 136,\n",
              "        134, 135, 136, 135, 133, 138, 130, 145, 155, 145, 143,  80,   0,\n",
              "          0,   0],\n",
              "       [  0,   0,   3,   0,  36, 144, 134, 167, 175, 124, 134, 136, 138,\n",
              "        135, 136, 136, 138, 134, 138, 135, 144, 164, 148, 139, 128,   0,\n",
              "          0,   0],\n",
              "       [  0,   0,   0,   0,  83, 148, 136, 175, 176, 125, 133, 134, 135,\n",
              "        136, 139, 140, 139, 136, 136, 138, 154, 176, 151, 135, 162,   0,\n",
              "          0,   0],\n",
              "       [  0,   0,   0,   0, 133, 145, 139, 184, 172, 121, 136, 138, 138,\n",
              "        136, 136, 140, 140, 138, 139, 130, 140, 195, 156, 134, 181,  27,\n",
              "          0,   0],\n",
              "       [  0,   0,   0,   3, 149, 140, 141, 237, 155, 128, 136, 140, 140,\n",
              "        136, 135, 141, 145, 139, 140, 135, 148, 238, 164, 135, 160,  63,\n",
              "          0,   0],\n",
              "       [  0,   0,   0,  41, 151, 138, 150, 189, 109, 138, 135, 143, 141,\n",
              "        139, 138, 143, 146, 138, 141, 140, 130, 200, 189, 134, 155, 104,\n",
              "          0,   0],\n",
              "       [  0,   0,   0, 105, 167, 149, 196, 134, 100, 148, 136, 144, 144,\n",
              "        140, 139, 145, 146, 140, 140, 140, 139,  83, 211, 159, 179, 169,\n",
              "          0,   0],\n",
              "       [  0,   0,   0, 156, 149, 167, 182, 201, 111, 136, 139, 145, 145,\n",
              "        141, 140, 145, 148, 141, 145, 143, 133, 126, 222, 171, 184, 174,\n",
              "         12,   0],\n",
              "       [  0,   0,   0, 170, 144, 170, 177, 235, 116, 134, 139, 150, 149,\n",
              "        144, 143, 146, 149, 141, 143, 143, 125, 141, 210, 177, 182, 180,\n",
              "         37,   0],\n",
              "       [  0,   0,  24, 175, 150, 170, 174, 220, 115, 136, 139, 150, 150,\n",
              "        145, 144, 149, 150, 144, 145, 145, 128, 190, 201, 186, 181, 179,\n",
              "         47,   0],\n",
              "       [  0,   0,  49, 171, 148, 172, 164, 213, 114, 138, 139, 151, 154,\n",
              "        148, 145, 150, 151, 145, 144, 149, 126, 184, 205, 186, 176, 181,\n",
              "         59,   0],\n",
              "       [  0,   0,  65, 165, 146, 177, 160, 207, 113, 138, 140, 153, 155,\n",
              "        150, 146, 151, 155, 145, 144, 148, 130, 164, 208, 187, 177, 174,\n",
              "         77,   0],\n",
              "       [  0,   0,  85, 154, 145, 175, 171, 186, 113, 138, 145, 151, 159,\n",
              "        151, 151, 151, 156, 149, 144, 148, 133, 150, 207, 195, 180, 157,\n",
              "         97,   0],\n",
              "       [  0,   0, 133, 148, 138, 177, 177, 171, 118, 140, 144, 153, 159,\n",
              "        154, 153, 151, 155, 149, 144, 148, 136, 140, 186, 199, 177, 144,\n",
              "        106,   0],\n",
              "       [  0,   0,  46, 135, 146, 176, 189, 154, 118, 134, 145, 154, 157,\n",
              "        157, 154, 153, 155, 149, 144, 146, 139, 126, 175, 208, 196, 146,\n",
              "        130,   0],\n",
              "       [  0,   0,   0,   0,  49, 176, 220, 149, 119, 139, 145, 155, 156,\n",
              "        160, 155, 155, 155, 148, 143, 148, 143, 125, 167, 190, 190,  62,\n",
              "         16,   0],\n",
              "       [  0,   0,   0,   0,   0,   0, 123, 143, 119, 136, 144, 157, 156,\n",
              "        166, 157, 151, 153, 154, 148, 143, 134, 140, 140,   0,   0,   0,\n",
              "          0,   0],\n",
              "       [  0,   0,   2,   1,   1,   0,  59, 145, 126, 134, 139, 155, 154,\n",
              "        160, 155, 140, 148, 150, 141, 143, 134, 140, 139,   0,   0,   1,\n",
              "          0,   0],\n",
              "       [  0,   0,   1,   0,   3,   0,  82, 179, 133, 157, 174, 185, 176,\n",
              "        192, 186, 170, 179, 175, 164, 167, 140, 136, 103,   0,   0,   0,\n",
              "          0,   0],\n",
              "       [  0,   0,   1,   1,   1,   1,   0,  17,  31,  47,  60,  60,  62,\n",
              "         75,  60,  51,  51,  41,  38,  44,  37,  18,   0,   0,   0,   0,\n",
              "          0,   0]], dtype=uint8)"
            ]
          },
          "metadata": {
            "tags": []
          },
          "execution_count": 10
        }
      ]
    },
    {
      "cell_type": "code",
      "metadata": {
        "id": "84urnQVmGFw8",
        "colab_type": "code",
        "colab": {
          "base_uri": "https://localhost:8080/",
          "height": 282
        },
        "outputId": "3d241ba4-c0e4-4067-abc4-3ed35071d24e"
      },
      "source": [
        "plt.imshow(x_train[543])"
      ],
      "execution_count": 11,
      "outputs": [
        {
          "output_type": "execute_result",
          "data": {
            "text/plain": [
              "<matplotlib.image.AxesImage at 0x7f57a02df710>"
            ]
          },
          "metadata": {
            "tags": []
          },
          "execution_count": 11
        },
        {
          "output_type": "display_data",
          "data": {
            "image/png": "[encoded data removed]",
            "text/plain": [
              "<Figure size 432x288 with 1 Axes>"
            ]
          },
          "metadata": {
            "tags": []
          }
        }
      ]
    },
    {
      "cell_type": "code",
      "metadata": {
        "id": "LBR330srGOZA",
        "colab_type": "code",
        "colab": {
          "base_uri": "https://localhost:8080/",
          "height": 34
        },
        "outputId": "5f91e662-d22e-4b9a-ee9b-272d8db10126"
      },
      "source": [
        "x_train.shape"
      ],
      "execution_count": 12,
      "outputs": [
        {
          "output_type": "execute_result",
          "data": {
            "text/plain": [
              "(60000, 28, 28)"
            ]
          },
          "metadata": {
            "tags": []
          },
          "execution_count": 12
        }
      ]
    },
    {
      "cell_type": "code",
      "metadata": {
        "id": "qM-m27XqGmtL",
        "colab_type": "code",
        "colab": {}
      },
      "source": [
        "x_train = x_train.reshape(60000, 784)/255\n",
        "x_test = x_test.reshape(10000, 784)/255\n",
        "from tensorflow.keras.utils import to_categorical\n",
        "y_train = to_categorical(y_train, 10)\n",
        "y_test = to_categorical(y_test, 10)"
      ],
      "execution_count": 0,
      "outputs": []
    },
    {
      "cell_type": "code",
      "metadata": {
        "id": "6m8S3VqSG5s4",
        "colab_type": "code",
        "colab": {
          "base_uri": "https://localhost:8080/",
          "height": 34
        },
        "outputId": "37fbce0d-aa8d-4a5d-cd8b-006aff48d436"
      },
      "source": [
        "y_test[234]"
      ],
      "execution_count": 14,
      "outputs": [
        {
          "output_type": "execute_result",
          "data": {
            "text/plain": [
              "array([0., 0., 0., 0., 0., 0., 0., 0., 0., 1.], dtype=float32)"
            ]
          },
          "metadata": {
            "tags": []
          },
          "execution_count": 14
        }
      ]
    },
    {
      "cell_type": "code",
      "metadata": {
        "id": "N8deUfcJG8oj",
        "colab_type": "code",
        "colab": {
          "base_uri": "https://localhost:8080/",
          "height": 1000
        },
        "outputId": "ddd9714a-3680-4967-bab5-d90c299d6077"
      },
      "source": [
        "x_test[543]"
      ],
      "execution_count": 15,
      "outputs": [
        {
          "output_type": "execute_result",
          "data": {
            "text/plain": [
              "array([0.        , 0.        , 0.        , 0.        , 0.        ,\n",
              "       0.        , 0.        , 0.        , 0.26666667, 0.99215686,\n",
              "       0.79215686, 0.87843137, 0.89411765, 0.81960784, 0.74509804,\n",
              "       0.94117647, 0.83529412, 0.89411765, 0.95686275, 0.31764706,\n",
              "       0.        , 0.        , 0.        , 0.        , 0.        ,\n",
              "       0.        , 0.        , 0.        , 0.        , 0.        ,\n",
              "       0.        , 0.        , 0.        , 0.        , 0.        ,\n",
              "       0.        , 0.31372549, 0.98039216, 0.80392157, 0.88235294,\n",
              "       0.93333333, 0.91372549, 0.84313725, 0.92156863, 0.81176471,\n",
              "       0.91764706, 0.99215686, 0.39607843, 0.        , 0.        ,\n",
              "       0.        , 0.        , 0.        , 0.        , 0.        ,\n",
              "       0.        , 0.        , 0.        , 0.        , 0.        ,\n",
              "       0.        , 0.        , 0.        , 0.        , 0.25490196,\n",
              "       0.80784314, 0.77647059, 0.91372549, 0.9254902 , 0.95294118,\n",
              "       0.96078431, 0.92156863, 0.87058824, 0.88627451, 0.94901961,\n",
              "       0.34901961, 0.        , 0.        , 0.        , 0.        ,\n",
              "       0.        , 0.        , 0.        , 0.        , 0.        ,\n",
              "       0.        , 0.        , 0.        , 0.        , 0.        ,\n",
              "       0.        , 0.        , 0.58039216, 0.99215686, 0.76470588,\n",
              "       0.84313725, 0.86666667, 0.8627451 , 0.80392157, 0.88627451,\n",
              "       0.75294118, 0.81960784, 0.99607843, 0.57254902, 0.        ,\n",
              "       0.        , 0.        , 0.        , 0.        , 0.        ,\n",
              "       0.        , 0.        , 0.        , 0.        , 0.        ,\n",
              "       0.        , 0.        , 0.        , 0.        , 0.        ,\n",
              "       0.54117647, 0.98431373, 0.79215686, 0.78823529, 0.87058824,\n",
              "       0.81960784, 0.64313725, 0.80392157, 0.81568627, 0.82745098,\n",
              "       0.99215686, 0.56862745, 0.        , 0.        , 0.        ,\n",
              "       0.        , 0.        , 0.        , 0.        , 0.        ,\n",
              "       0.        , 0.        , 0.        , 0.        , 0.        ,\n",
              "       0.        , 0.        , 0.        , 0.38431373, 0.95294118,\n",
              "       0.78431373, 0.87843137, 0.88235294, 0.83529412, 0.71764706,\n",
              "       0.81568627, 0.80784314, 0.78431373, 0.93333333, 0.46666667,\n",
              "       0.        , 0.        , 0.        , 0.        , 0.        ,\n",
              "       0.        , 0.        , 0.        , 0.        , 0.        ,\n",
              "       0.        , 0.        , 0.        , 0.        , 0.        ,\n",
              "       0.        , 0.3254902 , 0.96862745, 0.78039216, 0.83529412,\n",
              "       0.90588235, 0.87843137, 0.84313725, 0.84313725, 0.85490196,\n",
              "       0.79215686, 0.93333333, 0.38823529, 0.        , 0.        ,\n",
              "       0.        , 0.        , 0.        , 0.        , 0.        ,\n",
              "       0.        , 0.        , 0.        , 0.        , 0.        ,\n",
              "       0.        , 0.        , 0.        , 0.        , 0.31372549,\n",
              "       0.98823529, 0.83529412, 0.80784314, 0.87058824, 0.90588235,\n",
              "       0.92941176, 0.8627451 , 0.82352941, 0.72941176, 0.89411765,\n",
              "       0.34117647, 0.        , 0.        , 0.        , 0.        ,\n",
              "       0.        , 0.        , 0.        , 0.        , 0.        ,\n",
              "       0.        , 0.        , 0.        , 0.        , 0.        ,\n",
              "       0.        , 0.        , 0.21176471, 0.96862745, 0.84313725,\n",
              "       0.80392157, 0.83921569, 0.78823529, 0.78039216, 0.89803922,\n",
              "       0.83137255, 0.78039216, 0.89019608, 0.29019608, 0.        ,\n",
              "       0.        , 0.        , 0.        , 0.        , 0.        ,\n",
              "       0.        , 0.        , 0.        , 0.        , 0.        ,\n",
              "       0.        , 0.        , 0.        , 0.        , 0.        ,\n",
              "       0.03529412, 0.9372549 , 0.8       , 0.78039216, 0.93333333,\n",
              "       0.55294118, 0.45882353, 0.96078431, 0.75294118, 0.74509804,\n",
              "       0.90196078, 0.15294118, 0.        , 0.        , 0.        ,\n",
              "       0.        , 0.        , 0.        , 0.        , 0.        ,\n",
              "       0.        , 0.        , 0.        , 0.        , 0.        ,\n",
              "       0.        , 0.        , 0.        , 0.        , 0.90196078,\n",
              "       0.84313725, 0.74117647, 0.95686275, 0.44705882, 0.3254902 ,\n",
              "       0.96862745, 0.74901961, 0.77254902, 0.8745098 , 0.        ,\n",
              "       0.        , 0.        , 0.        , 0.        , 0.        ,\n",
              "       0.        , 0.        , 0.        , 0.        , 0.        ,\n",
              "       0.        , 0.        , 0.        , 0.        , 0.        ,\n",
              "       0.        , 0.        , 0.78039216, 0.80392157, 0.7372549 ,\n",
              "       0.92941176, 0.32156863, 0.15686275, 0.99215686, 0.76078431,\n",
              "       0.78823529, 0.76862745, 0.        , 0.        , 0.        ,\n",
              "       0.        , 0.        , 0.        , 0.        , 0.        ,\n",
              "       0.        , 0.        , 0.        , 0.        , 0.        ,\n",
              "       0.        , 0.        , 0.        , 0.        , 0.        ,\n",
              "       0.70588235, 0.78431373, 0.7372549 , 0.92156863, 0.25098039,\n",
              "       0.01176471, 0.99607843, 0.77254902, 0.79607843, 0.67843137,\n",
              "       0.        , 0.        , 0.        , 0.        , 0.        ,\n",
              "       0.        , 0.        , 0.        , 0.        , 0.        ,\n",
              "       0.        , 0.        , 0.        , 0.        , 0.        ,\n",
              "       0.        , 0.        , 0.        , 0.69019608, 0.78823529,\n",
              "       0.75294118, 0.94901961, 0.25098039, 0.        , 0.99215686,\n",
              "       0.78431373, 0.79215686, 0.63921569, 0.        , 0.        ,\n",
              "       0.        , 0.        , 0.        , 0.        , 0.        ,\n",
              "       0.        , 0.        , 0.        , 0.        , 0.        ,\n",
              "       0.        , 0.        , 0.        , 0.        , 0.        ,\n",
              "       0.        , 0.65882353, 0.79607843, 0.78039216, 0.94901961,\n",
              "       0.2627451 , 0.        , 0.97647059, 0.77254902, 0.77254902,\n",
              "       0.60784314, 0.        , 0.        , 0.        , 0.        ,\n",
              "       0.        , 0.        , 0.        , 0.        , 0.        ,\n",
              "       0.        , 0.        , 0.        , 0.        , 0.        ,\n",
              "       0.        , 0.        , 0.        , 0.        , 0.59607843,\n",
              "       0.81176471, 0.77647059, 0.93333333, 0.15294118, 0.        ,\n",
              "       0.98823529, 0.75686275, 0.75686275, 0.54117647, 0.        ,\n",
              "       0.        , 0.        , 0.        , 0.        , 0.        ,\n",
              "       0.        , 0.        , 0.        , 0.        , 0.        ,\n",
              "       0.        , 0.        , 0.        , 0.        , 0.        ,\n",
              "       0.        , 0.        , 0.56862745, 0.8       , 0.75294118,\n",
              "       0.93333333, 0.10196078, 0.        , 0.97647059, 0.74901961,\n",
              "       0.75294118, 0.52156863, 0.        , 0.        , 0.        ,\n",
              "       0.        , 0.        , 0.        , 0.        , 0.        ,\n",
              "       0.        , 0.        , 0.        , 0.        , 0.        ,\n",
              "       0.        , 0.        , 0.        , 0.        , 0.        ,\n",
              "       0.51372549, 0.80784314, 0.74117647, 0.94901961, 0.07843137,\n",
              "       0.        , 0.96862745, 0.76470588, 0.77254902, 0.54901961,\n",
              "       0.        , 0.        , 0.        , 0.        , 0.        ,\n",
              "       0.        , 0.        , 0.        , 0.        , 0.        ,\n",
              "       0.        , 0.        , 0.        , 0.        , 0.        ,\n",
              "       0.        , 0.        , 0.        , 0.43529412, 0.80392157,\n",
              "       0.77254902, 0.94117647, 0.02745098, 0.        , 0.97254902,\n",
              "       0.77254902, 0.80392157, 0.5372549 , 0.        , 0.        ,\n",
              "       0.        , 0.        , 0.        , 0.        , 0.        ,\n",
              "       0.        , 0.        , 0.        , 0.        , 0.        ,\n",
              "       0.        , 0.        , 0.        , 0.        , 0.        ,\n",
              "       0.        , 0.43529412, 0.78823529, 0.75686275, 0.91764706,\n",
              "       0.01568627, 0.        , 0.95294118, 0.76078431, 0.81176471,\n",
              "       0.45098039, 0.        , 0.        , 0.        , 0.        ,\n",
              "       0.        , 0.        , 0.        , 0.        , 0.        ,\n",
              "       0.        , 0.        , 0.        , 0.        , 0.        ,\n",
              "       0.        , 0.        , 0.        , 0.        , 0.46666667,\n",
              "       0.80784314, 0.75294118, 0.89411765, 0.07843137, 0.        ,\n",
              "       0.96470588, 0.75686275, 0.79607843, 0.43921569, 0.        ,\n",
              "       0.        , 0.        , 0.        , 0.        , 0.        ,\n",
              "       0.        , 0.        , 0.        , 0.        , 0.        ,\n",
              "       0.        , 0.        , 0.        , 0.        , 0.        ,\n",
              "       0.        , 0.        , 0.46666667, 0.81568627, 0.76862745,\n",
              "       0.94117647, 0.09803922, 0.        , 0.97254902, 0.75686275,\n",
              "       0.79215686, 0.51372549, 0.        , 0.        , 0.        ,\n",
              "       0.        , 0.        , 0.        , 0.        , 0.        ,\n",
              "       0.        , 0.        , 0.        , 0.        , 0.        ,\n",
              "       0.        , 0.        , 0.        , 0.        , 0.        ,\n",
              "       0.43529412, 0.83529412, 0.76862745, 0.94901961, 0.08235294,\n",
              "       0.        , 0.96862745, 0.77647059, 0.8       , 0.52941176,\n",
              "       0.        , 0.        , 0.        , 0.        , 0.        ,\n",
              "       0.        , 0.        , 0.        , 0.        , 0.        ,\n",
              "       0.        , 0.        , 0.        , 0.        , 0.        ,\n",
              "       0.        , 0.        , 0.        , 0.41960784, 0.82352941,\n",
              "       0.74509804, 0.94117647, 0.06666667, 0.        , 0.96470588,\n",
              "       0.78039216, 0.83529412, 0.56470588, 0.        , 0.        ,\n",
              "       0.        , 0.        , 0.        , 0.        , 0.        ,\n",
              "       0.        , 0.        , 0.        , 0.        , 0.        ,\n",
              "       0.        , 0.        , 0.        , 0.        , 0.        ,\n",
              "       0.        , 0.40784314, 0.81960784, 0.76862745, 0.96470588,\n",
              "       0.05882353, 0.        , 0.97254902, 0.79215686, 0.83921569,\n",
              "       0.58431373, 0.        , 0.        , 0.        , 0.        ,\n",
              "       0.        , 0.        , 0.        , 0.        , 0.        ,\n",
              "       0.        , 0.        , 0.        , 0.        , 0.        ,\n",
              "       0.        , 0.        , 0.        , 0.        , 0.38039216,\n",
              "       0.83921569, 0.74901961, 0.95686275, 0.09803922, 0.        ,\n",
              "       0.96078431, 0.79215686, 0.82352941, 0.56862745, 0.        ,\n",
              "       0.        , 0.        , 0.        , 0.        , 0.        ,\n",
              "       0.        , 0.        , 0.        , 0.        , 0.        ,\n",
              "       0.        , 0.        , 0.        , 0.        , 0.        ,\n",
              "       0.        , 0.        , 0.45490196, 0.90588235, 0.85882353,\n",
              "       1.        , 0.11764706, 0.        , 1.        , 0.83529412,\n",
              "       0.88627451, 0.74901961, 0.        , 0.        , 0.        ,\n",
              "       0.        , 0.        , 0.        , 0.        , 0.        ,\n",
              "       0.        , 0.        , 0.        , 0.        , 0.        ,\n",
              "       0.        , 0.        , 0.        , 0.        , 0.        ,\n",
              "       0.04705882, 0.42352941, 0.45098039, 0.25882353, 0.        ,\n",
              "       0.        , 0.40392157, 0.45098039, 0.50196078, 0.23921569,\n",
              "       0.        , 0.        , 0.        , 0.        , 0.        ,\n",
              "       0.        , 0.        , 0.        , 0.        ])"
            ]
          },
          "metadata": {
            "tags": []
          },
          "execution_count": 15
        }
      ]
    },
    {
      "cell_type": "code",
      "metadata": {
        "id": "nYTQPGXYG_vx",
        "colab_type": "code",
        "colab": {}
      },
      "source": [
        "class_names = ['T-shirt/top', 'Trouser', 'Pullover', 'Dress', 'Coat',\n",
        "               'Sandal', 'Shirt', 'Sneaker', 'Bag', 'Ankle boot']"
      ],
      "execution_count": 0,
      "outputs": []
    },
    {
      "cell_type": "code",
      "metadata": {
        "id": "UAZDJ_T2HK2A",
        "colab_type": "code",
        "colab": {}
      },
      "source": [
        "from tensorflow.keras.models import Sequential\n",
        "from tensorflow.keras.layers import Dense\n",
        "from tensorflow.keras.optimizers import SGD"
      ],
      "execution_count": 0,
      "outputs": []
    },
    {
      "cell_type": "code",
      "metadata": {
        "id": "MLXEaoHJHNi4",
        "colab_type": "code",
        "colab": {
          "base_uri": "https://localhost:8080/",
          "height": 289
        },
        "outputId": "741da1e7-bd17-46a6-ef07-b51d74e9dca9"
      },
      "source": [
        "model = Sequential()\n",
        "model.add(Dense(30, input_dim = 784, activation = 'relu'))\n",
        "model.add(Dense(30, activation = 'relu'))\n",
        "model.add(Dense(10, activation='relu'))\n",
        "model.add(Dense(10, activation = 'softmax'))\n",
        "model.compile(loss = 'mse', optimizer = SGD(lr = 0.09), metrics = ['accuracy'])\n",
        "model.summary()"
      ],
      "execution_count": 18,
      "outputs": [
        {
          "output_type": "stream",
          "text": [
            "Model: \"sequential\"\n",
            "_________________________________________________________________\n",
            "Layer (type)                 Output Shape              Param #   \n",
            "=================================================================\n",
            "dense (Dense)                (None, 30)                23550     \n",
            "_________________________________________________________________\n",
            "dense_1 (Dense)              (None, 30)                930       \n",
            "_________________________________________________________________\n",
            "dense_2 (Dense)              (None, 10)                310       \n",
            "_________________________________________________________________\n",
            "dense_3 (Dense)              (None, 10)                110       \n",
            "=================================================================\n",
            "Total params: 24,900\n",
            "Trainable params: 24,900\n",
            "Non-trainable params: 0\n",
            "_________________________________________________________________\n"
          ],
          "name": "stdout"
        }
      ]
    },
    {
      "cell_type": "code",
      "metadata": {
        "id": "kpGmxvumHfPH",
        "colab_type": "code",
        "colab": {
          "base_uri": "https://localhost:8080/",
          "height": 901
        },
        "outputId": "8dfde3b3-d1ed-461d-cab0-b74082c16890"
      },
      "source": [
        "model.fit(x_train, y_train, batch_size=250, epochs=25)"
      ],
      "execution_count": 19,
      "outputs": [
        {
          "output_type": "stream",
          "text": [
            "Train on 60000 samples\n",
            "Epoch 1/25\n",
            "60000/60000 [==============================] - 1s 22us/sample - loss: 0.0886 - accuracy: 0.1842\n",
            "Epoch 2/25\n",
            "60000/60000 [==============================] - 1s 16us/sample - loss: 0.0847 - accuracy: 0.2738\n",
            "Epoch 3/25\n",
            "60000/60000 [==============================] - 1s 15us/sample - loss: 0.0789 - accuracy: 0.3410\n",
            "Epoch 4/25\n",
            "60000/60000 [==============================] - 1s 16us/sample - loss: 0.0715 - accuracy: 0.3918\n",
            "Epoch 5/25\n",
            "60000/60000 [==============================] - 1s 15us/sample - loss: 0.0650 - accuracy: 0.4803\n",
            "Epoch 6/25\n",
            "60000/60000 [==============================] - 1s 15us/sample - loss: 0.0590 - accuracy: 0.5415\n",
            "Epoch 7/25\n",
            "60000/60000 [==============================] - 1s 15us/sample - loss: 0.0551 - accuracy: 0.5570\n",
            "Epoch 8/25\n",
            "60000/60000 [==============================] - 1s 15us/sample - loss: 0.0525 - accuracy: 0.5798\n",
            "Epoch 9/25\n",
            "60000/60000 [==============================] - 1s 15us/sample - loss: 0.0494 - accuracy: 0.6355\n",
            "Epoch 10/25\n",
            "60000/60000 [==============================] - 1s 15us/sample - loss: 0.0454 - accuracy: 0.6859\n",
            "Epoch 11/25\n",
            "60000/60000 [==============================] - 1s 16us/sample - loss: 0.0428 - accuracy: 0.7063\n",
            "Epoch 12/25\n",
            "60000/60000 [==============================] - 1s 15us/sample - loss: 0.0403 - accuracy: 0.7290\n",
            "Epoch 13/25\n",
            "60000/60000 [==============================] - 1s 15us/sample - loss: 0.0384 - accuracy: 0.7438\n",
            "Epoch 14/25\n",
            "60000/60000 [==============================] - 1s 14us/sample - loss: 0.0368 - accuracy: 0.7565\n",
            "Epoch 15/25\n",
            "60000/60000 [==============================] - 1s 16us/sample - loss: 0.0354 - accuracy: 0.7654\n",
            "Epoch 16/25\n",
            "60000/60000 [==============================] - 1s 15us/sample - loss: 0.0341 - accuracy: 0.7746\n",
            "Epoch 17/25\n",
            "60000/60000 [==============================] - 1s 14us/sample - loss: 0.0329 - accuracy: 0.7807\n",
            "Epoch 18/25\n",
            "60000/60000 [==============================] - 1s 15us/sample - loss: 0.0319 - accuracy: 0.7885\n",
            "Epoch 19/25\n",
            "60000/60000 [==============================] - 1s 15us/sample - loss: 0.0310 - accuracy: 0.7934\n",
            "Epoch 20/25\n",
            "60000/60000 [==============================] - 1s 15us/sample - loss: 0.0302 - accuracy: 0.7994\n",
            "Epoch 21/25\n",
            "60000/60000 [==============================] - 1s 15us/sample - loss: 0.0296 - accuracy: 0.8029\n",
            "Epoch 22/25\n",
            "60000/60000 [==============================] - 1s 15us/sample - loss: 0.0289 - accuracy: 0.8072\n",
            "Epoch 23/25\n",
            "60000/60000 [==============================] - 1s 15us/sample - loss: 0.0284 - accuracy: 0.8112\n",
            "Epoch 24/25\n",
            "60000/60000 [==============================] - 1s 14us/sample - loss: 0.0279 - accuracy: 0.8149\n",
            "Epoch 25/25\n",
            "60000/60000 [==============================] - 1s 15us/sample - loss: 0.0275 - accuracy: 0.8171\n"
          ],
          "name": "stdout"
        },
        {
          "output_type": "execute_result",
          "data": {
            "text/plain": [
              "<tensorflow.python.keras.callbacks.History at 0x7f5799b716d8>"
            ]
          },
          "metadata": {
            "tags": []
          },
          "execution_count": 19
        }
      ]
    },
    {
      "cell_type": "code",
      "metadata": {
        "id": "kzU4zuVmHnWz",
        "colab_type": "code",
        "colab": {
          "base_uri": "https://localhost:8080/",
          "height": 34
        },
        "outputId": "208d1edd-4da1-44c1-852c-fd0d79b7268e"
      },
      "source": [
        "result = model.predict_classes(x_test)\n",
        "class_names[result[2345]]"
      ],
      "execution_count": 23,
      "outputs": [
        {
          "output_type": "execute_result",
          "data": {
            "text/plain": [
              "'Dress'"
            ]
          },
          "metadata": {
            "tags": []
          },
          "execution_count": 23
        }
      ]
    },
    {
      "cell_type": "code",
      "metadata": {
        "id": "sACpcWiiH6YF",
        "colab_type": "code",
        "colab": {}
      },
      "source": [
        "def show(n):\n",
        "  print('電子腦說這是 ', class_names[result[n]])\n",
        "  plt.imshow(x_test[n].reshape(28, 28))"
      ],
      "execution_count": 0,
      "outputs": []
    },
    {
      "cell_type": "code",
      "metadata": {
        "id": "GbgT4I1YIYND",
        "colab_type": "code",
        "colab": {
          "base_uri": "https://localhost:8080/",
          "height": 282
        },
        "outputId": "34c63275-aa8a-4328-a786-b39c81a682a9"
      },
      "source": [
        "show(543)"
      ],
      "execution_count": 25,
      "outputs": [
        {
          "output_type": "stream",
          "text": [
            "電子腦說這是  Trouser\n"
          ],
          "name": "stdout"
        },
        {
          "output_type": "display_data",
          "data": {
            "image/png": "[encoded data removed]",
            "text/plain": [
              "<Figure size 432x288 with 1 Axes>"
            ]
          },
          "metadata": {
            "tags": []
          }
        }
      ]
    },
    {
      "cell_type": "code",
      "metadata": {
        "id": "fboZ5QmmI5oG",
        "colab_type": "code",
        "colab": {
          "base_uri": "https://localhost:8080/",
          "height": 106
        },
        "outputId": "8bcf8098-f115-4a2b-ea16-47365768ddec"
      },
      "source": [
        "pick = np.random.choice(10000, 5, replace=False)\n",
        "\n",
        "for i in range(5):\n",
        "    n = pick[i]\n",
        "    ax = plt.subplot(151+i)\n",
        "    ax.set_xticks([])\n",
        "    ax.set_yticks([])\n",
        "    ax.set_title(class_names[result[n]], fontsize=10)\n",
        "    plt.imshow(x_test[n].reshape(28, 28), cmap='Greys')  "
      ],
      "execution_count": 31,
      "outputs": [
        {
          "output_type": "display_data",
          "data": {
            "image/png": "[encoded data removed]",
            "text/plain": [
              "<Figure size 432x288 with 5 Axes>"
            ]
          },
          "metadata": {
            "tags": []
          }
        }
      ]
    },
    {
      "cell_type": "code",
      "metadata": {
        "id": "nJ3Rgn6wKVvE",
        "colab_type": "code",
        "colab": {}
      },
      "source": [
        ""
      ],
      "execution_count": 0,
      "outputs": []
    }
  ]
}