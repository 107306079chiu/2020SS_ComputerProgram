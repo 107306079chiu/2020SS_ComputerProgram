{
  "nbformat": 4,
  "nbformat_minor": 0,
  "metadata": {
    "colab": {
      "name": "smallHW.ipynb",
      "provenance": [],
      "collapsed_sections": []
    },
    "kernelspec": {
      "name": "python3",
      "display_name": "Python 3"
    }
  },
  "cells": [
    {
      "cell_type": "code",
      "metadata": {
        "id": "rbrlVBXyHJF7",
        "colab_type": "code",
        "colab": {}
      },
      "source": [
        "%matplotlib inline\n",
        "import numpy as np\n",
        "import matplotlib.pyplot as plt"
      ],
      "execution_count": 0,
      "outputs": []
    },
    {
      "cell_type": "code",
      "metadata": {
        "id": "vZ7zW2NlIf3V",
        "colab_type": "code",
        "colab": {
          "base_uri": "https://localhost:8080/",
          "height": 119
        },
        "outputId": "00657ce2-0240-4e9f-9809-8399387e28cd"
      },
      "source": [
        "someNum = np.random.randint(0,101,100)\n",
        "someNum"
      ],
      "execution_count": 2,
      "outputs": [
        {
          "output_type": "execute_result",
          "data": {
            "text/plain": [
              "array([83, 35, 51, 42, 76, 66,  2, 13, 23, 39, 61, 86, 63, 88, 55, 72, 32,\n",
              "       32, 78, 96, 96,  4, 68, 81, 98, 89, 75, 27, 90, 31, 44, 36,  5, 48,\n",
              "        5, 18, 11, 88, 21, 73, 50, 43, 98, 15, 65, 18, 48, 13, 30, 30, 58,\n",
              "       49,  2, 42, 62, 83, 74, 54, 87, 56, 35, 19, 70, 50,  8, 58, 74, 60,\n",
              "       44, 87, 61, 54, 17, 95, 51, 86, 33, 76, 39, 58, 67, 41, 83, 45, 81,\n",
              "       87, 51,  4, 45, 39, 84, 76, 98,  7, 13, 25, 52, 95, 54, 21])"
            ]
          },
          "metadata": {
            "tags": []
          },
          "execution_count": 2
        }
      ]
    },
    {
      "cell_type": "code",
      "metadata": {
        "id": "Y2XYYBOoIu6x",
        "colab_type": "code",
        "colab": {
          "base_uri": "https://localhost:8080/",
          "height": 102
        },
        "outputId": "dac64c21-0c24-4d9e-b45e-e610a3eff119"
      },
      "source": [
        "print(' 最高',someNum.max(),'\\n','最低',someNum.min(),'\\n','及格人數',len(someNum[someNum>=60])\n",
        ",'\\n','平均數',np.mean(someNum),'\\n','標準差',np.std(someNum))"
      ],
      "execution_count": 3,
      "outputs": [
        {
          "output_type": "stream",
          "text": [
            " 最高 98 \n",
            " 最低 2 \n",
            " 及格人數 41 \n",
            " 平均數 52.21 \n",
            " 標準差 27.628353190155945\n"
          ],
          "name": "stdout"
        }
      ]
    },
    {
      "cell_type": "code",
      "metadata": {
        "id": "Qdi9nsm2I1i3",
        "colab_type": "code",
        "colab": {
          "base_uri": "https://localhost:8080/",
          "height": 316
        },
        "outputId": "0223908a-3c2e-47a3-e221-d378d331eacb"
      },
      "source": [
        "plt.hist(someNum,bins=10)"
      ],
      "execution_count": 5,
      "outputs": [
        {
          "output_type": "execute_result",
          "data": {
            "text/plain": [
              "(array([ 9., 10.,  5., 10., 11., 14.,  9., 10., 13.,  9.]),\n",
              " array([ 2. , 11.6, 21.2, 30.8, 40.4, 50. , 59.6, 69.2, 78.8, 88.4, 98. ]),\n",
              " <a list of 10 Patch objects>)"
            ]
          },
          "metadata": {
            "tags": []
          },
          "execution_count": 5
        },
        {
          "output_type": "display_data",
          "data": {
            "image/png": "[encoded data removed]",
            "text/plain": [
              "<Figure size 432x288 with 1 Axes>"
            ]
          },
          "metadata": {
            "tags": [],
            "needs_background": "light"
          }
        }
      ]
    }
  ]
}