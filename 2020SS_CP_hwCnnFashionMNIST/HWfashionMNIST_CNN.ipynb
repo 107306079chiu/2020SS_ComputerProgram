{
  "nbformat": 4,
  "nbformat_minor": 0,
  "metadata": {
    "colab": {
      "name": "HWfashionMNIST_CNN",
      "provenance": [],
      "collapsed_sections": []
    },
    "kernelspec": {
      "name": "python3",
      "display_name": "Python 3"
    },
    "accelerator": "TPU",
    "widgets": {
      "application/vnd.jupyter.widget-state+json": {
        "1767fddb873c44d8b3a407d4befbf4c4": {
          "model_module": "@jupyter-widgets/controls",
          "model_name": "VBoxModel",
          "state": {
            "_view_name": "VBoxView",
            "_dom_classes": [
              "widget-interact"
            ],
            "_model_name": "VBoxModel",
            "_view_module": "@jupyter-widgets/controls",
            "_model_module_version": "1.5.0",
            "_view_count": null,
            "_view_module_version": "1.5.0",
            "box_style": "",
            "layout": "IPY_MODEL_174c0c66865449d084491ff2ef7b4b05",
            "_model_module": "@jupyter-widgets/controls",
            "children": [
              "IPY_MODEL_266265c16e254c6ea3a6cb4e64b7af22",
              "IPY_MODEL_c49e0452dc584b21ae510b8f9eeeb767",
              "IPY_MODEL_7c53fe7f3f0944bfa10a5a6025d5f145"
            ]
          }
        },
        "174c0c66865449d084491ff2ef7b4b05": {
          "model_module": "@jupyter-widgets/base",
          "model_name": "LayoutModel",
          "state": {
            "_view_name": "LayoutView",
            "grid_template_rows": null,
            "right": null,
            "justify_content": null,
            "_view_module": "@jupyter-widgets/base",
            "overflow": null,
            "_model_module_version": "1.2.0",
            "_view_count": null,
            "flex_flow": null,
            "width": null,
            "min_width": null,
            "border": null,
            "align_items": null,
            "bottom": null,
            "_model_module": "@jupyter-widgets/base",
            "top": null,
            "grid_column": null,
            "overflow_y": null,
            "overflow_x": null,
            "grid_auto_flow": null,
            "grid_area": null,
            "grid_template_columns": null,
            "flex": null,
            "_model_name": "LayoutModel",
            "justify_items": null,
            "grid_row": null,
            "max_height": null,
            "align_content": null,
            "visibility": null,
            "align_self": null,
            "height": null,
            "min_height": null,
            "padding": null,
            "grid_auto_rows": null,
            "grid_gap": null,
            "max_width": null,
            "order": null,
            "_view_module_version": "1.2.0",
            "grid_template_areas": null,
            "object_position": null,
            "object_fit": null,
            "grid_auto_columns": null,
            "margin": null,
            "display": null,
            "left": null
          }
        },
        "266265c16e254c6ea3a6cb4e64b7af22": {
          "model_module": "@jupyter-widgets/controls",
          "model_name": "IntSliderModel",
          "state": {
            "_view_name": "IntSliderView",
            "style": "IPY_MODEL_3236c3905ac84f638f01cee98bd1f02a",
            "_dom_classes": [],
            "description": "n",
            "step": 1,
            "_model_name": "IntSliderModel",
            "orientation": "horizontal",
            "max": 9999,
            "_view_module": "@jupyter-widgets/controls",
            "_model_module_version": "1.5.0",
            "value": 2177,
            "_view_count": null,
            "disabled": false,
            "_view_module_version": "1.5.0",
            "min": 0,
            "continuous_update": true,
            "readout_format": "d",
            "description_tooltip": null,
            "readout": true,
            "_model_module": "@jupyter-widgets/controls",
            "layout": "IPY_MODEL_f85dd0e8c6644d9a905da7f04333e9c3"
          }
        },
        "c49e0452dc584b21ae510b8f9eeeb767": {
          "model_module": "@jupyter-widgets/controls",
          "model_name": "ButtonModel",
          "state": {
            "_view_name": "ButtonView",
            "style": "IPY_MODEL_d0fc3182fd8d416b9a3f72e1497ac02e",
            "_dom_classes": [],
            "description": "Run Interact",
            "_model_name": "ButtonModel",
            "button_style": "",
            "_view_module": "@jupyter-widgets/controls",
            "_model_module_version": "1.5.0",
            "tooltip": "",
            "_view_count": null,
            "disabled": false,
            "_view_module_version": "1.5.0",
            "layout": "IPY_MODEL_09c1b57e19cb486890a6ff82a63be574",
            "_model_module": "@jupyter-widgets/controls",
            "icon": ""
          }
        },
        "7c53fe7f3f0944bfa10a5a6025d5f145": {
          "model_module": "@jupyter-widgets/output",
          "model_name": "OutputModel",
          "state": {
            "_view_name": "OutputView",
            "msg_id": "",
            "_dom_classes": [],
            "_model_name": "OutputModel",
            "outputs": [
              {
                "output_type": "stream",
                "metadata": {
                  "tags": []
                },
                "text": "CNN predicts: Sandal\n",
                "stream": "stdout"
              },
              {
                "output_type": "display_data",
                "metadata": {
                  "tags": [],
                  "needs_background": "light"
                },
                "image/png": "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\n",
                "text/plain": "<Figure size 432x288 with 1 Axes>"
              }
            ],
            "_view_module": "@jupyter-widgets/output",
            "_model_module_version": "1.0.0",
            "_view_count": null,
            "_view_module_version": "1.0.0",
            "layout": "IPY_MODEL_6591ad7cca704adf8d69cbe17a034297",
            "_model_module": "@jupyter-widgets/output"
          }
        },
        "3236c3905ac84f638f01cee98bd1f02a": {
          "model_module": "@jupyter-widgets/controls",
          "model_name": "SliderStyleModel",
          "state": {
            "_view_name": "StyleView",
            "handle_color": null,
            "_model_name": "SliderStyleModel",
            "description_width": "",
            "_view_module": "@jupyter-widgets/base",
            "_model_module_version": "1.5.0",
            "_view_count": null,
            "_view_module_version": "1.2.0",
            "_model_module": "@jupyter-widgets/controls"
          }
        },
        "f85dd0e8c6644d9a905da7f04333e9c3": {
          "model_module": "@jupyter-widgets/base",
          "model_name": "LayoutModel",
          "state": {
            "_view_name": "LayoutView",
            "grid_template_rows": null,
            "right": null,
            "justify_content": null,
            "_view_module": "@jupyter-widgets/base",
            "overflow": null,
            "_model_module_version": "1.2.0",
            "_view_count": null,
            "flex_flow": null,
            "width": null,
            "min_width": null,
            "border": null,
            "align_items": null,
            "bottom": null,
            "_model_module": "@jupyter-widgets/base",
            "top": null,
            "grid_column": null,
            "overflow_y": null,
            "overflow_x": null,
            "grid_auto_flow": null,
            "grid_area": null,
            "grid_template_columns": null,
            "flex": null,
            "_model_name": "LayoutModel",
            "justify_items": null,
            "grid_row": null,
            "max_height": null,
            "align_content": null,
            "visibility": null,
            "align_self": null,
            "height": null,
            "min_height": null,
            "padding": null,
            "grid_auto_rows": null,
            "grid_gap": null,
            "max_width": null,
            "order": null,
            "_view_module_version": "1.2.0",
            "grid_template_areas": null,
            "object_position": null,
            "object_fit": null,
            "grid_auto_columns": null,
            "margin": null,
            "display": null,
            "left": null
          }
        },
        "d0fc3182fd8d416b9a3f72e1497ac02e": {
          "model_module": "@jupyter-widgets/controls",
          "model_name": "ButtonStyleModel",
          "state": {
            "_view_name": "StyleView",
            "_model_name": "ButtonStyleModel",
            "_view_module": "@jupyter-widgets/base",
            "_model_module_version": "1.5.0",
            "_view_count": null,
            "button_color": null,
            "font_weight": "",
            "_view_module_version": "1.2.0",
            "_model_module": "@jupyter-widgets/controls"
          }
        },
        "09c1b57e19cb486890a6ff82a63be574": {
          "model_module": "@jupyter-widgets/base",
          "model_name": "LayoutModel",
          "state": {
            "_view_name": "LayoutView",
            "grid_template_rows": null,
            "right": null,
            "justify_content": null,
            "_view_module": "@jupyter-widgets/base",
            "overflow": null,
            "_model_module_version": "1.2.0",
            "_view_count": null,
            "flex_flow": null,
            "width": null,
            "min_width": null,
            "border": null,
            "align_items": null,
            "bottom": null,
            "_model_module": "@jupyter-widgets/base",
            "top": null,
            "grid_column": null,
            "overflow_y": null,
            "overflow_x": null,
            "grid_auto_flow": null,
            "grid_area": null,
            "grid_template_columns": null,
            "flex": null,
            "_model_name": "LayoutModel",
            "justify_items": null,
            "grid_row": null,
            "max_height": null,
            "align_content": null,
            "visibility": null,
            "align_self": null,
            "height": null,
            "min_height": null,
            "padding": null,
            "grid_auto_rows": null,
            "grid_gap": null,
            "max_width": null,
            "order": null,
            "_view_module_version": "1.2.0",
            "grid_template_areas": null,
            "object_position": null,
            "object_fit": null,
            "grid_auto_columns": null,
            "margin": null,
            "display": null,
            "left": null
          }
        },
        "6591ad7cca704adf8d69cbe17a034297": {
          "model_module": "@jupyter-widgets/base",
          "model_name": "LayoutModel",
          "state": {
            "_view_name": "LayoutView",
            "grid_template_rows": null,
            "right": null,
            "justify_content": null,
            "_view_module": "@jupyter-widgets/base",
            "overflow": null,
            "_model_module_version": "1.2.0",
            "_view_count": null,
            "flex_flow": null,
            "width": null,
            "min_width": null,
            "border": null,
            "align_items": null,
            "bottom": null,
            "_model_module": "@jupyter-widgets/base",
            "top": null,
            "grid_column": null,
            "overflow_y": null,
            "overflow_x": null,
            "grid_auto_flow": null,
            "grid_area": null,
            "grid_template_columns": null,
            "flex": null,
            "_model_name": "LayoutModel",
            "justify_items": null,
            "grid_row": null,
            "max_height": null,
            "align_content": null,
            "visibility": null,
            "align_self": null,
            "height": null,
            "min_height": null,
            "padding": null,
            "grid_auto_rows": null,
            "grid_gap": null,
            "max_width": null,
            "order": null,
            "_view_module_version": "1.2.0",
            "grid_template_areas": null,
            "object_position": null,
            "object_fit": null,
            "grid_auto_columns": null,
            "margin": null,
            "display": null,
            "left": null
          }
        }
      }
    }
  },
  "cells": [
    {
      "cell_type": "markdown",
      "metadata": {
        "id": "tJ2aLuBDbbLT",
        "colab_type": "text"
      },
      "source": [
        "##### 調整內容：\n",
        "##### -在建立和訓練model中同時以幾個相同的model但有不同的batchsize和epochs，發現小的batch size在短時間內能快速提高正確率，但收斂程度大，而大的batch size較穩定但需要較多時間來達到相同的正確率\n",
        "##### -以plot呈現資料在不同訓練條件的model下accuracy的差異\n",
        "\n",
        "### 1讀入套件和資料"
      ]
    },
    {
      "cell_type": "code",
      "metadata": {
        "id": "jIfAyN-OZGOm",
        "colab_type": "code",
        "colab": {}
      },
      "source": [
        "%tensorflow_version 2.x"
      ],
      "execution_count": 0,
      "outputs": []
    },
    {
      "cell_type": "code",
      "metadata": {
        "id": "g2IvQqFcaIQd",
        "colab_type": "code",
        "colab": {}
      },
      "source": [
        "%matplotlib inline\n",
        "import numpy as np\n",
        "import pandas as pd\n",
        "import matplotlib.pyplot as plt"
      ],
      "execution_count": 0,
      "outputs": []
    },
    {
      "cell_type": "code",
      "metadata": {
        "id": "shvwXOOrajWy",
        "colab_type": "code",
        "colab": {}
      },
      "source": [
        "from tensorflow.keras.datasets import fashion_mnist"
      ],
      "execution_count": 0,
      "outputs": []
    },
    {
      "cell_type": "code",
      "metadata": {
        "id": "JN3hV_6fbLRt",
        "colab_type": "code",
        "colab": {}
      },
      "source": [
        "(x_train, y_train), (x_test, y_test) = fashion_mnist.load_data()"
      ],
      "execution_count": 0,
      "outputs": []
    },
    {
      "cell_type": "markdown",
      "metadata": {
        "id": "3r96E4gBcM92",
        "colab_type": "text"
      },
      "source": [
        "### 2整理數據內容\n",
        "##### (1) 把原本有RGB 3個channel 整理成一個，並且範圍0~1"
      ]
    },
    {
      "cell_type": "code",
      "metadata": {
        "id": "GUeSKxqLcJo7",
        "colab_type": "code",
        "colab": {
          "base_uri": "https://localhost:8080/",
          "height": 34
        },
        "outputId": "89f11e70-a0dd-4d2a-a6f0-11cad598eaa6"
      },
      "source": [
        "x_train.shape"
      ],
      "execution_count": 37,
      "outputs": [
        {
          "output_type": "execute_result",
          "data": {
            "text/plain": [
              "(60000, 28, 28)"
            ]
          },
          "metadata": {
            "tags": []
          },
          "execution_count": 37
        }
      ]
    },
    {
      "cell_type": "code",
      "metadata": {
        "id": "dHTtnEpjcUj3",
        "colab_type": "code",
        "colab": {
          "base_uri": "https://localhost:8080/",
          "height": 34
        },
        "outputId": "d4260da4-7cfe-4534-c657-b141bc9e8faa"
      },
      "source": [
        "x_test.shape"
      ],
      "execution_count": 38,
      "outputs": [
        {
          "output_type": "execute_result",
          "data": {
            "text/plain": [
              "(10000, 28, 28)"
            ]
          },
          "metadata": {
            "tags": []
          },
          "execution_count": 38
        }
      ]
    },
    {
      "cell_type": "code",
      "metadata": {
        "id": "q-wTNf6jcfLK",
        "colab_type": "code",
        "colab": {
          "base_uri": "https://localhost:8080/",
          "height": 85
        },
        "outputId": "fd789f31-1bb5-4f08-968f-741efbdd1d75"
      },
      "source": [
        "print('training data max: ' + str(x_train.max()) + '\\ntraining data min: ' + str(x_train.min()))\n",
        "print('training result max: ' + str(y_train.max()) + '\\ntraining result min: ' + str(y_train.min()))"
      ],
      "execution_count": 39,
      "outputs": [
        {
          "output_type": "stream",
          "text": [
            "training data max: 255\n",
            "training data min: 0\n",
            "training result max: 9\n",
            "training result min: 0\n"
          ],
          "name": "stdout"
        }
      ]
    },
    {
      "cell_type": "code",
      "metadata": {
        "id": "jj7Gj33ic16n",
        "colab_type": "code",
        "colab": {}
      },
      "source": [
        "x_train = x_train.reshape(60000, 28, 28, 1) / 255\n",
        "x_test = x_test.reshape(10000, 28, 28, 1) / 255"
      ],
      "execution_count": 0,
      "outputs": []
    },
    {
      "cell_type": "markdown",
      "metadata": {
        "id": "KrObh_etvq_o",
        "colab_type": "text"
      },
      "source": [
        "##### (2) one-hot encoding"
      ]
    },
    {
      "cell_type": "code",
      "metadata": {
        "id": "GkHwOsTadEFl",
        "colab_type": "code",
        "colab": {}
      },
      "source": [
        "from tensorflow.keras.utils import to_categorical"
      ],
      "execution_count": 0,
      "outputs": []
    },
    {
      "cell_type": "code",
      "metadata": {
        "id": "s7Fr9DgmdHZJ",
        "colab_type": "code",
        "colab": {}
      },
      "source": [
        "y_train = to_categorical(y_train, 10)\n",
        "y_test = to_categorical(y_test, 10)"
      ],
      "execution_count": 0,
      "outputs": []
    },
    {
      "cell_type": "markdown",
      "metadata": {
        "id": "O1eyWOIjvuSm",
        "colab_type": "text"
      },
      "source": [
        "##### (3) 欣賞幾個"
      ]
    },
    {
      "cell_type": "code",
      "metadata": {
        "id": "hQQwuxSitm9W",
        "colab_type": "code",
        "colab": {
          "base_uri": "https://localhost:8080/",
          "height": 123
        },
        "outputId": "8f93277e-adb6-4b27-d056-8ecd05b1cae9"
      },
      "source": [
        "class_names = ['T-shirt/top', 'Trouser', 'Pullover', 'Dress', 'Coat',\n",
        "               'Sandal', 'Shirt', 'Sneaker', 'Bag', 'Ankle boot']\n",
        "for i in range(4):\n",
        "    plt.subplot(141+i)\n",
        "    plt.imshow(x_train[i].reshape(28,28), cmap='Greys')  "
      ],
      "execution_count": 43,
      "outputs": [
        {
          "output_type": "display_data",
          "data": {
            "image/png": "[encoded data removed]",
            "text/plain": [
              "<Figure size 432x288 with 4 Axes>"
            ]
          },
          "metadata": {
            "tags": [],
            "needs_background": "light"
          }
        }
      ]
    },
    {
      "cell_type": "code",
      "metadata": {
        "id": "YHLNP5ufuRuF",
        "colab_type": "code",
        "colab": {
          "base_uri": "https://localhost:8080/",
          "height": 34
        },
        "outputId": "2ba0996f-e3b8-4de1-8aad-bfbe0d670c72"
      },
      "source": [
        "y_train[8998]"
      ],
      "execution_count": 44,
      "outputs": [
        {
          "output_type": "execute_result",
          "data": {
            "text/plain": [
              "array([1., 0., 0., 0., 0., 0., 0., 0., 0., 0.], dtype=float32)"
            ]
          },
          "metadata": {
            "tags": []
          },
          "execution_count": 44
        }
      ]
    },
    {
      "cell_type": "markdown",
      "metadata": {
        "id": "AWLpsL6UvR0a",
        "colab_type": "text"
      },
      "source": [
        "### 3建立CNN\n",
        "##### (1) 讀入套件"
      ]
    },
    {
      "cell_type": "code",
      "metadata": {
        "id": "N-LpbUWzvPsV",
        "colab_type": "code",
        "colab": {}
      },
      "source": [
        "from tensorflow.keras.models import Sequential\n",
        "from tensorflow.keras.layers import Conv2D, MaxPooling2D\n",
        "from tensorflow.keras.layers import Dense, Flatten\n",
        "from tensorflow.keras.optimizers import SGD"
      ],
      "execution_count": 0,
      "outputs": []
    },
    {
      "cell_type": "markdown",
      "metadata": {
        "id": "YFnWIhWo7fRQ",
        "colab_type": "text"
      },
      "source": [
        "##### (2) 一層一層建立fliter"
      ]
    },
    {
      "cell_type": "code",
      "metadata": {
        "id": "D7N899bDvfD0",
        "colab_type": "code",
        "colab": {}
      },
      "source": [
        "modela = Sequential()\n",
        "modela.add(Conv2D(16, (3, 3), padding='same', input_shape=(28, 28, 1), activation='relu'))"
      ],
      "execution_count": 0,
      "outputs": []
    },
    {
      "cell_type": "code",
      "metadata": {
        "id": "MviWPMsl7SZA",
        "colab_type": "code",
        "colab": {}
      },
      "source": [
        "# 輸出16個28x28的矩陣，事實上是(28, 28, 16)，pool之後應該要變(14, 14, 16) 14x14有16個\n",
        "modela.add(MaxPooling2D(pool_size=(2,2)))\n",
        "modela.add(Conv2D(32, (3, 3), padding='same', activation='relu'))\n",
        "# 要輸出(14, 14, 32) 14x14有32張記分板\n",
        "modela.add(MaxPooling2D(pool_size=(2, 2)))\n",
        "# 再pool--> output(7, 7, 32)\n",
        "modela.add(Conv2D(64, (3, 3), padding='same', activation='relu'))\n",
        "modela.add(MaxPooling2D(pool_size=(2, 2)))"
      ],
      "execution_count": 0,
      "outputs": []
    },
    {
      "cell_type": "code",
      "metadata": {
        "id": "8SblJ-_Y8JKp",
        "colab_type": "code",
        "colab": {}
      },
      "source": [
        "# 轉成一維\n",
        "modela.add(Flatten())\n",
        "modela.add(Dense(54, activation='relu'))\n",
        "# 最後一層輸出10個數字，加起來是1(softmax)\n",
        "modela.add(Dense(10, activation='softmax'))"
      ],
      "execution_count": 0,
      "outputs": []
    },
    {
      "cell_type": "code",
      "metadata": {
        "id": "Yu-1XXFW9nLC",
        "colab_type": "code",
        "colab": {
          "base_uri": "https://localhost:8080/",
          "height": 459
        },
        "outputId": "8d83c5c8-ec36-442a-844d-08d3d4ef5a4c"
      },
      "source": [
        "modela.summary()"
      ],
      "execution_count": 49,
      "outputs": [
        {
          "output_type": "stream",
          "text": [
            "Model: \"sequential_4\"\n",
            "_________________________________________________________________\n",
            "Layer (type)                 Output Shape              Param #   \n",
            "=================================================================\n",
            "conv2d_12 (Conv2D)           (None, 28, 28, 16)        160       \n",
            "_________________________________________________________________\n",
            "max_pooling2d_12 (MaxPooling (None, 14, 14, 16)        0         \n",
            "_________________________________________________________________\n",
            "conv2d_13 (Conv2D)           (None, 14, 14, 32)        4640      \n",
            "_________________________________________________________________\n",
            "max_pooling2d_13 (MaxPooling (None, 7, 7, 32)          0         \n",
            "_________________________________________________________________\n",
            "conv2d_14 (Conv2D)           (None, 7, 7, 64)          18496     \n",
            "_________________________________________________________________\n",
            "max_pooling2d_14 (MaxPooling (None, 3, 3, 64)          0         \n",
            "_________________________________________________________________\n",
            "flatten_4 (Flatten)          (None, 576)               0         \n",
            "_________________________________________________________________\n",
            "dense_8 (Dense)              (None, 54)                31158     \n",
            "_________________________________________________________________\n",
            "dense_9 (Dense)              (None, 10)                550       \n",
            "=================================================================\n",
            "Total params: 55,004\n",
            "Trainable params: 55,004\n",
            "Non-trainable params: 0\n",
            "_________________________________________________________________\n"
          ],
          "name": "stdout"
        }
      ]
    },
    {
      "cell_type": "markdown",
      "metadata": {
        "id": "C5uq33PC-Thp",
        "colab_type": "text"
      },
      "source": [
        "##### (3) compile model"
      ]
    },
    {
      "cell_type": "code",
      "metadata": {
        "id": "-5kdLurG9tpD",
        "colab_type": "code",
        "colab": {}
      },
      "source": [
        "# learning rate 調整為0.05\n",
        "modela.compile(loss='mse', optimizer=SGD(lr=0.05), metrics=['accuracy'])"
      ],
      "execution_count": 0,
      "outputs": []
    },
    {
      "cell_type": "markdown",
      "metadata": {
        "id": "bSJrWfSUzutp",
        "colab_type": "text"
      },
      "source": [
        "##### (4) 建立其他CNN，用來做比較"
      ]
    },
    {
      "cell_type": "code",
      "metadata": {
        "id": "5j_8bXSQz5IQ",
        "colab_type": "code",
        "colab": {
          "base_uri": "https://localhost:8080/",
          "height": 459
        },
        "outputId": "87356e10-efa1-4ed1-8c0f-43ac1a66ebe5"
      },
      "source": [
        "modelb = Sequential()\n",
        "modelb.add(Conv2D(16, (3, 3), padding='same', input_shape=(28, 28, 1), activation='relu'))\n",
        "modelb.add(MaxPooling2D(pool_size=(2,2)))\n",
        "modelb.add(Conv2D(32, (3, 3), padding='same', activation='relu'))\n",
        "modelb.add(MaxPooling2D(pool_size=(2, 2)))\n",
        "modelb.add(Conv2D(64, (3, 3), padding='same', activation='relu'))\n",
        "modelb.add(MaxPooling2D(pool_size=(2, 2)))\n",
        "modelb.add(Flatten())\n",
        "modelb.add(Dense(54, activation='relu'))\n",
        "modelb.add(Dense(10, activation='softmax'))\n",
        "modelb.summary()"
      ],
      "execution_count": 51,
      "outputs": [
        {
          "output_type": "stream",
          "text": [
            "Model: \"sequential_5\"\n",
            "_________________________________________________________________\n",
            "Layer (type)                 Output Shape              Param #   \n",
            "=================================================================\n",
            "conv2d_15 (Conv2D)           (None, 28, 28, 16)        160       \n",
            "_________________________________________________________________\n",
            "max_pooling2d_15 (MaxPooling (None, 14, 14, 16)        0         \n",
            "_________________________________________________________________\n",
            "conv2d_16 (Conv2D)           (None, 14, 14, 32)        4640      \n",
            "_________________________________________________________________\n",
            "max_pooling2d_16 (MaxPooling (None, 7, 7, 32)          0         \n",
            "_________________________________________________________________\n",
            "conv2d_17 (Conv2D)           (None, 7, 7, 64)          18496     \n",
            "_________________________________________________________________\n",
            "max_pooling2d_17 (MaxPooling (None, 3, 3, 64)          0         \n",
            "_________________________________________________________________\n",
            "flatten_5 (Flatten)          (None, 576)               0         \n",
            "_________________________________________________________________\n",
            "dense_10 (Dense)             (None, 54)                31158     \n",
            "_________________________________________________________________\n",
            "dense_11 (Dense)             (None, 10)                550       \n",
            "=================================================================\n",
            "Total params: 55,004\n",
            "Trainable params: 55,004\n",
            "Non-trainable params: 0\n",
            "_________________________________________________________________\n"
          ],
          "name": "stdout"
        }
      ]
    },
    {
      "cell_type": "code",
      "metadata": {
        "id": "Q2oHcqjV0aIo",
        "colab_type": "code",
        "colab": {}
      },
      "source": [
        "modelb.compile(loss='mse', optimizer=SGD(lr=0.05), metrics=['accuracy'])"
      ],
      "execution_count": 0,
      "outputs": []
    },
    {
      "cell_type": "code",
      "metadata": {
        "id": "tMQRMDxo5oRK",
        "colab_type": "code",
        "colab": {
          "base_uri": "https://localhost:8080/",
          "height": 459
        },
        "outputId": "b7d5f617-ca54-4e22-85fc-818295db4ec3"
      },
      "source": [
        "modelc = Sequential()\n",
        "modelc.add(Conv2D(16, (3, 3), padding='same', input_shape=(28, 28, 1), activation='relu'))\n",
        "modelc.add(MaxPooling2D(pool_size=(2,2)))\n",
        "modelc.add(Conv2D(32, (3, 3), padding='same', activation='relu'))\n",
        "modelc.add(MaxPooling2D(pool_size=(2, 2)))\n",
        "modelc.add(Conv2D(64, (3, 3), padding='same', activation='relu'))\n",
        "modelc.add(MaxPooling2D(pool_size=(2, 2)))\n",
        "modelc.add(Flatten())\n",
        "modelc.add(Dense(54, activation='relu'))\n",
        "modelc.add(Dense(10, activation='softmax'))\n",
        "modelc.summary()"
      ],
      "execution_count": 53,
      "outputs": [
        {
          "output_type": "stream",
          "text": [
            "Model: \"sequential_6\"\n",
            "_________________________________________________________________\n",
            "Layer (type)                 Output Shape              Param #   \n",
            "=================================================================\n",
            "conv2d_18 (Conv2D)           (None, 28, 28, 16)        160       \n",
            "_________________________________________________________________\n",
            "max_pooling2d_18 (MaxPooling (None, 14, 14, 16)        0         \n",
            "_________________________________________________________________\n",
            "conv2d_19 (Conv2D)           (None, 14, 14, 32)        4640      \n",
            "_________________________________________________________________\n",
            "max_pooling2d_19 (MaxPooling (None, 7, 7, 32)          0         \n",
            "_________________________________________________________________\n",
            "conv2d_20 (Conv2D)           (None, 7, 7, 64)          18496     \n",
            "_________________________________________________________________\n",
            "max_pooling2d_20 (MaxPooling (None, 3, 3, 64)          0         \n",
            "_________________________________________________________________\n",
            "flatten_6 (Flatten)          (None, 576)               0         \n",
            "_________________________________________________________________\n",
            "dense_12 (Dense)             (None, 54)                31158     \n",
            "_________________________________________________________________\n",
            "dense_13 (Dense)             (None, 10)                550       \n",
            "=================================================================\n",
            "Total params: 55,004\n",
            "Trainable params: 55,004\n",
            "Non-trainable params: 0\n",
            "_________________________________________________________________\n"
          ],
          "name": "stdout"
        }
      ]
    },
    {
      "cell_type": "code",
      "metadata": {
        "id": "TdYyW0fS6xK2",
        "colab_type": "code",
        "colab": {}
      },
      "source": [
        "modelc.compile(loss='mse', optimizer=SGD(lr=0.05), metrics=['accuracy'])"
      ],
      "execution_count": 0,
      "outputs": []
    },
    {
      "cell_type": "markdown",
      "metadata": {
        "id": "fCdjIhOsAZAg",
        "colab_type": "text"
      },
      "source": [
        "### 5訓練CNN"
      ]
    },
    {
      "cell_type": "code",
      "metadata": {
        "id": "X6DlXvSXAXBK",
        "colab_type": "code",
        "colab": {
          "base_uri": "https://localhost:8080/",
          "height": 697
        },
        "outputId": "42eea677-0d07-4929-e3d9-86f5cc2bba56"
      },
      "source": [
        "historya = modela.fit(x_train, y_train, batch_size=100, epochs=20, validation_data=(x_test, y_test))"
      ],
      "execution_count": 55,
      "outputs": [
        {
          "output_type": "stream",
          "text": [
            "Epoch 1/20\n",
            "600/600 [==============================] - 43s 72ms/step - loss: 0.0897 - accuracy: 0.2296 - val_loss: 0.0895 - val_accuracy: 0.2692\n",
            "Epoch 2/20\n",
            "600/600 [==============================] - 43s 72ms/step - loss: 0.0892 - accuracy: 0.2964 - val_loss: 0.0889 - val_accuracy: 0.3311\n",
            "Epoch 3/20\n",
            "600/600 [==============================] - 42s 71ms/step - loss: 0.0883 - accuracy: 0.3791 - val_loss: 0.0874 - val_accuracy: 0.4105\n",
            "Epoch 4/20\n",
            "600/600 [==============================] - 43s 71ms/step - loss: 0.0844 - accuracy: 0.4086 - val_loss: 0.0777 - val_accuracy: 0.4171\n",
            "Epoch 5/20\n",
            "600/600 [==============================] - 43s 71ms/step - loss: 0.0644 - accuracy: 0.5404 - val_loss: 0.0520 - val_accuracy: 0.6339\n",
            "Epoch 6/20\n",
            "600/600 [==============================] - 42s 71ms/step - loss: 0.0446 - accuracy: 0.6810 - val_loss: 0.0405 - val_accuracy: 0.7099\n",
            "Epoch 7/20\n",
            "600/600 [==============================] - 43s 71ms/step - loss: 0.0387 - accuracy: 0.7247 - val_loss: 0.0389 - val_accuracy: 0.7281\n",
            "Epoch 8/20\n",
            "600/600 [==============================] - 42s 70ms/step - loss: 0.0359 - accuracy: 0.7451 - val_loss: 0.0371 - val_accuracy: 0.7240\n",
            "Epoch 9/20\n",
            "600/600 [==============================] - 43s 71ms/step - loss: 0.0337 - accuracy: 0.7639 - val_loss: 0.0341 - val_accuracy: 0.7572\n",
            "Epoch 10/20\n",
            "600/600 [==============================] - 42s 71ms/step - loss: 0.0323 - accuracy: 0.7736 - val_loss: 0.0333 - val_accuracy: 0.7568\n",
            "Epoch 11/20\n",
            "600/600 [==============================] - 42s 71ms/step - loss: 0.0310 - accuracy: 0.7829 - val_loss: 0.0319 - val_accuracy: 0.7761\n",
            "Epoch 12/20\n",
            "600/600 [==============================] - 42s 71ms/step - loss: 0.0299 - accuracy: 0.7914 - val_loss: 0.0312 - val_accuracy: 0.7741\n",
            "Epoch 13/20\n",
            "600/600 [==============================] - 42s 71ms/step - loss: 0.0290 - accuracy: 0.7992 - val_loss: 0.0292 - val_accuracy: 0.7945\n",
            "Epoch 14/20\n",
            "600/600 [==============================] - 44s 74ms/step - loss: 0.0281 - accuracy: 0.8054 - val_loss: 0.0287 - val_accuracy: 0.7986\n",
            "Epoch 15/20\n",
            "600/600 [==============================] - 44s 73ms/step - loss: 0.0274 - accuracy: 0.8094 - val_loss: 0.0279 - val_accuracy: 0.8007\n",
            "Epoch 16/20\n",
            "600/600 [==============================] - 43s 71ms/step - loss: 0.0267 - accuracy: 0.8142 - val_loss: 0.0291 - val_accuracy: 0.7896\n",
            "Epoch 17/20\n",
            "600/600 [==============================] - 42s 71ms/step - loss: 0.0260 - accuracy: 0.8193 - val_loss: 0.0267 - val_accuracy: 0.8156\n",
            "Epoch 18/20\n",
            "600/600 [==============================] - 42s 71ms/step - loss: 0.0256 - accuracy: 0.8237 - val_loss: 0.0260 - val_accuracy: 0.8182\n",
            "Epoch 19/20\n",
            "600/600 [==============================] - 42s 71ms/step - loss: 0.0250 - accuracy: 0.8279 - val_loss: 0.0284 - val_accuracy: 0.7953\n",
            "Epoch 20/20\n",
            "600/600 [==============================] - 43s 71ms/step - loss: 0.0245 - accuracy: 0.8304 - val_loss: 0.0256 - val_accuracy: 0.8204\n"
          ],
          "name": "stdout"
        }
      ]
    },
    {
      "cell_type": "code",
      "metadata": {
        "id": "DM2ErFs0Auar",
        "colab_type": "code",
        "colab": {
          "base_uri": "https://localhost:8080/",
          "height": 697
        },
        "outputId": "34b2b70f-834a-4bfc-d3e2-108b2c6e908f"
      },
      "source": [
        "historyb = modelb.fit(x_train, y_train, batch_size=500, epochs=20, validation_data=(x_test, y_test))"
      ],
      "execution_count": 56,
      "outputs": [
        {
          "output_type": "stream",
          "text": [
            "Epoch 1/20\n",
            "120/120 [==============================] - 38s 317ms/step - loss: 0.0899 - accuracy: 0.1027 - val_loss: 0.0898 - val_accuracy: 0.1105\n",
            "Epoch 2/20\n",
            "120/120 [==============================] - 38s 318ms/step - loss: 0.0897 - accuracy: 0.1241 - val_loss: 0.0897 - val_accuracy: 0.1375\n",
            "Epoch 3/20\n",
            "120/120 [==============================] - 39s 325ms/step - loss: 0.0896 - accuracy: 0.1523 - val_loss: 0.0895 - val_accuracy: 0.1630\n",
            "Epoch 4/20\n",
            "120/120 [==============================] - 38s 318ms/step - loss: 0.0894 - accuracy: 0.1804 - val_loss: 0.0894 - val_accuracy: 0.1893\n",
            "Epoch 5/20\n",
            "120/120 [==============================] - 38s 317ms/step - loss: 0.0893 - accuracy: 0.2011 - val_loss: 0.0892 - val_accuracy: 0.2048\n",
            "Epoch 6/20\n",
            "120/120 [==============================] - 38s 318ms/step - loss: 0.0891 - accuracy: 0.2188 - val_loss: 0.0890 - val_accuracy: 0.2261\n",
            "Epoch 7/20\n",
            "120/120 [==============================] - 38s 318ms/step - loss: 0.0889 - accuracy: 0.2522 - val_loss: 0.0888 - val_accuracy: 0.2788\n",
            "Epoch 8/20\n",
            "120/120 [==============================] - 38s 318ms/step - loss: 0.0886 - accuracy: 0.3091 - val_loss: 0.0885 - val_accuracy: 0.3361\n",
            "Epoch 9/20\n",
            "120/120 [==============================] - 38s 318ms/step - loss: 0.0883 - accuracy: 0.3525 - val_loss: 0.0881 - val_accuracy: 0.3660\n",
            "Epoch 10/20\n",
            "120/120 [==============================] - 41s 345ms/step - loss: 0.0878 - accuracy: 0.3777 - val_loss: 0.0876 - val_accuracy: 0.3856\n",
            "Epoch 11/20\n",
            "120/120 [==============================] - 38s 318ms/step - loss: 0.0872 - accuracy: 0.3965 - val_loss: 0.0869 - val_accuracy: 0.4075\n",
            "Epoch 12/20\n",
            "120/120 [==============================] - 38s 318ms/step - loss: 0.0864 - accuracy: 0.4290 - val_loss: 0.0859 - val_accuracy: 0.4448\n",
            "Epoch 13/20\n",
            "120/120 [==============================] - 38s 319ms/step - loss: 0.0852 - accuracy: 0.4664 - val_loss: 0.0845 - val_accuracy: 0.4746\n",
            "Epoch 14/20\n",
            "120/120 [==============================] - 38s 319ms/step - loss: 0.0833 - accuracy: 0.4739 - val_loss: 0.0820 - val_accuracy: 0.4652\n",
            "Epoch 15/20\n",
            "120/120 [==============================] - 38s 319ms/step - loss: 0.0799 - accuracy: 0.4644 - val_loss: 0.0775 - val_accuracy: 0.4631\n",
            "Epoch 16/20\n",
            "120/120 [==============================] - 38s 320ms/step - loss: 0.0740 - accuracy: 0.4702 - val_loss: 0.0703 - val_accuracy: 0.4824\n",
            "Epoch 17/20\n",
            "120/120 [==============================] - 38s 320ms/step - loss: 0.0666 - accuracy: 0.5201 - val_loss: 0.0633 - val_accuracy: 0.5639\n",
            "Epoch 18/20\n",
            "120/120 [==============================] - 38s 319ms/step - loss: 0.0601 - accuracy: 0.5941 - val_loss: 0.0573 - val_accuracy: 0.6079\n",
            "Epoch 19/20\n",
            "120/120 [==============================] - 38s 317ms/step - loss: 0.0540 - accuracy: 0.6298 - val_loss: 0.0514 - val_accuracy: 0.6418\n",
            "Epoch 20/20\n",
            "120/120 [==============================] - 38s 317ms/step - loss: 0.0487 - accuracy: 0.6644 - val_loss: 0.0471 - val_accuracy: 0.6742\n"
          ],
          "name": "stdout"
        }
      ]
    },
    {
      "cell_type": "code",
      "metadata": {
        "id": "psUYm0ca7Xwj",
        "colab_type": "code",
        "colab": {
          "base_uri": "https://localhost:8080/",
          "height": 697
        },
        "outputId": "4915082f-d548-41f4-ded9-cdcca3a3fa7b"
      },
      "source": [
        "historyc = modelc.fit(x_train, y_train, batch_size=20, epochs=20, validation_data=(x_test, y_test))"
      ],
      "execution_count": 57,
      "outputs": [
        {
          "output_type": "stream",
          "text": [
            "Epoch 1/20\n",
            "3000/3000 [==============================] - 56s 19ms/step - loss: 0.0782 - accuracy: 0.3723 - val_loss: 0.0455 - val_accuracy: 0.6628\n",
            "Epoch 2/20\n",
            "3000/3000 [==============================] - 56s 19ms/step - loss: 0.0374 - accuracy: 0.7324 - val_loss: 0.0373 - val_accuracy: 0.7313\n",
            "Epoch 3/20\n",
            "3000/3000 [==============================] - 56s 19ms/step - loss: 0.0305 - accuracy: 0.7866 - val_loss: 0.0294 - val_accuracy: 0.7991\n",
            "Epoch 4/20\n",
            "3000/3000 [==============================] - 59s 20ms/step - loss: 0.0273 - accuracy: 0.8102 - val_loss: 0.0277 - val_accuracy: 0.8053\n",
            "Epoch 5/20\n",
            "3000/3000 [==============================] - 56s 19ms/step - loss: 0.0249 - accuracy: 0.8280 - val_loss: 0.0245 - val_accuracy: 0.8318\n",
            "Epoch 6/20\n",
            "3000/3000 [==============================] - 56s 19ms/step - loss: 0.0230 - accuracy: 0.8410 - val_loss: 0.0228 - val_accuracy: 0.8421\n",
            "Epoch 7/20\n",
            "3000/3000 [==============================] - 56s 19ms/step - loss: 0.0216 - accuracy: 0.8519 - val_loss: 0.0234 - val_accuracy: 0.8389\n",
            "Epoch 8/20\n",
            "3000/3000 [==============================] - 56s 19ms/step - loss: 0.0206 - accuracy: 0.8577 - val_loss: 0.0217 - val_accuracy: 0.8493\n",
            "Epoch 9/20\n",
            "3000/3000 [==============================] - 55s 18ms/step - loss: 0.0198 - accuracy: 0.8648 - val_loss: 0.0208 - val_accuracy: 0.8574\n",
            "Epoch 10/20\n",
            "3000/3000 [==============================] - 55s 18ms/step - loss: 0.0192 - accuracy: 0.8685 - val_loss: 0.0210 - val_accuracy: 0.8545\n",
            "Epoch 11/20\n",
            "3000/3000 [==============================] - 55s 18ms/step - loss: 0.0186 - accuracy: 0.8725 - val_loss: 0.0205 - val_accuracy: 0.8600\n",
            "Epoch 12/20\n",
            "3000/3000 [==============================] - 56s 19ms/step - loss: 0.0181 - accuracy: 0.8762 - val_loss: 0.0194 - val_accuracy: 0.8676\n",
            "Epoch 13/20\n",
            "3000/3000 [==============================] - 56s 19ms/step - loss: 0.0177 - accuracy: 0.8793 - val_loss: 0.0192 - val_accuracy: 0.8692\n",
            "Epoch 14/20\n",
            "3000/3000 [==============================] - 57s 19ms/step - loss: 0.0173 - accuracy: 0.8820 - val_loss: 0.0189 - val_accuracy: 0.8699\n",
            "Epoch 15/20\n",
            "3000/3000 [==============================] - 60s 20ms/step - loss: 0.0169 - accuracy: 0.8852 - val_loss: 0.0184 - val_accuracy: 0.8745\n",
            "Epoch 16/20\n",
            "3000/3000 [==============================] - 56s 19ms/step - loss: 0.0165 - accuracy: 0.8883 - val_loss: 0.0180 - val_accuracy: 0.8768\n",
            "Epoch 17/20\n",
            "3000/3000 [==============================] - 56s 19ms/step - loss: 0.0163 - accuracy: 0.8896 - val_loss: 0.0183 - val_accuracy: 0.8743\n",
            "Epoch 18/20\n",
            "3000/3000 [==============================] - 56s 19ms/step - loss: 0.0159 - accuracy: 0.8924 - val_loss: 0.0173 - val_accuracy: 0.8830\n",
            "Epoch 19/20\n",
            "3000/3000 [==============================] - 56s 19ms/step - loss: 0.0157 - accuracy: 0.8935 - val_loss: 0.0176 - val_accuracy: 0.8790\n",
            "Epoch 20/20\n",
            "3000/3000 [==============================] - 56s 19ms/step - loss: 0.0154 - accuracy: 0.8967 - val_loss: 0.0171 - val_accuracy: 0.8863\n"
          ],
          "name": "stdout"
        }
      ]
    },
    {
      "cell_type": "markdown",
      "metadata": {
        "id": "5XGu6BLO93sx",
        "colab_type": "text"
      },
      "source": [
        "### 6看看result"
      ]
    },
    {
      "cell_type": "code",
      "metadata": {
        "id": "e515ZgEOFF-N",
        "colab_type": "code",
        "colab": {
          "base_uri": "https://localhost:8080/",
          "height": 295
        },
        "outputId": "11cca26a-5d53-4aaa-b224-98ac937bd1d1"
      },
      "source": [
        "plt.plot(historya.history['accuracy'])\n",
        "plt.plot(historyb.history['accuracy'])\n",
        "plt.plot(historyc.history['accuracy'])\n",
        "plt.title('training data model accuracy')\n",
        "plt.xlabel('epochs')\n",
        "plt.legend(['batch=100', 'batch=500', 'batch=20'], loc='lower right')\n",
        "plt.show()"
      ],
      "execution_count": 65,
      "outputs": [
        {
          "output_type": "display_data",
          "data": {
            "image/png": "[encoded data removed]",
            "text/plain": [
              "<Figure size 432x288 with 1 Axes>"
            ]
          },
          "metadata": {
            "tags": [],
            "needs_background": "light"
          }
        }
      ]
    },
    {
      "cell_type": "markdown",
      "metadata": {
        "id": "fPByPSu0OPir",
        "colab_type": "text"
      },
      "source": [
        "##### 大的batch size相較其他在計算上比較穩定，訓練曲線比較平滑，大的相較小的batch size不會那麼早開始收斂。\n",
        "##### 但是卻需要花760秒左右只達到0.66的正確率，而20和100的batch size只需80和240秒即可獲得一樣成果。"
      ]
    },
    {
      "cell_type": "code",
      "metadata": {
        "id": "B9L4dovyHPKO",
        "colab_type": "code",
        "colab": {
          "base_uri": "https://localhost:8080/",
          "height": 295
        },
        "outputId": "7a816c5e-c33c-4582-cc84-cec3e6a1560a"
      },
      "source": [
        "plt.plot(historya.history['val_accuracy'])\n",
        "plt.plot(historyb.history['val_accuracy'])\n",
        "plt.plot(historyc.history['val_accuracy'])\n",
        "plt.title('test data model accuracy')\n",
        "plt.xlabel('epochs')\n",
        "plt.legend(['batch=100', 'batch=500', 'batch=20'], loc='lower right')\n",
        "plt.show()"
      ],
      "execution_count": 66,
      "outputs": [
        {
          "output_type": "display_data",
          "data": {
            "image/png": "[encoded data removed]",
            "text/plain": [
              "<Figure size 432x288 with 1 Axes>"
            ]
          },
          "metadata": {
            "tags": [],
            "needs_background": "light"
          }
        }
      ]
    },
    {
      "cell_type": "code",
      "metadata": {
        "id": "Dw6TnsVlJTfr",
        "colab_type": "code",
        "colab": {
          "base_uri": "https://localhost:8080/",
          "height": 68
        },
        "outputId": "dc7161b9-4253-4905-8e72-0d967a7c1d57"
      },
      "source": [
        "# 看測試資料有沒有準\n",
        "scorea = modela.evaluate(x_test, y_test)\n",
        "scoreb = modelb.evaluate(x_test, y_test)\n",
        "scorec = modelc.evaluate(x_test, y_test)"
      ],
      "execution_count": 60,
      "outputs": [
        {
          "output_type": "stream",
          "text": [
            "313/313 [==============================] - 3s 10ms/step - loss: 0.0256 - accuracy: 0.8204\n",
            "313/313 [==============================] - 3s 10ms/step - loss: 0.0470 - accuracy: 0.6742\n",
            "313/313 [==============================] - 3s 10ms/step - loss: 0.0171 - accuracy: 0.8863\n"
          ],
          "name": "stdout"
        }
      ]
    },
    {
      "cell_type": "markdown",
      "metadata": {
        "id": "NaQ1azM5INZK",
        "colab_type": "text"
      },
      "source": [
        "### 7predict\n",
        "##### 以accuracy最高的model進行"
      ]
    },
    {
      "cell_type": "code",
      "metadata": {
        "id": "tcqmbtG6Hc8D",
        "colab_type": "code",
        "colab": {}
      },
      "source": [
        "result = modelc.predict_classes(x_test)\n",
        "def my_predict(n):\n",
        "  print('CNN predicts:', class_names[result[n]])\n",
        "  X = x_test[n].reshape(28, 28)\n",
        "  plt.imshow(X, cmap='Greys')"
      ],
      "execution_count": 0,
      "outputs": []
    },
    {
      "cell_type": "code",
      "metadata": {
        "id": "DYAKDaRsJGby",
        "colab_type": "code",
        "colab": {
          "base_uri": "https://localhost:8080/",
          "height": 363,
          "referenced_widgets": [
            "1767fddb873c44d8b3a407d4befbf4c4",
            "174c0c66865449d084491ff2ef7b4b05",
            "266265c16e254c6ea3a6cb4e64b7af22",
            "c49e0452dc584b21ae510b8f9eeeb767",
            "7c53fe7f3f0944bfa10a5a6025d5f145",
            "3236c3905ac84f638f01cee98bd1f02a",
            "f85dd0e8c6644d9a905da7f04333e9c3",
            "d0fc3182fd8d416b9a3f72e1497ac02e",
            "09c1b57e19cb486890a6ff82a63be574",
            "6591ad7cca704adf8d69cbe17a034297"
          ]
        },
        "outputId": "889ecbb6-a4b1-4f4f-fa72-e50b1fab7d22"
      },
      "source": [
        "from ipywidgets import interact_manual\n",
        "interact_manual(my_predict, n=(0, 9999))"
      ],
      "execution_count": 64,
      "outputs": [
        {
          "output_type": "display_data",
          "data": {
            "application/vnd.jupyter.widget-view+json": {
              "model_id": "1767fddb873c44d8b3a407d4befbf4c4",
              "version_minor": 0,
              "version_major": 2
            },
            "text/plain": [
              "interactive(children=(IntSlider(value=4999, description='n', max=9999), Button(description='Run Interact', sty…"
            ]
          },
          "metadata": {
            "tags": []
          }
        },
        {
          "output_type": "execute_result",
          "data": {
            "text/plain": [
              "<function __main__.my_predict>"
            ]
          },
          "metadata": {
            "tags": []
          },
          "execution_count": 64
        }
      ]
    }
  ]
}