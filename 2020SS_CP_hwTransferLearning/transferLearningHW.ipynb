{
  "nbformat": 4,
  "nbformat_minor": 0,
  "metadata": {
    "colab": {
      "name": "transferLearningHW.ipynb",
      "provenance": []
    },
    "kernelspec": {
      "name": "python3",
      "display_name": "Python 3"
    },
    "accelerator": "GPU"
  },
  "cells": [
    {
      "cell_type": "code",
      "metadata": {
        "id": "p8l7m6uV2MxO",
        "colab_type": "code",
        "colab": {}
      },
      "source": [
        "第一次建立模型以及訓練使用CIFAR10資料集，進行transfer learning則是使用CIFAR100資料集\n",
        "因為資料量足夠，使用fine-tune\n",
        "\n",
        "修改處：\n",
        "(1)在CIFAR100要訓練時，以之前訓練好的cnn配上修改過神經元數量的dense層，且多增加dense層\n",
        "(2)最後將兩次訓練結果以折線圖呈現，發現CIFAR10的準確度會比CIFAR100要高出0.2"
      ],
      "execution_count": 0,
      "outputs": []
    },
    {
      "cell_type": "markdown",
      "metadata": {
        "id": "SSSaM7XQ1p8R",
        "colab_type": "text"
      },
      "source": [
        "確認tensorflow版本、讀入套件 & datasets"
      ]
    },
    {
      "cell_type": "code",
      "metadata": {
        "id": "SPuag3uYyRey",
        "colab_type": "code",
        "colab": {}
      },
      "source": [
        "%tensorflow_version 2.x"
      ],
      "execution_count": 0,
      "outputs": []
    },
    {
      "cell_type": "code",
      "metadata": {
        "id": "FpKqP3E11O4a",
        "colab_type": "code",
        "colab": {}
      },
      "source": [
        "import matplotlib.pyplot as plt\n",
        "import numpy as np\n",
        "from tensorflow.keras.optimizers import SGD, Adam\n",
        "#for CNN\n",
        "from tensorflow.keras.layers import Conv2D, MaxPool2D, GlobalAveragePooling2D\n",
        "#for FNN\n",
        "from tensorflow.keras.models import Sequential\n",
        "from tensorflow.keras.layers import Dense\n",
        "from tensorflow.keras.layers import Flatten\n",
        "#for data preprocessing\n",
        "from tensorflow.keras import datasets\n",
        "from tensorflow.keras.utils import to_categorical"
      ],
      "execution_count": 0,
      "outputs": []
    },
    {
      "cell_type": "markdown",
      "metadata": {
        "id": "9ssWf6g82BSn",
        "colab_type": "text"
      },
      "source": [
        "data preprocessing: cifar10 dataset (50000筆32x32,並有3個channel)"
      ]
    },
    {
      "cell_type": "code",
      "metadata": {
        "id": "XBxLdsYH1oxH",
        "colab_type": "code",
        "colab": {
          "base_uri": "https://localhost:8080/",
          "height": 51
        },
        "outputId": "3586df45-8caf-4c74-c512-2ca4ef88b024"
      },
      "source": [
        "(x_train, y_train), (x_test, y_test) = datasets.cifar10.load_data()\n",
        "name_list = ['airplane', 'automobile', 'bird', 'cat', 'deer', 'dog', 'frog', 'horse', 'ship', 'truck']"
      ],
      "execution_count": 3,
      "outputs": [
        {
          "output_type": "stream",
          "text": [
            "Downloading data from https://www.cs.toronto.edu/~kriz/cifar-10-python.tar.gz\n",
            "170500096/170498071 [==============================] - 6s 0us/step\n"
          ],
          "name": "stdout"
        }
      ]
    },
    {
      "cell_type": "code",
      "metadata": {
        "id": "T3Sp5ZO_2r3N",
        "colab_type": "code",
        "colab": {
          "base_uri": "https://localhost:8080/",
          "height": 51
        },
        "outputId": "70982f63-8e1c-41ed-ebeb-8da6ca36b589"
      },
      "source": [
        "print(x_train.shape)\n",
        "print(y_train.shape)"
      ],
      "execution_count": 4,
      "outputs": [
        {
          "output_type": "stream",
          "text": [
            "(50000, 32, 32, 3)\n",
            "(50000, 1)\n"
          ],
          "name": "stdout"
        }
      ]
    },
    {
      "cell_type": "code",
      "metadata": {
        "id": "NnP9hHw73KnK",
        "colab_type": "code",
        "colab": {
          "base_uri": "https://localhost:8080/",
          "height": 264
        },
        "outputId": "8522de7b-dddd-471e-9898-d3f464ff463d"
      },
      "source": [
        "idx = np.random.randint(x_train.shape[0])\n",
        "x_sample = x_train[idx]\n",
        "y_sample = y_train[idx].squeeze()\n",
        "\n",
        "plt.imshow(x_sample)\n",
        "plt.title(name_list[y_sample])\n",
        "plt.axis('off');"
      ],
      "execution_count": 5,
      "outputs": [
        {
          "output_type": "display_data",
          "data": {
            "image/png": "[encoded data removed]",
            "text/plain": [
              "<Figure size 432x288 with 1 Axes>"
            ]
          },
          "metadata": {
            "tags": [],
            "needs_background": "light"
          }
        }
      ]
    },
    {
      "cell_type": "code",
      "metadata": {
        "id": "al8HUoTg2zbY",
        "colab_type": "code",
        "colab": {}
      },
      "source": [
        "#normalization\n",
        "x_train = x_train / x_train.max()\n",
        "x_test = x_test / x_test.max()\n",
        "#one-hot encoding\n",
        "y_train = to_categorical(y_train, 10)\n",
        "y_test = to_categorical(y_test, 10)"
      ],
      "execution_count": 0,
      "outputs": []
    },
    {
      "cell_type": "markdown",
      "metadata": {
        "id": "skThYSWu3nV6",
        "colab_type": "text"
      },
      "source": [
        "建立用來分類cifar10的神經網路\n",
        "\n",
        "這裡建立經典的 CNN 模型 LeNet-5 的變形\n",
        "\n",
        "LeNet-5 分成兩個部分，分別為卷積層與全連接層，兩部份之間是透過扁平層 (Flatten) ，將卷積層最後輸出的 2 維向量壓扁成 1 維向量"
      ]
    },
    {
      "cell_type": "code",
      "metadata": {
        "id": "akgwZVrq3hwv",
        "colab_type": "code",
        "colab": {
          "base_uri": "https://localhost:8080/",
          "height": 425
        },
        "outputId": "6e9c9953-fe9c-4fe5-e17a-fcf882836c06"
      },
      "source": [
        "# 卷積層, convolutional block and pooling x3\n",
        "CNN_layers = [Conv2D(32, (3, 3), input_shape=(32, 32, 3), padding='same', activation='relu', name='Conv_1'),\n",
        "              MaxPool2D(),\n",
        "              Conv2D(128, (3, 3), padding='same', activation='relu', name='Conv_2'),\n",
        "              MaxPool2D(),\n",
        "              Conv2D(512, (3, 3), padding='same', activation='relu', name='Conv_3'),\n",
        "              GlobalAveragePooling2D()]\n",
        "# 全連結層, Fully-connected layers as a classfier, Ouput layer: # of neurons = # of classes with softmax activation\n",
        "FC_layers = [Dense(units=256, activation='relu'),\n",
        "             Dense(units=10, activation='softmax')]\n",
        "model_c10 = Sequential(CNN_layers+FC_layers)\n",
        "model_c10.summary()"
      ],
      "execution_count": 7,
      "outputs": [
        {
          "output_type": "stream",
          "text": [
            "Model: \"sequential\"\n",
            "_________________________________________________________________\n",
            "Layer (type)                 Output Shape              Param #   \n",
            "=================================================================\n",
            "Conv_1 (Conv2D)              (None, 32, 32, 32)        896       \n",
            "_________________________________________________________________\n",
            "max_pooling2d (MaxPooling2D) (None, 16, 16, 32)        0         \n",
            "_________________________________________________________________\n",
            "Conv_2 (Conv2D)              (None, 16, 16, 128)       36992     \n",
            "_________________________________________________________________\n",
            "max_pooling2d_1 (MaxPooling2 (None, 8, 8, 128)         0         \n",
            "_________________________________________________________________\n",
            "Conv_3 (Conv2D)              (None, 8, 8, 512)         590336    \n",
            "_________________________________________________________________\n",
            "global_average_pooling2d (Gl (None, 512)               0         \n",
            "_________________________________________________________________\n",
            "dense (Dense)                (None, 256)               131328    \n",
            "_________________________________________________________________\n",
            "dense_1 (Dense)              (None, 10)                2570      \n",
            "=================================================================\n",
            "Total params: 762,122\n",
            "Trainable params: 762,122\n",
            "Non-trainable params: 0\n",
            "_________________________________________________________________\n"
          ],
          "name": "stdout"
        }
      ]
    },
    {
      "cell_type": "code",
      "metadata": {
        "id": "lwcmruc46OYu",
        "colab_type": "code",
        "colab": {}
      },
      "source": [
        "model_c10.compile(loss='categorical_crossentropy', optimizer=Adam(), metrics=['categorical_accuracy'])"
      ],
      "execution_count": 0,
      "outputs": []
    },
    {
      "cell_type": "markdown",
      "metadata": {
        "id": "2IIbQ4dQ6h7H",
        "colab_type": "text"
      },
      "source": [
        "training"
      ]
    },
    {
      "cell_type": "code",
      "metadata": {
        "id": "Th6MeAgb6eG-",
        "colab_type": "code",
        "colab": {
          "base_uri": "https://localhost:8080/",
          "height": 357
        },
        "outputId": "e344428c-9550-40a6-be75-10098309850f"
      },
      "source": [
        "history_c10 = model_c10.fit(x_train, y_train, batch_size=256, epochs=10, validation_data=(x_test, y_test))"
      ],
      "execution_count": 9,
      "outputs": [
        {
          "output_type": "stream",
          "text": [
            "Epoch 1/10\n",
            "196/196 [==============================] - 6s 29ms/step - loss: 1.8658 - categorical_accuracy: 0.2978 - val_loss: 1.6145 - val_categorical_accuracy: 0.4019\n",
            "Epoch 2/10\n",
            "196/196 [==============================] - 5s 28ms/step - loss: 1.5707 - categorical_accuracy: 0.4218 - val_loss: 1.5072 - val_categorical_accuracy: 0.4488\n",
            "Epoch 3/10\n",
            "196/196 [==============================] - 5s 28ms/step - loss: 1.4206 - categorical_accuracy: 0.4816 - val_loss: 1.3660 - val_categorical_accuracy: 0.5008\n",
            "Epoch 4/10\n",
            "196/196 [==============================] - 5s 28ms/step - loss: 1.3009 - categorical_accuracy: 0.5290 - val_loss: 1.2498 - val_categorical_accuracy: 0.5428\n",
            "Epoch 5/10\n",
            "196/196 [==============================] - 5s 28ms/step - loss: 1.2061 - categorical_accuracy: 0.5655 - val_loss: 1.1833 - val_categorical_accuracy: 0.5670\n",
            "Epoch 6/10\n",
            "196/196 [==============================] - 5s 28ms/step - loss: 1.1515 - categorical_accuracy: 0.5877 - val_loss: 1.1343 - val_categorical_accuracy: 0.5902\n",
            "Epoch 7/10\n",
            "196/196 [==============================] - 5s 28ms/step - loss: 1.0789 - categorical_accuracy: 0.6138 - val_loss: 1.0718 - val_categorical_accuracy: 0.6216\n",
            "Epoch 8/10\n",
            "196/196 [==============================] - 5s 28ms/step - loss: 1.0471 - categorical_accuracy: 0.6296 - val_loss: 1.1367 - val_categorical_accuracy: 0.5980\n",
            "Epoch 9/10\n",
            "196/196 [==============================] - 5s 28ms/step - loss: 0.9878 - categorical_accuracy: 0.6502 - val_loss: 0.9719 - val_categorical_accuracy: 0.6630\n",
            "Epoch 10/10\n",
            "196/196 [==============================] - 5s 28ms/step - loss: 0.9516 - categorical_accuracy: 0.6620 - val_loss: 0.9513 - val_categorical_accuracy: 0.6631\n"
          ],
          "name": "stdout"
        }
      ]
    },
    {
      "cell_type": "code",
      "metadata": {
        "id": "2a4O4Ynk7DSD",
        "colab_type": "code",
        "colab": {}
      },
      "source": [
        "#save weights\n",
        "model_c10.save_weights('cifar10.h5')"
      ],
      "execution_count": 0,
      "outputs": []
    },
    {
      "cell_type": "markdown",
      "metadata": {
        "id": "EVY-ryLGPuvx",
        "colab_type": "text"
      },
      "source": [
        "模型預測: 預測資料集的準確率"
      ]
    },
    {
      "cell_type": "code",
      "metadata": {
        "id": "Q0ZiByh0Pvbo",
        "colab_type": "code",
        "colab": {
          "base_uri": "https://localhost:8080/",
          "height": 85
        },
        "outputId": "b052739b-144f-4679-88e6-9990d238cf09"
      },
      "source": [
        "model_c10.load_weights('cifar10.h5')\n",
        "\n",
        "score_train = model_c10.evaluate(x_train, y_train)\n",
        "score_test = model_c10.evaluate(x_test, y_test)\n",
        "\n",
        "print(f'Train Accuracy: {score_train[1]*100}')\n",
        "print(f'Test Accuracy: {score_test[1]*100}')"
      ],
      "execution_count": 11,
      "outputs": [
        {
          "output_type": "stream",
          "text": [
            "1563/1563 [==============================] - 5s 3ms/step - loss: 0.9118 - categorical_accuracy: 0.6785\n",
            "313/313 [==============================] - 1s 3ms/step - loss: 0.9513 - categorical_accuracy: 0.6631\n",
            "Train Accuracy: 67.84600019454956\n",
            "Test Accuracy: 66.3100004196167\n"
          ],
          "name": "stdout"
        }
      ]
    },
    {
      "cell_type": "markdown",
      "metadata": {
        "id": "MNxpWjUxQTdE",
        "colab_type": "text"
      },
      "source": [
        "### **Transfer Learning**"
      ]
    },
    {
      "cell_type": "markdown",
      "metadata": {
        "id": "_3lbq379QlGe",
        "colab_type": "text"
      },
      "source": [
        "data preprocessing: cifar100 dataset (50000筆32x32, 3 channel的圖片，但是有100個結果)\n"
      ]
    },
    {
      "cell_type": "code",
      "metadata": {
        "id": "Xyh2DIboQ6os",
        "colab_type": "code",
        "colab": {}
      },
      "source": [
        "(x_train1, y_train1), (x_test1, y_test1) = datasets.cifar100.load_data()"
      ],
      "execution_count": 0,
      "outputs": []
    },
    {
      "cell_type": "code",
      "metadata": {
        "id": "pE2QoVYdSGws",
        "colab_type": "code",
        "colab": {
          "base_uri": "https://localhost:8080/",
          "height": 51
        },
        "outputId": "9d8a3dc9-6f1d-4ccc-8e5c-f59685bb66f4"
      },
      "source": [
        "print(x_train1.shape)\n",
        "print(y_train1.shape)"
      ],
      "execution_count": 23,
      "outputs": [
        {
          "output_type": "stream",
          "text": [
            "(50000, 32, 32, 3)\n",
            "(50000, 1)\n"
          ],
          "name": "stdout"
        }
      ]
    },
    {
      "cell_type": "code",
      "metadata": {
        "id": "1QyjAf4kSfqm",
        "colab_type": "code",
        "colab": {
          "base_uri": "https://localhost:8080/",
          "height": 264
        },
        "outputId": "2f3849c4-2644-4d45-db41-0effe1ee6715"
      },
      "source": [
        "idx = np.random.randint(x_train1.shape[0])\n",
        "x_sample = x_train1[idx]\n",
        "y_sample = y_train1[idx].squeeze()\n",
        "\n",
        "plt.imshow(x_sample)\n",
        "plt.title(y_sample)\n",
        "plt.axis('off');"
      ],
      "execution_count": 25,
      "outputs": [
        {
          "output_type": "display_data",
          "data": {
            "image/png": "[encoded data removed]",
            "text/plain": [
              "<Figure size 432x288 with 1 Axes>"
            ]
          },
          "metadata": {
            "tags": [],
            "needs_background": "light"
          }
        }
      ]
    },
    {
      "cell_type": "code",
      "metadata": {
        "id": "wzsY6G9ISR7m",
        "colab_type": "code",
        "colab": {}
      },
      "source": [
        "#normalization\n",
        "x_train1 = x_train1 / x_train1.max()\n",
        "x_test1 = x_test1 / x_test1.max()\n",
        "#one-hot encoding\n",
        "y_train1 = to_categorical(y_train1, 100)\n",
        "y_test1 = to_categorical(y_test1, 100)"
      ],
      "execution_count": 0,
      "outputs": []
    },
    {
      "cell_type": "markdown",
      "metadata": {
        "id": "3cW67RksSq8-",
        "colab_type": "text"
      },
      "source": [
        "先建改過輸出的dense層，再加上前面訓練好的神經網路"
      ]
    },
    {
      "cell_type": "code",
      "metadata": {
        "id": "oQV7i9ALz0cB",
        "colab_type": "code",
        "colab": {}
      },
      "source": [
        "FC_layers_c100 = [Dense(units=512, activation='relu'),\n",
        "                  Dense(units=256, activation='relu'),\n",
        "                  Dense(units=100, activation='softmax')]"
      ],
      "execution_count": 0,
      "outputs": []
    },
    {
      "cell_type": "code",
      "metadata": {
        "id": "ZVUh4EBbhUgQ",
        "colab_type": "code",
        "colab": {
          "base_uri": "https://localhost:8080/",
          "height": 459
        },
        "outputId": "f737f435-a260-4e86-b943-a41b0244afb9"
      },
      "source": [
        "model_c100 = Sequential(CNN_layers+FC_layers_c100)\n",
        "model_c100.summary()"
      ],
      "execution_count": 28,
      "outputs": [
        {
          "output_type": "stream",
          "text": [
            "Model: \"sequential_1\"\n",
            "_________________________________________________________________\n",
            "Layer (type)                 Output Shape              Param #   \n",
            "=================================================================\n",
            "Conv_1 (Conv2D)              (None, 32, 32, 32)        896       \n",
            "_________________________________________________________________\n",
            "max_pooling2d (MaxPooling2D) (None, 16, 16, 32)        0         \n",
            "_________________________________________________________________\n",
            "Conv_2 (Conv2D)              (None, 16, 16, 128)       36992     \n",
            "_________________________________________________________________\n",
            "max_pooling2d_1 (MaxPooling2 (None, 8, 8, 128)         0         \n",
            "_________________________________________________________________\n",
            "Conv_3 (Conv2D)              (None, 8, 8, 512)         590336    \n",
            "_________________________________________________________________\n",
            "global_average_pooling2d (Gl (None, 512)               0         \n",
            "_________________________________________________________________\n",
            "dense_2 (Dense)              (None, 512)               262656    \n",
            "_________________________________________________________________\n",
            "dense_3 (Dense)              (None, 256)               131328    \n",
            "_________________________________________________________________\n",
            "dense_4 (Dense)              (None, 100)               25700     \n",
            "=================================================================\n",
            "Total params: 1,047,908\n",
            "Trainable params: 1,047,908\n",
            "Non-trainable params: 0\n",
            "_________________________________________________________________\n"
          ],
          "name": "stdout"
        }
      ]
    },
    {
      "cell_type": "code",
      "metadata": {
        "id": "cYO755-KisAc",
        "colab_type": "code",
        "colab": {}
      },
      "source": [
        "model_c100.compile(loss='categorical_crossentropy', optimizer=Adam(), metrics=['categorical_accuracy'])"
      ],
      "execution_count": 0,
      "outputs": []
    },
    {
      "cell_type": "markdown",
      "metadata": {
        "id": "T-Kt_mcsjMOw",
        "colab_type": "text"
      },
      "source": [
        "fine-tune"
      ]
    },
    {
      "cell_type": "code",
      "metadata": {
        "id": "HbLFPAvqitvT",
        "colab_type": "code",
        "colab": {}
      },
      "source": [
        "for layer in CNN_layers:\n",
        "    layer.trainable = True"
      ],
      "execution_count": 0,
      "outputs": []
    },
    {
      "cell_type": "code",
      "metadata": {
        "id": "RprGWygQjdEi",
        "colab_type": "code",
        "colab": {
          "base_uri": "https://localhost:8080/",
          "height": 357
        },
        "outputId": "3d7979b4-9484-4ac9-db88-dbe6053b0e18"
      },
      "source": [
        "history_c100 = model_c100.fit(x_train1, y_train1, batch_size=256, epochs=10, validation_data=(x_test1, y_test1))"
      ],
      "execution_count": 31,
      "outputs": [
        {
          "output_type": "stream",
          "text": [
            "Epoch 1/10\n",
            "196/196 [==============================] - 6s 29ms/step - loss: 3.6539 - categorical_accuracy: 0.1412 - val_loss: 3.2335 - val_categorical_accuracy: 0.2034\n",
            "Epoch 2/10\n",
            "196/196 [==============================] - 6s 28ms/step - loss: 3.0881 - categorical_accuracy: 0.2318 - val_loss: 3.0123 - val_categorical_accuracy: 0.2484\n",
            "Epoch 3/10\n",
            "196/196 [==============================] - 6s 28ms/step - loss: 2.8593 - categorical_accuracy: 0.2757 - val_loss: 2.7964 - val_categorical_accuracy: 0.2832\n",
            "Epoch 4/10\n",
            "196/196 [==============================] - 6s 28ms/step - loss: 2.6671 - categorical_accuracy: 0.3156 - val_loss: 2.6297 - val_categorical_accuracy: 0.3228\n",
            "Epoch 5/10\n",
            "196/196 [==============================] - 6s 28ms/step - loss: 2.5348 - categorical_accuracy: 0.3405 - val_loss: 2.5047 - val_categorical_accuracy: 0.3540\n",
            "Epoch 6/10\n",
            "196/196 [==============================] - 5s 28ms/step - loss: 2.4308 - categorical_accuracy: 0.3618 - val_loss: 2.6180 - val_categorical_accuracy: 0.3297\n",
            "Epoch 7/10\n",
            "196/196 [==============================] - 6s 28ms/step - loss: 2.3543 - categorical_accuracy: 0.3793 - val_loss: 2.4075 - val_categorical_accuracy: 0.3736\n",
            "Epoch 8/10\n",
            "196/196 [==============================] - 6s 28ms/step - loss: 2.2487 - categorical_accuracy: 0.4029 - val_loss: 2.3822 - val_categorical_accuracy: 0.3769\n",
            "Epoch 9/10\n",
            "196/196 [==============================] - 6s 28ms/step - loss: 2.1924 - categorical_accuracy: 0.4160 - val_loss: 2.3183 - val_categorical_accuracy: 0.3935\n",
            "Epoch 10/10\n",
            "196/196 [==============================] - 6s 28ms/step - loss: 2.1081 - categorical_accuracy: 0.4345 - val_loss: 2.1901 - val_categorical_accuracy: 0.4224\n"
          ],
          "name": "stdout"
        }
      ]
    },
    {
      "cell_type": "markdown",
      "metadata": {
        "id": "q9X-GXgVjrnn",
        "colab_type": "text"
      },
      "source": [
        "模型預測: 預測資料集的準確率"
      ]
    },
    {
      "cell_type": "code",
      "metadata": {
        "id": "Re5onisxjpct",
        "colab_type": "code",
        "colab": {
          "base_uri": "https://localhost:8080/",
          "height": 85
        },
        "outputId": "31328648-aaf7-496e-9651-afee0aadb661"
      },
      "source": [
        "score_train = model_c100.evaluate(x_train1, y_train1)\n",
        "score_test = model_c100.evaluate(x_test1, y_test1)\n",
        "\n",
        "print(f'Train Accuracy: {score_train[1]*100}')\n",
        "print(f'Test Accuracy: {score_test[1]*100}')"
      ],
      "execution_count": 32,
      "outputs": [
        {
          "output_type": "stream",
          "text": [
            "1563/1563 [==============================] - 6s 4ms/step - loss: 1.9821 - categorical_accuracy: 0.4659\n",
            "313/313 [==============================] - 1s 4ms/step - loss: 2.1901 - categorical_accuracy: 0.4224\n",
            "Train Accuracy: 46.58600091934204\n",
            "Test Accuracy: 42.239999771118164\n"
          ],
          "name": "stdout"
        }
      ]
    },
    {
      "cell_type": "markdown",
      "metadata": {
        "id": "_31qtSA4j1hD",
        "colab_type": "text"
      },
      "source": [
        "視覺比較"
      ]
    },
    {
      "cell_type": "code",
      "metadata": {
        "id": "nOe6Oulvj4G7",
        "colab_type": "code",
        "colab": {
          "base_uri": "https://localhost:8080/",
          "height": 573
        },
        "outputId": "5677d7cc-54be-4a46-a672-1ba69fd62c1f"
      },
      "source": [
        "plt.plot(history_c10.history['categorical_accuracy'])\n",
        "plt.plot(history_c100.history['categorical_accuracy'])\n",
        "plt.title('training data model accuracy')\n",
        "plt.xlabel('epochs')\n",
        "plt.legend(['CIFAR10(original model)', 'CIFAR100(transfer learning)'], loc='lower right')\n",
        "plt.show()\n",
        "plt.plot(history_c10.history['val_categorical_accuracy'])\n",
        "plt.plot(history_c100.history['val_categorical_accuracy'])\n",
        "plt.title('test data model accuracy')\n",
        "plt.xlabel('epochs')\n",
        "plt.legend(['CIFAR10(original model)', 'CIFAR100(transfer learning)'], loc='lower right')\n",
        "plt.show()"
      ],
      "execution_count": 36,
      "outputs": [
        {
          "output_type": "display_data",
          "data": {
            "image/png": "[encoded data removed]",
            "text/plain": [
              "<Figure size 432x288 with 1 Axes>"
            ]
          },
          "metadata": {
            "tags": [],
            "needs_background": "light"
          }
        },
        {
          "output_type": "display_data",
          "data": {
            "image/png": "[encoded data removed]",
            "text/plain": [
              "<Figure size 432x288 with 1 Axes>"
            ]
          },
          "metadata": {
            "tags": [],
            "needs_background": "light"
          }
        }
      ]
    }
  ]
}