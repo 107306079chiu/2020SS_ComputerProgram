{
 "cells": [
  {
   "cell_type": "code",
   "execution_count": 10,
   "metadata": {},
   "outputs": [
    {
     "name": "stdout",
     "output_type": "stream",
     "text": [
      "秒數: 3700\n",
      "1小時1分40秒\n"
     ]
    }
   ],
   "source": [
    "a = input('秒數: ')\n",
    "a = int(a)\n",
    "if(a<=60):\n",
    "    print(str(a) + '秒')\n",
    "elif(a<=3600):\n",
    "    b = a//60\n",
    "    c = a%60\n",
    "    print(str(b) + '分' + str(c) + '秒')\n",
    "else:\n",
    "    b = a//60\n",
    "    c = a%60\n",
    "    d = b//60\n",
    "    b = b%60\n",
    "    print(str(d) + '小時' + str(b) + '分' + str(c) + '秒')"
   ]
  },
  {
   "cell_type": "code",
   "execution_count": null,
   "metadata": {},
   "outputs": [],
   "source": []
  },
  {
   "cell_type": "code",
   "execution_count": null,
   "metadata": {},
   "outputs": [],
   "source": []
  },
  {
   "cell_type": "code",
   "execution_count": null,
   "metadata": {},
   "outputs": [],
   "source": []
  },
  {
   "cell_type": "code",
   "execution_count": null,
   "metadata": {},
   "outputs": [],
   "source": []
  }
 ],
 "metadata": {
  "kernelspec": {
   "display_name": "Python 3",
   "language": "python",
   "name": "python3"
  },
  "language_info": {
   "codemirror_mode": {
    "name": "ipython",
    "version": 3
   },
   "file_extension": ".py",
   "mimetype": "text/x-python",
   "name": "python",
   "nbconvert_exporter": "python",
   "pygments_lexer": "ipython3",
   "version": "3.7.4"
  }
 },
 "nbformat": 4,
 "nbformat_minor": 2
}
